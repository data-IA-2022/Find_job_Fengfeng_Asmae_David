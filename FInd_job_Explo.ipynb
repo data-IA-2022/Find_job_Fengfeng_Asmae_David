{
 "cells": [
  {
   "cell_type": "code",
   "execution_count": 18,
   "metadata": {},
   "outputs": [],
   "source": [
    "import pandas as pd\n",
    "import plotly.express as px"
   ]
  },
  {
   "cell_type": "code",
   "execution_count": 19,
   "metadata": {},
   "outputs": [
    {
     "data": {
      "text/plain": [
       "Intitulé du poste       object\n",
       "Date de publication     object\n",
       "lieu                    object\n",
       "competences             object\n",
       "Nom de la société       object\n",
       "Type de contrat         object\n",
       "salaire_minimum        float64\n",
       "salaire_maximum        float64\n",
       "dtype: object"
      ]
     },
     "execution_count": 19,
     "metadata": {},
     "output_type": "execute_result"
    }
   ],
   "source": [
    "data = pd.read_csv('clean_data.csv', sep=',')\n",
    "df = data.copy()\n",
    "df = df.drop('Unnamed: 0', axis=1)\n",
    "df.dtypes"
   ]
  },
  {
   "cell_type": "code",
   "execution_count": 20,
   "metadata": {},
   "outputs": [
    {
     "data": {
      "text/plain": [
       "Intitulé du poste      0.000000\n",
       "Date de publication    0.000000\n",
       "lieu                   0.000000\n",
       "competences            0.434783\n",
       "Nom de la société      0.869565\n",
       "Type de contrat        3.913043\n",
       "salaire_minimum        0.000000\n",
       "salaire_maximum        0.000000\n",
       "dtype: float64"
      ]
     },
     "execution_count": 20,
     "metadata": {},
     "output_type": "execute_result"
    }
   ],
   "source": [
    "df.isnull().mean() * 100"
   ]
  },
  {
   "cell_type": "code",
   "execution_count": 21,
   "metadata": {},
   "outputs": [
    {
     "data": {
      "text/plain": [
       "60000.0     0.878261\n",
       "70000.0     0.030435\n",
       "55000.0     0.026087\n",
       "50000.0     0.017391\n",
       "62000.0     0.013043\n",
       "65000.0     0.013043\n",
       "100000.0    0.008696\n",
       "45000.0     0.004348\n",
       "80000.0     0.004348\n",
       "56000.0     0.004348\n",
       "Name: salaire_maximum, dtype: float64"
      ]
     },
     "execution_count": 21,
     "metadata": {},
     "output_type": "execute_result"
    }
   ],
   "source": [
    "# Analyse Target : salaire minimum, salaire maximum\n",
    "df['salaire_maximum'].value_counts(normalize=True)"
   ]
  },
  {
   "cell_type": "code",
   "execution_count": 22,
   "metadata": {},
   "outputs": [
    {
     "data": {
      "text/plain": [
       "45000.0    0.852174\n",
       "40000.0    0.039130\n",
       "60000.0    0.034783\n",
       "38000.0    0.021739\n",
       "50000.0    0.013043\n",
       "70000.0    0.008696\n",
       "30000.0    0.008696\n",
       "55000.0    0.004348\n",
       "35000.0    0.004348\n",
       "42000.0    0.004348\n",
       "57000.0    0.004348\n",
       "65000.0    0.004348\n",
       "Name: salaire_minimum, dtype: float64"
      ]
     },
     "execution_count": 22,
     "metadata": {},
     "output_type": "execute_result"
    }
   ],
   "source": [
    "df['salaire_minimum'].value_counts(normalize=True)"
   ]
  },
  {
   "cell_type": "code",
   "execution_count": null,
   "metadata": {},
   "outputs": [],
   "source": [
    "for col in df.dtypes('float'):\n",
    "    fig = px.histogram(df[col])"
   ]
  }
 ],
 "metadata": {
  "kernelspec": {
   "display_name": "base",
   "language": "python",
   "name": "python3"
  },
  "language_info": {
   "codemirror_mode": {
    "name": "ipython",
    "version": 3
   },
   "file_extension": ".py",
   "mimetype": "text/x-python",
   "name": "python",
   "nbconvert_exporter": "python",
   "pygments_lexer": "ipython3",
   "version": "3.9.13"
  },
  "orig_nbformat": 4,
  "vscode": {
   "interpreter": {
    "hash": "70cfd609d7ba4145b3fedff821ecc63fd4c765afddbe882b67e97f0bba880cb4"
   }
  }
 },
 "nbformat": 4,
 "nbformat_minor": 2
}
