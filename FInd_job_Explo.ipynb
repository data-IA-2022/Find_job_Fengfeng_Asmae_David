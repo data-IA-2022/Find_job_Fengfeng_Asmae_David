{
 "cells": [
  {
   "cell_type": "code",
   "execution_count": 2,
   "metadata": {},
   "outputs": [],
   "source": [
    "import pandas as pd\n",
    "import numpy as np\n",
    "import plotly.express as px\n",
    "import plotly.graph_objects as go\n",
    "from sklearn.feature_extraction.text import CountVectorizer"
   ]
  },
  {
   "cell_type": "code",
   "execution_count": 3,
   "metadata": {},
   "outputs": [
    {
     "data": {
      "text/html": [
       "<div>\n",
       "<style scoped>\n",
       "    .dataframe tbody tr th:only-of-type {\n",
       "        vertical-align: middle;\n",
       "    }\n",
       "\n",
       "    .dataframe tbody tr th {\n",
       "        vertical-align: top;\n",
       "    }\n",
       "\n",
       "    .dataframe thead th {\n",
       "        text-align: right;\n",
       "    }\n",
       "</style>\n",
       "<table border=\"1\" class=\"dataframe\">\n",
       "  <thead>\n",
       "    <tr style=\"text-align: right;\">\n",
       "      <th></th>\n",
       "      <th>Intitulé du poste</th>\n",
       "      <th>Date de publication</th>\n",
       "      <th>lieu</th>\n",
       "      <th>competences</th>\n",
       "      <th>salaire_minimum</th>\n",
       "      <th>salaire_maximum</th>\n",
       "      <th>Nom de la société</th>\n",
       "      <th>Type de contrat</th>\n",
       "    </tr>\n",
       "  </thead>\n",
       "  <tbody>\n",
       "    <tr>\n",
       "      <th>0</th>\n",
       "      <td>data analyst</td>\n",
       "      <td>2022-12-31</td>\n",
       "      <td>maisons alfort</td>\n",
       "      <td>support, sql, data management, business object...</td>\n",
       "      <td>45000.0</td>\n",
       "      <td>50000.0</td>\n",
       "      <td>fed it</td>\n",
       "      <td>cdd</td>\n",
       "    </tr>\n",
       "    <tr>\n",
       "      <th>1</th>\n",
       "      <td>data analyst</td>\n",
       "      <td>2022-12-18</td>\n",
       "      <td>paris</td>\n",
       "      <td>data management, business intelligence, bases ...</td>\n",
       "      <td>60000.0</td>\n",
       "      <td>62000.0</td>\n",
       "      <td>fed it</td>\n",
       "      <td>cdi</td>\n",
       "    </tr>\n",
       "    <tr>\n",
       "      <th>2</th>\n",
       "      <td>data scientist</td>\n",
       "      <td>2022-12-18</td>\n",
       "      <td>rueil malmaison</td>\n",
       "      <td>marketing, data management, support</td>\n",
       "      <td>60000.0</td>\n",
       "      <td>65000.0</td>\n",
       "      <td>fed it</td>\n",
       "      <td>cdi</td>\n",
       "    </tr>\n",
       "    <tr>\n",
       "      <th>3</th>\n",
       "      <td>consultant</td>\n",
       "      <td>2023-01-13</td>\n",
       "      <td>paris</td>\n",
       "      <td>big data, oracle, cloud, sap, python</td>\n",
       "      <td>60000.0</td>\n",
       "      <td>70000.0</td>\n",
       "      <td>selescope</td>\n",
       "      <td>NaN</td>\n",
       "    </tr>\n",
       "    <tr>\n",
       "      <th>4</th>\n",
       "      <td>chef de projet</td>\n",
       "      <td>2023-01-10</td>\n",
       "      <td>gennevilliers</td>\n",
       "      <td>marketing, outils, digital, ux, mobile</td>\n",
       "      <td>60000.0</td>\n",
       "      <td>70000.0</td>\n",
       "      <td>hays france</td>\n",
       "      <td>cdi</td>\n",
       "    </tr>\n",
       "    <tr>\n",
       "      <th>5</th>\n",
       "      <td>autres</td>\n",
       "      <td>2023-01-15</td>\n",
       "      <td>boulogne-billancourt</td>\n",
       "      <td>si, data management, data quality, méthodologi...</td>\n",
       "      <td>55000.0</td>\n",
       "      <td>60000.0</td>\n",
       "      <td>michael page</td>\n",
       "      <td>cdi</td>\n",
       "    </tr>\n",
       "    <tr>\n",
       "      <th>6</th>\n",
       "      <td>business analyst</td>\n",
       "      <td>2022-12-17</td>\n",
       "      <td>suresnes</td>\n",
       "      <td>business intelligence, crm, intelligence artif...</td>\n",
       "      <td>70000.0</td>\n",
       "      <td>100000.0</td>\n",
       "      <td>selescope</td>\n",
       "      <td>NaN</td>\n",
       "    </tr>\n",
       "    <tr>\n",
       "      <th>7</th>\n",
       "      <td>business analyst</td>\n",
       "      <td>2022-12-27</td>\n",
       "      <td>suresnes</td>\n",
       "      <td>intelligence artificielle, business intelligen...</td>\n",
       "      <td>70000.0</td>\n",
       "      <td>100000.0</td>\n",
       "      <td>selescope</td>\n",
       "      <td>NaN</td>\n",
       "    </tr>\n",
       "    <tr>\n",
       "      <th>8</th>\n",
       "      <td>business analyst</td>\n",
       "      <td>2013-01-14</td>\n",
       "      <td>rueil malmaison</td>\n",
       "      <td>business intelligence, marketing, intelligence...</td>\n",
       "      <td>35000.0</td>\n",
       "      <td>45000.0</td>\n",
       "      <td>fed it</td>\n",
       "      <td>cdi</td>\n",
       "    </tr>\n",
       "    <tr>\n",
       "      <th>9</th>\n",
       "      <td>data scientist</td>\n",
       "      <td>2022-12-17</td>\n",
       "      <td>paris</td>\n",
       "      <td>machine learning, méthodologie, agile</td>\n",
       "      <td>45000.0</td>\n",
       "      <td>70000.0</td>\n",
       "      <td>key consulting</td>\n",
       "      <td>cdi</td>\n",
       "    </tr>\n",
       "    <tr>\n",
       "      <th>10</th>\n",
       "      <td>business analyst</td>\n",
       "      <td>2022-12-29</td>\n",
       "      <td>paris</td>\n",
       "      <td>recette, si, big data, intelligence artificielle</td>\n",
       "      <td>50000.0</td>\n",
       "      <td>80000.0</td>\n",
       "      <td>mr search</td>\n",
       "      <td>cdi</td>\n",
       "    </tr>\n",
       "    <tr>\n",
       "      <th>11</th>\n",
       "      <td>chef de projet</td>\n",
       "      <td>2022-12-25</td>\n",
       "      <td>paris</td>\n",
       "      <td>agile</td>\n",
       "      <td>30000.0</td>\n",
       "      <td>60000.0</td>\n",
       "      <td>nexton consulting</td>\n",
       "      <td>cdi</td>\n",
       "    </tr>\n",
       "    <tr>\n",
       "      <th>12</th>\n",
       "      <td>data analyst</td>\n",
       "      <td>2022-12-31</td>\n",
       "      <td>maisons alfort</td>\n",
       "      <td>support, sql, data management, business object...</td>\n",
       "      <td>45000.0</td>\n",
       "      <td>50000.0</td>\n",
       "      <td>fed it</td>\n",
       "      <td>cdd</td>\n",
       "    </tr>\n",
       "    <tr>\n",
       "      <th>13</th>\n",
       "      <td>data analyst</td>\n",
       "      <td>2022-12-18</td>\n",
       "      <td>paris</td>\n",
       "      <td>data management, business intelligence, bases ...</td>\n",
       "      <td>60000.0</td>\n",
       "      <td>62000.0</td>\n",
       "      <td>fed it</td>\n",
       "      <td>cdi</td>\n",
       "    </tr>\n",
       "    <tr>\n",
       "      <th>14</th>\n",
       "      <td>data scientist</td>\n",
       "      <td>2022-12-18</td>\n",
       "      <td>rueil malmaison</td>\n",
       "      <td>marketing, data management, support</td>\n",
       "      <td>60000.0</td>\n",
       "      <td>65000.0</td>\n",
       "      <td>fed it</td>\n",
       "      <td>cdi</td>\n",
       "    </tr>\n",
       "    <tr>\n",
       "      <th>15</th>\n",
       "      <td>consultant</td>\n",
       "      <td>2023-01-13</td>\n",
       "      <td>paris</td>\n",
       "      <td>big data, oracle, cloud, sap, python</td>\n",
       "      <td>60000.0</td>\n",
       "      <td>70000.0</td>\n",
       "      <td>selescope</td>\n",
       "      <td>NaN</td>\n",
       "    </tr>\n",
       "    <tr>\n",
       "      <th>16</th>\n",
       "      <td>chef de projet</td>\n",
       "      <td>2023-01-10</td>\n",
       "      <td>gennevilliers</td>\n",
       "      <td>marketing, outils, digital, ux, mobile</td>\n",
       "      <td>60000.0</td>\n",
       "      <td>70000.0</td>\n",
       "      <td>hays france</td>\n",
       "      <td>cdi</td>\n",
       "    </tr>\n",
       "    <tr>\n",
       "      <th>17</th>\n",
       "      <td>engineer</td>\n",
       "      <td>2013-01-14</td>\n",
       "      <td>paris</td>\n",
       "      <td>sécurité, securité, réseaux, lan, support</td>\n",
       "      <td>45000.0</td>\n",
       "      <td>60000.0</td>\n",
       "      <td>uniware global services</td>\n",
       "      <td>cdi</td>\n",
       "    </tr>\n",
       "    <tr>\n",
       "      <th>18</th>\n",
       "      <td>engineer</td>\n",
       "      <td>2013-01-14</td>\n",
       "      <td>neuilly sur seine</td>\n",
       "      <td>devops, jenkins, outils, linux, infrastructure</td>\n",
       "      <td>42000.0</td>\n",
       "      <td>60000.0</td>\n",
       "      <td>uniware global services</td>\n",
       "      <td>cdi</td>\n",
       "    </tr>\n",
       "    <tr>\n",
       "      <th>19</th>\n",
       "      <td>engineer</td>\n",
       "      <td>2013-01-14</td>\n",
       "      <td>neuilly sur seine</td>\n",
       "      <td>support, vmware, python, javascript, securité</td>\n",
       "      <td>40000.0</td>\n",
       "      <td>55000.0</td>\n",
       "      <td>uniware global services</td>\n",
       "      <td>cdi</td>\n",
       "    </tr>\n",
       "    <tr>\n",
       "      <th>20</th>\n",
       "      <td>autres</td>\n",
       "      <td>2023-01-08</td>\n",
       "      <td>lisses</td>\n",
       "      <td>support, communication, big data, cloud, hadoop</td>\n",
       "      <td>57000.0</td>\n",
       "      <td>62000.0</td>\n",
       "      <td>fed it</td>\n",
       "      <td>cdi</td>\n",
       "    </tr>\n",
       "    <tr>\n",
       "      <th>21</th>\n",
       "      <td>engineer</td>\n",
       "      <td>2013-01-14</td>\n",
       "      <td>neuilly sur seine</td>\n",
       "      <td>vmware, support, windows, microsoft, système</td>\n",
       "      <td>40000.0</td>\n",
       "      <td>55000.0</td>\n",
       "      <td>uniware global services</td>\n",
       "      <td>cdi</td>\n",
       "    </tr>\n",
       "    <tr>\n",
       "      <th>22</th>\n",
       "      <td>engineer</td>\n",
       "      <td>2013-01-14</td>\n",
       "      <td>paris</td>\n",
       "      <td>cloud, saas, paas, iaas, infrastructure</td>\n",
       "      <td>40000.0</td>\n",
       "      <td>60000.0</td>\n",
       "      <td>uniware global services</td>\n",
       "      <td>cdi</td>\n",
       "    </tr>\n",
       "    <tr>\n",
       "      <th>23</th>\n",
       "      <td>engineer</td>\n",
       "      <td>2013-01-14</td>\n",
       "      <td>paris</td>\n",
       "      <td>windows, unix, cft, réseaux, outils</td>\n",
       "      <td>40000.0</td>\n",
       "      <td>60000.0</td>\n",
       "      <td>uniware global services</td>\n",
       "      <td>cdi</td>\n",
       "    </tr>\n",
       "    <tr>\n",
       "      <th>24</th>\n",
       "      <td>engineer</td>\n",
       "      <td>2013-01-14</td>\n",
       "      <td>paris</td>\n",
       "      <td>réseau, cisco, réseaux, sécurité, securité</td>\n",
       "      <td>40000.0</td>\n",
       "      <td>60000.0</td>\n",
       "      <td>uniware global services</td>\n",
       "      <td>cdi</td>\n",
       "    </tr>\n",
       "    <tr>\n",
       "      <th>25</th>\n",
       "      <td>developer</td>\n",
       "      <td>2022-12-19</td>\n",
       "      <td>paris 9ème (75)</td>\n",
       "      <td>vba, web, langage, t-sql, sql</td>\n",
       "      <td>30000.0</td>\n",
       "      <td>50000.0</td>\n",
       "      <td>synchrone</td>\n",
       "      <td>cdi</td>\n",
       "    </tr>\n",
       "    <tr>\n",
       "      <th>26</th>\n",
       "      <td>engineer</td>\n",
       "      <td>2023-01-12</td>\n",
       "      <td>paris</td>\n",
       "      <td>middleware, support, infrastructure, optimisat...</td>\n",
       "      <td>45000.0</td>\n",
       "      <td>60000.0</td>\n",
       "      <td>uniware global services</td>\n",
       "      <td>cdi</td>\n",
       "    </tr>\n",
       "    <tr>\n",
       "      <th>27</th>\n",
       "      <td>architect</td>\n",
       "      <td>2023-01-12</td>\n",
       "      <td>paris</td>\n",
       "      <td>infrastructure, support, si, système</td>\n",
       "      <td>40000.0</td>\n",
       "      <td>60000.0</td>\n",
       "      <td>uniware global services</td>\n",
       "      <td>cdi</td>\n",
       "    </tr>\n",
       "    <tr>\n",
       "      <th>28</th>\n",
       "      <td>engineer</td>\n",
       "      <td>2023-01-12</td>\n",
       "      <td>paris</td>\n",
       "      <td>cloud, support, python, paas, securité</td>\n",
       "      <td>38000.0</td>\n",
       "      <td>56000.0</td>\n",
       "      <td>uniware global services</td>\n",
       "      <td>cdi</td>\n",
       "    </tr>\n",
       "    <tr>\n",
       "      <th>29</th>\n",
       "      <td>architect</td>\n",
       "      <td>2013-01-14</td>\n",
       "      <td>paris</td>\n",
       "      <td>poste de travail, microsoft, support, cloud, i...</td>\n",
       "      <td>50000.0</td>\n",
       "      <td>70000.0</td>\n",
       "      <td>uniware global services</td>\n",
       "      <td>cdi</td>\n",
       "    </tr>\n",
       "    <tr>\n",
       "      <th>30</th>\n",
       "      <td>engineer</td>\n",
       "      <td>2023-01-12</td>\n",
       "      <td>paris</td>\n",
       "      <td>cloud, securité, devops, sécurité, si</td>\n",
       "      <td>50000.0</td>\n",
       "      <td>60000.0</td>\n",
       "      <td>uniware global services</td>\n",
       "      <td>cdi</td>\n",
       "    </tr>\n",
       "    <tr>\n",
       "      <th>31</th>\n",
       "      <td>engineer</td>\n",
       "      <td>2023-01-12</td>\n",
       "      <td>paris</td>\n",
       "      <td>réseaux, sécurité, securité, infrastructure, wan</td>\n",
       "      <td>38000.0</td>\n",
       "      <td>55000.0</td>\n",
       "      <td>uniware global services</td>\n",
       "      <td>cdi</td>\n",
       "    </tr>\n",
       "    <tr>\n",
       "      <th>32</th>\n",
       "      <td>engineer</td>\n",
       "      <td>2023-01-12</td>\n",
       "      <td>paris</td>\n",
       "      <td>linux, unix, windows, hp, infrastructure</td>\n",
       "      <td>38000.0</td>\n",
       "      <td>55000.0</td>\n",
       "      <td>uniware global services</td>\n",
       "      <td>cdi</td>\n",
       "    </tr>\n",
       "    <tr>\n",
       "      <th>33</th>\n",
       "      <td>engineer</td>\n",
       "      <td>2022-12-26</td>\n",
       "      <td>paris</td>\n",
       "      <td>devops, outils, linux, infrastructure, jenkins</td>\n",
       "      <td>40000.0</td>\n",
       "      <td>60000.0</td>\n",
       "      <td>uniware global services</td>\n",
       "      <td>cdi</td>\n",
       "    </tr>\n",
       "    <tr>\n",
       "      <th>34</th>\n",
       "      <td>engineer</td>\n",
       "      <td>2013-01-14</td>\n",
       "      <td>neuilly-sur-seine</td>\n",
       "      <td>cloud, devops, sécurité, securité, sql server</td>\n",
       "      <td>45000.0</td>\n",
       "      <td>60000.0</td>\n",
       "      <td>uniware global services</td>\n",
       "      <td>cdi</td>\n",
       "    </tr>\n",
       "    <tr>\n",
       "      <th>35</th>\n",
       "      <td>developer</td>\n",
       "      <td>2022-12-25</td>\n",
       "      <td>paris 09 (75)</td>\n",
       "      <td>java, j2ee, web, jboss, sécurité</td>\n",
       "      <td>45000.0</td>\n",
       "      <td>65000.0</td>\n",
       "      <td>synchrone</td>\n",
       "      <td>cdi</td>\n",
       "    </tr>\n",
       "    <tr>\n",
       "      <th>36</th>\n",
       "      <td>engineer</td>\n",
       "      <td>2013-01-14</td>\n",
       "      <td>neuilly sur seine</td>\n",
       "      <td>cloud, web, devops, python, infrastructure</td>\n",
       "      <td>40000.0</td>\n",
       "      <td>60000.0</td>\n",
       "      <td>uniware global services</td>\n",
       "      <td>cdi</td>\n",
       "    </tr>\n",
       "    <tr>\n",
       "      <th>37</th>\n",
       "      <td>developer</td>\n",
       "      <td>2022-12-25</td>\n",
       "      <td>paris 09 (75)</td>\n",
       "      <td>angularjs, agile, web, framework, outils</td>\n",
       "      <td>30000.0</td>\n",
       "      <td>50000.0</td>\n",
       "      <td>synchrone</td>\n",
       "      <td>cdi</td>\n",
       "    </tr>\n",
       "    <tr>\n",
       "      <th>38</th>\n",
       "      <td>expert</td>\n",
       "      <td>2013-01-14</td>\n",
       "      <td>paris</td>\n",
       "      <td>middleware, weblogic, unix, support, tomcat</td>\n",
       "      <td>40000.0</td>\n",
       "      <td>60000.0</td>\n",
       "      <td>uniware global services</td>\n",
       "      <td>cdi</td>\n",
       "    </tr>\n",
       "    <tr>\n",
       "      <th>39</th>\n",
       "      <td>engineer</td>\n",
       "      <td>2023-01-12</td>\n",
       "      <td>paris</td>\n",
       "      <td>linux, unix, système, infrastructure, support</td>\n",
       "      <td>38000.0</td>\n",
       "      <td>55000.0</td>\n",
       "      <td>uniware global services</td>\n",
       "      <td>cdi</td>\n",
       "    </tr>\n",
       "    <tr>\n",
       "      <th>40</th>\n",
       "      <td>autres</td>\n",
       "      <td>2022-12-18</td>\n",
       "      <td>paris</td>\n",
       "      <td>web, spring, si, sécurité, digital</td>\n",
       "      <td>65000.0</td>\n",
       "      <td>70000.0</td>\n",
       "      <td>mr search</td>\n",
       "      <td>cdi</td>\n",
       "    </tr>\n",
       "    <tr>\n",
       "      <th>41</th>\n",
       "      <td>engineer</td>\n",
       "      <td>2022-12-18</td>\n",
       "      <td>nanterre</td>\n",
       "      <td>système, windows, microsoft, cloud, maintenance</td>\n",
       "      <td>45000.0</td>\n",
       "      <td>55000.0</td>\n",
       "      <td>experteam</td>\n",
       "      <td>cdi</td>\n",
       "    </tr>\n",
       "    <tr>\n",
       "      <th>42</th>\n",
       "      <td>data scientist</td>\n",
       "      <td>2022-12-30</td>\n",
       "      <td>neuilly sur seine</td>\n",
       "      <td>nosql, unix, java, machine learning, linux</td>\n",
       "      <td>38000.0</td>\n",
       "      <td>50000.0</td>\n",
       "      <td>beezen</td>\n",
       "      <td>cdi</td>\n",
       "    </tr>\n",
       "  </tbody>\n",
       "</table>\n",
       "</div>"
      ],
      "text/plain": [
       "   Intitulé du poste Date de publication                  lieu  \\\n",
       "0       data analyst          2022-12-31        maisons alfort   \n",
       "1       data analyst          2022-12-18                 paris   \n",
       "2     data scientist          2022-12-18       rueil malmaison   \n",
       "3         consultant          2023-01-13                 paris   \n",
       "4     chef de projet          2023-01-10         gennevilliers   \n",
       "5             autres          2023-01-15  boulogne-billancourt   \n",
       "6   business analyst          2022-12-17              suresnes   \n",
       "7   business analyst          2022-12-27              suresnes   \n",
       "8   business analyst          2013-01-14       rueil malmaison   \n",
       "9     data scientist          2022-12-17                 paris   \n",
       "10  business analyst          2022-12-29                 paris   \n",
       "11    chef de projet          2022-12-25                 paris   \n",
       "12      data analyst          2022-12-31        maisons alfort   \n",
       "13      data analyst          2022-12-18                 paris   \n",
       "14    data scientist          2022-12-18       rueil malmaison   \n",
       "15        consultant          2023-01-13                 paris   \n",
       "16    chef de projet          2023-01-10         gennevilliers   \n",
       "17          engineer          2013-01-14                 paris   \n",
       "18          engineer          2013-01-14     neuilly sur seine   \n",
       "19          engineer          2013-01-14     neuilly sur seine   \n",
       "20            autres          2023-01-08                lisses   \n",
       "21          engineer          2013-01-14     neuilly sur seine   \n",
       "22          engineer          2013-01-14                 paris   \n",
       "23          engineer          2013-01-14                 paris   \n",
       "24          engineer          2013-01-14                 paris   \n",
       "25         developer          2022-12-19       paris 9ème (75)   \n",
       "26          engineer          2023-01-12                 paris   \n",
       "27         architect          2023-01-12                 paris   \n",
       "28          engineer          2023-01-12                 paris   \n",
       "29         architect          2013-01-14                 paris   \n",
       "30          engineer          2023-01-12                 paris   \n",
       "31          engineer          2023-01-12                 paris   \n",
       "32          engineer          2023-01-12                 paris   \n",
       "33          engineer          2022-12-26                 paris   \n",
       "34          engineer          2013-01-14     neuilly-sur-seine   \n",
       "35         developer          2022-12-25         paris 09 (75)   \n",
       "36          engineer          2013-01-14     neuilly sur seine   \n",
       "37         developer          2022-12-25         paris 09 (75)   \n",
       "38            expert          2013-01-14                 paris   \n",
       "39          engineer          2023-01-12                 paris   \n",
       "40            autres          2022-12-18                 paris   \n",
       "41          engineer          2022-12-18              nanterre   \n",
       "42    data scientist          2022-12-30     neuilly sur seine   \n",
       "\n",
       "                                          competences  salaire_minimum  \\\n",
       "0   support, sql, data management, business object...          45000.0   \n",
       "1   data management, business intelligence, bases ...          60000.0   \n",
       "2                 marketing, data management, support          60000.0   \n",
       "3                big data, oracle, cloud, sap, python          60000.0   \n",
       "4              marketing, outils, digital, ux, mobile          60000.0   \n",
       "5   si, data management, data quality, méthodologi...          55000.0   \n",
       "6   business intelligence, crm, intelligence artif...          70000.0   \n",
       "7   intelligence artificielle, business intelligen...          70000.0   \n",
       "8   business intelligence, marketing, intelligence...          35000.0   \n",
       "9               machine learning, méthodologie, agile          45000.0   \n",
       "10   recette, si, big data, intelligence artificielle          50000.0   \n",
       "11                                              agile          30000.0   \n",
       "12  support, sql, data management, business object...          45000.0   \n",
       "13  data management, business intelligence, bases ...          60000.0   \n",
       "14                marketing, data management, support          60000.0   \n",
       "15               big data, oracle, cloud, sap, python          60000.0   \n",
       "16             marketing, outils, digital, ux, mobile          60000.0   \n",
       "17          sécurité, securité, réseaux, lan, support          45000.0   \n",
       "18     devops, jenkins, outils, linux, infrastructure          42000.0   \n",
       "19      support, vmware, python, javascript, securité          40000.0   \n",
       "20    support, communication, big data, cloud, hadoop          57000.0   \n",
       "21       vmware, support, windows, microsoft, système          40000.0   \n",
       "22            cloud, saas, paas, iaas, infrastructure          40000.0   \n",
       "23                windows, unix, cft, réseaux, outils          40000.0   \n",
       "24         réseau, cisco, réseaux, sécurité, securité          40000.0   \n",
       "25                      vba, web, langage, t-sql, sql          30000.0   \n",
       "26  middleware, support, infrastructure, optimisat...          45000.0   \n",
       "27               infrastructure, support, si, système          40000.0   \n",
       "28             cloud, support, python, paas, securité          38000.0   \n",
       "29  poste de travail, microsoft, support, cloud, i...          50000.0   \n",
       "30              cloud, securité, devops, sécurité, si          50000.0   \n",
       "31   réseaux, sécurité, securité, infrastructure, wan          38000.0   \n",
       "32           linux, unix, windows, hp, infrastructure          38000.0   \n",
       "33     devops, outils, linux, infrastructure, jenkins          40000.0   \n",
       "34      cloud, devops, sécurité, securité, sql server          45000.0   \n",
       "35                   java, j2ee, web, jboss, sécurité          45000.0   \n",
       "36         cloud, web, devops, python, infrastructure          40000.0   \n",
       "37           angularjs, agile, web, framework, outils          30000.0   \n",
       "38        middleware, weblogic, unix, support, tomcat          40000.0   \n",
       "39      linux, unix, système, infrastructure, support          38000.0   \n",
       "40                 web, spring, si, sécurité, digital          65000.0   \n",
       "41    système, windows, microsoft, cloud, maintenance          45000.0   \n",
       "42         nosql, unix, java, machine learning, linux          38000.0   \n",
       "\n",
       "    salaire_maximum        Nom de la société Type de contrat  \n",
       "0           50000.0                   fed it             cdd  \n",
       "1           62000.0                   fed it             cdi  \n",
       "2           65000.0                   fed it             cdi  \n",
       "3           70000.0                selescope             NaN  \n",
       "4           70000.0              hays france             cdi  \n",
       "5           60000.0             michael page             cdi  \n",
       "6          100000.0                selescope             NaN  \n",
       "7          100000.0                selescope             NaN  \n",
       "8           45000.0                   fed it             cdi  \n",
       "9           70000.0           key consulting             cdi  \n",
       "10          80000.0                mr search             cdi  \n",
       "11          60000.0        nexton consulting             cdi  \n",
       "12          50000.0                   fed it             cdd  \n",
       "13          62000.0                   fed it             cdi  \n",
       "14          65000.0                   fed it             cdi  \n",
       "15          70000.0                selescope             NaN  \n",
       "16          70000.0              hays france             cdi  \n",
       "17          60000.0  uniware global services             cdi  \n",
       "18          60000.0  uniware global services             cdi  \n",
       "19          55000.0  uniware global services             cdi  \n",
       "20          62000.0                   fed it             cdi  \n",
       "21          55000.0  uniware global services             cdi  \n",
       "22          60000.0  uniware global services             cdi  \n",
       "23          60000.0  uniware global services             cdi  \n",
       "24          60000.0  uniware global services             cdi  \n",
       "25          50000.0                synchrone             cdi  \n",
       "26          60000.0  uniware global services             cdi  \n",
       "27          60000.0  uniware global services             cdi  \n",
       "28          56000.0  uniware global services             cdi  \n",
       "29          70000.0  uniware global services             cdi  \n",
       "30          60000.0  uniware global services             cdi  \n",
       "31          55000.0  uniware global services             cdi  \n",
       "32          55000.0  uniware global services             cdi  \n",
       "33          60000.0  uniware global services             cdi  \n",
       "34          60000.0  uniware global services             cdi  \n",
       "35          65000.0                synchrone             cdi  \n",
       "36          60000.0  uniware global services             cdi  \n",
       "37          50000.0                synchrone             cdi  \n",
       "38          60000.0  uniware global services             cdi  \n",
       "39          55000.0  uniware global services             cdi  \n",
       "40          70000.0                mr search             cdi  \n",
       "41          55000.0                experteam             cdi  \n",
       "42          50000.0                   beezen             cdi  "
      ]
     },
     "execution_count": 3,
     "metadata": {},
     "output_type": "execute_result"
    }
   ],
   "source": [
    "data = pd.read_csv('clean_data.csv', sep=',')\n",
    "df = data.copy()\n",
    "df = df.drop('Unnamed: 0', axis=1)\n",
    "df"
   ]
  },
  {
   "cell_type": "code",
   "execution_count": 4,
   "metadata": {},
   "outputs": [
    {
     "data": {
      "text/plain": [
       "engineer            17\n",
       "data analyst         4\n",
       "data scientist       4\n",
       "business analyst     4\n",
       "chef de projet       3\n",
       "autres               3\n",
       "developer            3\n",
       "consultant           2\n",
       "architect            2\n",
       "expert               1\n",
       "Name: Intitulé du poste, dtype: int64"
      ]
     },
     "execution_count": 4,
     "metadata": {},
     "output_type": "execute_result"
    }
   ],
   "source": [
    "df.isnull().mean() * 100\n",
    "df['Intitulé du poste'].value_counts()"
   ]
  },
  {
   "cell_type": "code",
   "execution_count": 10,
   "metadata": {},
   "outputs": [
    {
     "data": {
      "text/plain": [
       "Index(['agile', 'angularjs', 'artificielle', 'bases', 'big', 'business', 'cft',\n",
       "       'cisco', 'cloud', 'communication', 'crm', 'data', 'de', 'devops',\n",
       "       'digital', 'données', 'framework', 'hadoop', 'hp', 'iaas',\n",
       "       'infrastructure', 'intelligence', 'j2ee', 'java', 'javascript', 'jboss',\n",
       "       'jenkins', 'lan', 'langage', 'learning', 'linux', 'machine',\n",
       "       'maintenance', 'management', 'marketing', 'microsoft', 'middleware',\n",
       "       'mobile', 'méthodologie', 'nosql', 'objects', 'optimisation', 'oracle',\n",
       "       'outils', 'paas', 'poste', 'python', 'quality', 'recette', 'réseau',\n",
       "       'réseaux', 'saas', 'sap', 'securité', 'server', 'si', 'spring', 'sql',\n",
       "       'support', 'système', 'sécurité', 'tomcat', 'travail', 'unix', 'ux',\n",
       "       'vba', 'vmware', 'wan', 'web', 'weblogic', 'windows',\n",
       "       'Intitulé du poste'],\n",
       "      dtype='object')"
      ]
     },
     "execution_count": 10,
     "metadata": {},
     "output_type": "execute_result"
    }
   ],
   "source": [
    "cv = CountVectorizer()\n",
    "comp_tf = cv.fit_transform(df['competences']).toarray()\n",
    "comp_tf = pd.DataFrame(data = comp_tf, columns = cv.get_feature_names_out()) # permet d'obtenir un df avec les bons noms de colonne\n",
    "names_comp = comp_tf.columns\n",
    "comp_tf['Intitulé du poste'] = df['Intitulé du poste']\n",
    "comp_tf.columns"
   ]
  },
  {
   "cell_type": "code",
   "execution_count": 6,
   "metadata": {},
   "outputs": [
    {
     "data": {
      "application/vnd.plotly.v1+json": {
       "config": {
        "plotlyServerURL": "https://plot.ly"
       },
       "data": [
        {
         "name": "salaire_maximum",
         "type": "bar",
         "x": [
          "fed it",
          "fed it",
          "fed it",
          "selescope",
          "hays france",
          "michael page",
          "selescope",
          "selescope",
          "fed it",
          "key consulting",
          "mr search",
          "nexton consulting",
          "fed it",
          "fed it",
          "fed it",
          "selescope",
          "hays france",
          "uniware global services",
          "uniware global services",
          "uniware global services",
          "fed it",
          "uniware global services",
          "uniware global services",
          "uniware global services",
          "uniware global services",
          "synchrone",
          "uniware global services",
          "uniware global services",
          "uniware global services",
          "uniware global services",
          "uniware global services",
          "uniware global services",
          "uniware global services",
          "uniware global services",
          "uniware global services",
          "synchrone",
          "uniware global services",
          "synchrone",
          "uniware global services",
          "uniware global services",
          "mr search",
          "experteam",
          "beezen"
         ],
         "xaxis": "x",
         "y": [
          50000,
          62000,
          65000,
          70000,
          70000,
          60000,
          100000,
          100000,
          45000,
          70000,
          80000,
          60000,
          50000,
          62000,
          65000,
          70000,
          70000,
          60000,
          60000,
          55000,
          62000,
          55000,
          60000,
          60000,
          60000,
          50000,
          60000,
          60000,
          56000,
          70000,
          60000,
          55000,
          55000,
          60000,
          60000,
          65000,
          60000,
          50000,
          60000,
          55000,
          70000,
          55000,
          50000
         ],
         "yaxis": "y"
        },
        {
         "name": "salaire_minimum",
         "type": "bar",
         "x": [
          "fed it",
          "fed it",
          "fed it",
          "selescope",
          "hays france",
          "michael page",
          "selescope",
          "selescope",
          "fed it",
          "key consulting",
          "mr search",
          "nexton consulting",
          "fed it",
          "fed it",
          "fed it",
          "selescope",
          "hays france",
          "uniware global services",
          "uniware global services",
          "uniware global services",
          "fed it",
          "uniware global services",
          "uniware global services",
          "uniware global services",
          "uniware global services",
          "synchrone",
          "uniware global services",
          "uniware global services",
          "uniware global services",
          "uniware global services",
          "uniware global services",
          "uniware global services",
          "uniware global services",
          "uniware global services",
          "uniware global services",
          "synchrone",
          "uniware global services",
          "synchrone",
          "uniware global services",
          "uniware global services",
          "mr search",
          "experteam",
          "beezen"
         ],
         "xaxis": "x2",
         "y": [
          45000,
          60000,
          60000,
          60000,
          60000,
          55000,
          70000,
          70000,
          35000,
          45000,
          50000,
          30000,
          45000,
          60000,
          60000,
          60000,
          60000,
          45000,
          42000,
          40000,
          57000,
          40000,
          40000,
          40000,
          40000,
          30000,
          45000,
          40000,
          38000,
          50000,
          50000,
          38000,
          38000,
          40000,
          45000,
          45000,
          40000,
          30000,
          40000,
          38000,
          65000,
          45000,
          38000
         ],
         "yaxis": "y2"
        }
       ],
       "layout": {
        "height": 800,
        "showlegend": true,
        "template": {
         "data": {
          "bar": [
           {
            "error_x": {
             "color": "#2a3f5f"
            },
            "error_y": {
             "color": "#2a3f5f"
            },
            "marker": {
             "line": {
              "color": "#E5ECF6",
              "width": 0.5
             },
             "pattern": {
              "fillmode": "overlay",
              "size": 10,
              "solidity": 0.2
             }
            },
            "type": "bar"
           }
          ],
          "barpolar": [
           {
            "marker": {
             "line": {
              "color": "#E5ECF6",
              "width": 0.5
             },
             "pattern": {
              "fillmode": "overlay",
              "size": 10,
              "solidity": 0.2
             }
            },
            "type": "barpolar"
           }
          ],
          "carpet": [
           {
            "aaxis": {
             "endlinecolor": "#2a3f5f",
             "gridcolor": "white",
             "linecolor": "white",
             "minorgridcolor": "white",
             "startlinecolor": "#2a3f5f"
            },
            "baxis": {
             "endlinecolor": "#2a3f5f",
             "gridcolor": "white",
             "linecolor": "white",
             "minorgridcolor": "white",
             "startlinecolor": "#2a3f5f"
            },
            "type": "carpet"
           }
          ],
          "choropleth": [
           {
            "colorbar": {
             "outlinewidth": 0,
             "ticks": ""
            },
            "type": "choropleth"
           }
          ],
          "contour": [
           {
            "colorbar": {
             "outlinewidth": 0,
             "ticks": ""
            },
            "colorscale": [
             [
              0,
              "#0d0887"
             ],
             [
              0.1111111111111111,
              "#46039f"
             ],
             [
              0.2222222222222222,
              "#7201a8"
             ],
             [
              0.3333333333333333,
              "#9c179e"
             ],
             [
              0.4444444444444444,
              "#bd3786"
             ],
             [
              0.5555555555555556,
              "#d8576b"
             ],
             [
              0.6666666666666666,
              "#ed7953"
             ],
             [
              0.7777777777777778,
              "#fb9f3a"
             ],
             [
              0.8888888888888888,
              "#fdca26"
             ],
             [
              1,
              "#f0f921"
             ]
            ],
            "type": "contour"
           }
          ],
          "contourcarpet": [
           {
            "colorbar": {
             "outlinewidth": 0,
             "ticks": ""
            },
            "type": "contourcarpet"
           }
          ],
          "heatmap": [
           {
            "colorbar": {
             "outlinewidth": 0,
             "ticks": ""
            },
            "colorscale": [
             [
              0,
              "#0d0887"
             ],
             [
              0.1111111111111111,
              "#46039f"
             ],
             [
              0.2222222222222222,
              "#7201a8"
             ],
             [
              0.3333333333333333,
              "#9c179e"
             ],
             [
              0.4444444444444444,
              "#bd3786"
             ],
             [
              0.5555555555555556,
              "#d8576b"
             ],
             [
              0.6666666666666666,
              "#ed7953"
             ],
             [
              0.7777777777777778,
              "#fb9f3a"
             ],
             [
              0.8888888888888888,
              "#fdca26"
             ],
             [
              1,
              "#f0f921"
             ]
            ],
            "type": "heatmap"
           }
          ],
          "heatmapgl": [
           {
            "colorbar": {
             "outlinewidth": 0,
             "ticks": ""
            },
            "colorscale": [
             [
              0,
              "#0d0887"
             ],
             [
              0.1111111111111111,
              "#46039f"
             ],
             [
              0.2222222222222222,
              "#7201a8"
             ],
             [
              0.3333333333333333,
              "#9c179e"
             ],
             [
              0.4444444444444444,
              "#bd3786"
             ],
             [
              0.5555555555555556,
              "#d8576b"
             ],
             [
              0.6666666666666666,
              "#ed7953"
             ],
             [
              0.7777777777777778,
              "#fb9f3a"
             ],
             [
              0.8888888888888888,
              "#fdca26"
             ],
             [
              1,
              "#f0f921"
             ]
            ],
            "type": "heatmapgl"
           }
          ],
          "histogram": [
           {
            "marker": {
             "pattern": {
              "fillmode": "overlay",
              "size": 10,
              "solidity": 0.2
             }
            },
            "type": "histogram"
           }
          ],
          "histogram2d": [
           {
            "colorbar": {
             "outlinewidth": 0,
             "ticks": ""
            },
            "colorscale": [
             [
              0,
              "#0d0887"
             ],
             [
              0.1111111111111111,
              "#46039f"
             ],
             [
              0.2222222222222222,
              "#7201a8"
             ],
             [
              0.3333333333333333,
              "#9c179e"
             ],
             [
              0.4444444444444444,
              "#bd3786"
             ],
             [
              0.5555555555555556,
              "#d8576b"
             ],
             [
              0.6666666666666666,
              "#ed7953"
             ],
             [
              0.7777777777777778,
              "#fb9f3a"
             ],
             [
              0.8888888888888888,
              "#fdca26"
             ],
             [
              1,
              "#f0f921"
             ]
            ],
            "type": "histogram2d"
           }
          ],
          "histogram2dcontour": [
           {
            "colorbar": {
             "outlinewidth": 0,
             "ticks": ""
            },
            "colorscale": [
             [
              0,
              "#0d0887"
             ],
             [
              0.1111111111111111,
              "#46039f"
             ],
             [
              0.2222222222222222,
              "#7201a8"
             ],
             [
              0.3333333333333333,
              "#9c179e"
             ],
             [
              0.4444444444444444,
              "#bd3786"
             ],
             [
              0.5555555555555556,
              "#d8576b"
             ],
             [
              0.6666666666666666,
              "#ed7953"
             ],
             [
              0.7777777777777778,
              "#fb9f3a"
             ],
             [
              0.8888888888888888,
              "#fdca26"
             ],
             [
              1,
              "#f0f921"
             ]
            ],
            "type": "histogram2dcontour"
           }
          ],
          "mesh3d": [
           {
            "colorbar": {
             "outlinewidth": 0,
             "ticks": ""
            },
            "type": "mesh3d"
           }
          ],
          "parcoords": [
           {
            "line": {
             "colorbar": {
              "outlinewidth": 0,
              "ticks": ""
             }
            },
            "type": "parcoords"
           }
          ],
          "pie": [
           {
            "automargin": true,
            "type": "pie"
           }
          ],
          "scatter": [
           {
            "fillpattern": {
             "fillmode": "overlay",
             "size": 10,
             "solidity": 0.2
            },
            "type": "scatter"
           }
          ],
          "scatter3d": [
           {
            "line": {
             "colorbar": {
              "outlinewidth": 0,
              "ticks": ""
             }
            },
            "marker": {
             "colorbar": {
              "outlinewidth": 0,
              "ticks": ""
             }
            },
            "type": "scatter3d"
           }
          ],
          "scattercarpet": [
           {
            "marker": {
             "colorbar": {
              "outlinewidth": 0,
              "ticks": ""
             }
            },
            "type": "scattercarpet"
           }
          ],
          "scattergeo": [
           {
            "marker": {
             "colorbar": {
              "outlinewidth": 0,
              "ticks": ""
             }
            },
            "type": "scattergeo"
           }
          ],
          "scattergl": [
           {
            "marker": {
             "colorbar": {
              "outlinewidth": 0,
              "ticks": ""
             }
            },
            "type": "scattergl"
           }
          ],
          "scattermapbox": [
           {
            "marker": {
             "colorbar": {
              "outlinewidth": 0,
              "ticks": ""
             }
            },
            "type": "scattermapbox"
           }
          ],
          "scatterpolar": [
           {
            "marker": {
             "colorbar": {
              "outlinewidth": 0,
              "ticks": ""
             }
            },
            "type": "scatterpolar"
           }
          ],
          "scatterpolargl": [
           {
            "marker": {
             "colorbar": {
              "outlinewidth": 0,
              "ticks": ""
             }
            },
            "type": "scatterpolargl"
           }
          ],
          "scatterternary": [
           {
            "marker": {
             "colorbar": {
              "outlinewidth": 0,
              "ticks": ""
             }
            },
            "type": "scatterternary"
           }
          ],
          "surface": [
           {
            "colorbar": {
             "outlinewidth": 0,
             "ticks": ""
            },
            "colorscale": [
             [
              0,
              "#0d0887"
             ],
             [
              0.1111111111111111,
              "#46039f"
             ],
             [
              0.2222222222222222,
              "#7201a8"
             ],
             [
              0.3333333333333333,
              "#9c179e"
             ],
             [
              0.4444444444444444,
              "#bd3786"
             ],
             [
              0.5555555555555556,
              "#d8576b"
             ],
             [
              0.6666666666666666,
              "#ed7953"
             ],
             [
              0.7777777777777778,
              "#fb9f3a"
             ],
             [
              0.8888888888888888,
              "#fdca26"
             ],
             [
              1,
              "#f0f921"
             ]
            ],
            "type": "surface"
           }
          ],
          "table": [
           {
            "cells": {
             "fill": {
              "color": "#EBF0F8"
             },
             "line": {
              "color": "white"
             }
            },
            "header": {
             "fill": {
              "color": "#C8D4E3"
             },
             "line": {
              "color": "white"
             }
            },
            "type": "table"
           }
          ]
         },
         "layout": {
          "annotationdefaults": {
           "arrowcolor": "#2a3f5f",
           "arrowhead": 0,
           "arrowwidth": 1
          },
          "autotypenumbers": "strict",
          "coloraxis": {
           "colorbar": {
            "outlinewidth": 0,
            "ticks": ""
           }
          },
          "colorscale": {
           "diverging": [
            [
             0,
             "#8e0152"
            ],
            [
             0.1,
             "#c51b7d"
            ],
            [
             0.2,
             "#de77ae"
            ],
            [
             0.3,
             "#f1b6da"
            ],
            [
             0.4,
             "#fde0ef"
            ],
            [
             0.5,
             "#f7f7f7"
            ],
            [
             0.6,
             "#e6f5d0"
            ],
            [
             0.7,
             "#b8e186"
            ],
            [
             0.8,
             "#7fbc41"
            ],
            [
             0.9,
             "#4d9221"
            ],
            [
             1,
             "#276419"
            ]
           ],
           "sequential": [
            [
             0,
             "#0d0887"
            ],
            [
             0.1111111111111111,
             "#46039f"
            ],
            [
             0.2222222222222222,
             "#7201a8"
            ],
            [
             0.3333333333333333,
             "#9c179e"
            ],
            [
             0.4444444444444444,
             "#bd3786"
            ],
            [
             0.5555555555555556,
             "#d8576b"
            ],
            [
             0.6666666666666666,
             "#ed7953"
            ],
            [
             0.7777777777777778,
             "#fb9f3a"
            ],
            [
             0.8888888888888888,
             "#fdca26"
            ],
            [
             1,
             "#f0f921"
            ]
           ],
           "sequentialminus": [
            [
             0,
             "#0d0887"
            ],
            [
             0.1111111111111111,
             "#46039f"
            ],
            [
             0.2222222222222222,
             "#7201a8"
            ],
            [
             0.3333333333333333,
             "#9c179e"
            ],
            [
             0.4444444444444444,
             "#bd3786"
            ],
            [
             0.5555555555555556,
             "#d8576b"
            ],
            [
             0.6666666666666666,
             "#ed7953"
            ],
            [
             0.7777777777777778,
             "#fb9f3a"
            ],
            [
             0.8888888888888888,
             "#fdca26"
            ],
            [
             1,
             "#f0f921"
            ]
           ]
          },
          "colorway": [
           "#636efa",
           "#EF553B",
           "#00cc96",
           "#ab63fa",
           "#FFA15A",
           "#19d3f3",
           "#FF6692",
           "#B6E880",
           "#FF97FF",
           "#FECB52"
          ],
          "font": {
           "color": "#2a3f5f"
          },
          "geo": {
           "bgcolor": "white",
           "lakecolor": "white",
           "landcolor": "#E5ECF6",
           "showlakes": true,
           "showland": true,
           "subunitcolor": "white"
          },
          "hoverlabel": {
           "align": "left"
          },
          "hovermode": "closest",
          "mapbox": {
           "style": "light"
          },
          "paper_bgcolor": "white",
          "plot_bgcolor": "#E5ECF6",
          "polar": {
           "angularaxis": {
            "gridcolor": "white",
            "linecolor": "white",
            "ticks": ""
           },
           "bgcolor": "#E5ECF6",
           "radialaxis": {
            "gridcolor": "white",
            "linecolor": "white",
            "ticks": ""
           }
          },
          "scene": {
           "xaxis": {
            "backgroundcolor": "#E5ECF6",
            "gridcolor": "white",
            "gridwidth": 2,
            "linecolor": "white",
            "showbackground": true,
            "ticks": "",
            "zerolinecolor": "white"
           },
           "yaxis": {
            "backgroundcolor": "#E5ECF6",
            "gridcolor": "white",
            "gridwidth": 2,
            "linecolor": "white",
            "showbackground": true,
            "ticks": "",
            "zerolinecolor": "white"
           },
           "zaxis": {
            "backgroundcolor": "#E5ECF6",
            "gridcolor": "white",
            "gridwidth": 2,
            "linecolor": "white",
            "showbackground": true,
            "ticks": "",
            "zerolinecolor": "white"
           }
          },
          "shapedefaults": {
           "line": {
            "color": "#2a3f5f"
           }
          },
          "ternary": {
           "aaxis": {
            "gridcolor": "white",
            "linecolor": "white",
            "ticks": ""
           },
           "baxis": {
            "gridcolor": "white",
            "linecolor": "white",
            "ticks": ""
           },
           "bgcolor": "#E5ECF6",
           "caxis": {
            "gridcolor": "white",
            "linecolor": "white",
            "ticks": ""
           }
          },
          "title": {
           "x": 0.05
          },
          "xaxis": {
           "automargin": true,
           "gridcolor": "white",
           "linecolor": "white",
           "ticks": "",
           "title": {
            "standoff": 15
           },
           "zerolinecolor": "white",
           "zerolinewidth": 2
          },
          "yaxis": {
           "automargin": true,
           "gridcolor": "white",
           "linecolor": "white",
           "ticks": "",
           "title": {
            "standoff": 15
           },
           "zerolinecolor": "white",
           "zerolinewidth": 2
          }
         }
        },
        "title": {
         "text": "Salary"
        },
        "width": 1000,
        "xaxis": {
         "anchor": "y",
         "domain": [
          0,
          1
         ]
        },
        "xaxis2": {
         "anchor": "y2",
         "domain": [
          0,
          1
         ]
        },
        "yaxis": {
         "anchor": "x",
         "domain": [
          0.575,
          1
         ]
        },
        "yaxis2": {
         "anchor": "x2",
         "domain": [
          0,
          0.425
         ]
        }
       }
      }
     },
     "metadata": {},
     "output_type": "display_data"
    }
   ],
   "source": [
    "from plotly.subplots import make_subplots\n",
    "import plotly.graph_objects as go\n",
    "\n",
    "fig = make_subplots(rows=2, cols=1)\n",
    "\n",
    "fig.append_trace(go.Bar(\n",
    "    x=(df[\"Nom de la société\"]).astype(str),\n",
    "    y=(df[\"salaire_maximum\"]).astype(int), name=\"salaire_maximum\"\n",
    "), row=1, col=1)\n",
    "\n",
    "fig.append_trace(go.Bar(\n",
    "    x=(df[\"Nom de la société\"]).astype(str),\n",
    "    y=(df[\"salaire_minimum\"]).astype(int), name=\"salaire_minimum\"\n",
    "), row=2, col=1)\n",
    "\n",
    "\n",
    "fig.update_layout(height=800, width=1000, title_text=\"Salary\", showlegend=True)\n",
    "fig.show()"
   ]
  },
  {
   "cell_type": "code",
   "execution_count": 7,
   "metadata": {},
   "outputs": [],
   "source": [
    "postes = df['Intitulé du poste'].unique() # donne la liste des valeurs possibles\n",
    "df_gb = comp_tf.groupby('Intitulé du poste')[names_comp].sum()"
   ]
  },
  {
   "cell_type": "code",
   "execution_count": 8,
   "metadata": {},
   "outputs": [
    {
     "data": {
      "application/vnd.plotly.v1+json": {
       "config": {
        "plotlyServerURL": "https://plot.ly"
       },
       "data": [
        {
         "alignmentgroup": "True",
         "hovertemplate": "competences=%{x}<br>occurrence=%{y}<extra></extra>",
         "legendgroup": "",
         "marker": {
          "color": "#636efa",
          "pattern": {
           "shape": ""
          }
         },
         "name": "",
         "offsetgroup": "",
         "orientation": "v",
         "showlegend": false,
         "textposition": "auto",
         "type": "bar",
         "x": [
          "agile",
          "angularjs",
          "artificielle",
          "bases",
          "big",
          "business",
          "cft",
          "cisco",
          "cloud",
          "communication",
          "crm",
          "data",
          "de",
          "devops",
          "digital",
          "données",
          "framework",
          "hadoop",
          "hp",
          "iaas",
          "infrastructure",
          "intelligence",
          "j2ee",
          "java",
          "javascript",
          "jboss",
          "jenkins",
          "lan",
          "langage",
          "learning",
          "linux",
          "machine",
          "maintenance",
          "management",
          "marketing",
          "microsoft",
          "middleware",
          "mobile",
          "méthodologie",
          "nosql",
          "objects",
          "optimisation",
          "oracle",
          "outils",
          "paas",
          "poste",
          "python",
          "quality",
          "recette",
          "réseau",
          "réseaux",
          "saas",
          "sap",
          "securité",
          "server",
          "si",
          "spring",
          "sql",
          "support",
          "système",
          "sécurité",
          "tomcat",
          "travail",
          "unix",
          "ux",
          "vba",
          "vmware",
          "wan",
          "web",
          "weblogic",
          "windows",
          "Intitulé du poste"
         ],
         "xaxis": "x",
         "y": [
          3,
          1,
          4,
          2,
          4,
          7,
          1,
          1,
          10,
          1,
          2,
          12,
          3,
          5,
          3,
          2,
          1,
          1,
          1,
          1,
          10,
          9,
          1,
          2,
          1,
          1,
          2,
          1,
          1,
          2,
          5,
          2,
          1,
          7,
          5,
          3,
          2,
          2,
          2,
          1,
          2,
          1,
          2,
          7,
          2,
          1,
          6,
          1,
          1,
          3,
          4,
          1,
          2,
          7,
          1,
          5,
          1,
          7,
          14,
          6,
          7,
          1,
          1,
          5,
          2,
          1,
          2,
          1,
          5,
          1,
          4,
          "data analystdata analystdata scientistconsultantchef de projetautresbusiness analystbusiness analystbusiness analystdata scientistbusiness analystchef de projetdata analystdata analystdata scientistconsultantchef de projetengineerengineerengineerautresengineerengineerengineerengineerdeveloperengineerarchitectengineerarchitectengineerengineerengineerengineerengineerdeveloperengineerdeveloperexpertengineerautresengineerdata scientist"
         ],
         "yaxis": "y"
        }
       ],
       "layout": {
        "barmode": "relative",
        "legend": {
         "tracegroupgap": 0
        },
        "margin": {
         "t": 60
        },
        "template": {
         "data": {
          "bar": [
           {
            "error_x": {
             "color": "#2a3f5f"
            },
            "error_y": {
             "color": "#2a3f5f"
            },
            "marker": {
             "line": {
              "color": "#E5ECF6",
              "width": 0.5
             },
             "pattern": {
              "fillmode": "overlay",
              "size": 10,
              "solidity": 0.2
             }
            },
            "type": "bar"
           }
          ],
          "barpolar": [
           {
            "marker": {
             "line": {
              "color": "#E5ECF6",
              "width": 0.5
             },
             "pattern": {
              "fillmode": "overlay",
              "size": 10,
              "solidity": 0.2
             }
            },
            "type": "barpolar"
           }
          ],
          "carpet": [
           {
            "aaxis": {
             "endlinecolor": "#2a3f5f",
             "gridcolor": "white",
             "linecolor": "white",
             "minorgridcolor": "white",
             "startlinecolor": "#2a3f5f"
            },
            "baxis": {
             "endlinecolor": "#2a3f5f",
             "gridcolor": "white",
             "linecolor": "white",
             "minorgridcolor": "white",
             "startlinecolor": "#2a3f5f"
            },
            "type": "carpet"
           }
          ],
          "choropleth": [
           {
            "colorbar": {
             "outlinewidth": 0,
             "ticks": ""
            },
            "type": "choropleth"
           }
          ],
          "contour": [
           {
            "colorbar": {
             "outlinewidth": 0,
             "ticks": ""
            },
            "colorscale": [
             [
              0,
              "#0d0887"
             ],
             [
              0.1111111111111111,
              "#46039f"
             ],
             [
              0.2222222222222222,
              "#7201a8"
             ],
             [
              0.3333333333333333,
              "#9c179e"
             ],
             [
              0.4444444444444444,
              "#bd3786"
             ],
             [
              0.5555555555555556,
              "#d8576b"
             ],
             [
              0.6666666666666666,
              "#ed7953"
             ],
             [
              0.7777777777777778,
              "#fb9f3a"
             ],
             [
              0.8888888888888888,
              "#fdca26"
             ],
             [
              1,
              "#f0f921"
             ]
            ],
            "type": "contour"
           }
          ],
          "contourcarpet": [
           {
            "colorbar": {
             "outlinewidth": 0,
             "ticks": ""
            },
            "type": "contourcarpet"
           }
          ],
          "heatmap": [
           {
            "colorbar": {
             "outlinewidth": 0,
             "ticks": ""
            },
            "colorscale": [
             [
              0,
              "#0d0887"
             ],
             [
              0.1111111111111111,
              "#46039f"
             ],
             [
              0.2222222222222222,
              "#7201a8"
             ],
             [
              0.3333333333333333,
              "#9c179e"
             ],
             [
              0.4444444444444444,
              "#bd3786"
             ],
             [
              0.5555555555555556,
              "#d8576b"
             ],
             [
              0.6666666666666666,
              "#ed7953"
             ],
             [
              0.7777777777777778,
              "#fb9f3a"
             ],
             [
              0.8888888888888888,
              "#fdca26"
             ],
             [
              1,
              "#f0f921"
             ]
            ],
            "type": "heatmap"
           }
          ],
          "heatmapgl": [
           {
            "colorbar": {
             "outlinewidth": 0,
             "ticks": ""
            },
            "colorscale": [
             [
              0,
              "#0d0887"
             ],
             [
              0.1111111111111111,
              "#46039f"
             ],
             [
              0.2222222222222222,
              "#7201a8"
             ],
             [
              0.3333333333333333,
              "#9c179e"
             ],
             [
              0.4444444444444444,
              "#bd3786"
             ],
             [
              0.5555555555555556,
              "#d8576b"
             ],
             [
              0.6666666666666666,
              "#ed7953"
             ],
             [
              0.7777777777777778,
              "#fb9f3a"
             ],
             [
              0.8888888888888888,
              "#fdca26"
             ],
             [
              1,
              "#f0f921"
             ]
            ],
            "type": "heatmapgl"
           }
          ],
          "histogram": [
           {
            "marker": {
             "pattern": {
              "fillmode": "overlay",
              "size": 10,
              "solidity": 0.2
             }
            },
            "type": "histogram"
           }
          ],
          "histogram2d": [
           {
            "colorbar": {
             "outlinewidth": 0,
             "ticks": ""
            },
            "colorscale": [
             [
              0,
              "#0d0887"
             ],
             [
              0.1111111111111111,
              "#46039f"
             ],
             [
              0.2222222222222222,
              "#7201a8"
             ],
             [
              0.3333333333333333,
              "#9c179e"
             ],
             [
              0.4444444444444444,
              "#bd3786"
             ],
             [
              0.5555555555555556,
              "#d8576b"
             ],
             [
              0.6666666666666666,
              "#ed7953"
             ],
             [
              0.7777777777777778,
              "#fb9f3a"
             ],
             [
              0.8888888888888888,
              "#fdca26"
             ],
             [
              1,
              "#f0f921"
             ]
            ],
            "type": "histogram2d"
           }
          ],
          "histogram2dcontour": [
           {
            "colorbar": {
             "outlinewidth": 0,
             "ticks": ""
            },
            "colorscale": [
             [
              0,
              "#0d0887"
             ],
             [
              0.1111111111111111,
              "#46039f"
             ],
             [
              0.2222222222222222,
              "#7201a8"
             ],
             [
              0.3333333333333333,
              "#9c179e"
             ],
             [
              0.4444444444444444,
              "#bd3786"
             ],
             [
              0.5555555555555556,
              "#d8576b"
             ],
             [
              0.6666666666666666,
              "#ed7953"
             ],
             [
              0.7777777777777778,
              "#fb9f3a"
             ],
             [
              0.8888888888888888,
              "#fdca26"
             ],
             [
              1,
              "#f0f921"
             ]
            ],
            "type": "histogram2dcontour"
           }
          ],
          "mesh3d": [
           {
            "colorbar": {
             "outlinewidth": 0,
             "ticks": ""
            },
            "type": "mesh3d"
           }
          ],
          "parcoords": [
           {
            "line": {
             "colorbar": {
              "outlinewidth": 0,
              "ticks": ""
             }
            },
            "type": "parcoords"
           }
          ],
          "pie": [
           {
            "automargin": true,
            "type": "pie"
           }
          ],
          "scatter": [
           {
            "fillpattern": {
             "fillmode": "overlay",
             "size": 10,
             "solidity": 0.2
            },
            "type": "scatter"
           }
          ],
          "scatter3d": [
           {
            "line": {
             "colorbar": {
              "outlinewidth": 0,
              "ticks": ""
             }
            },
            "marker": {
             "colorbar": {
              "outlinewidth": 0,
              "ticks": ""
             }
            },
            "type": "scatter3d"
           }
          ],
          "scattercarpet": [
           {
            "marker": {
             "colorbar": {
              "outlinewidth": 0,
              "ticks": ""
             }
            },
            "type": "scattercarpet"
           }
          ],
          "scattergeo": [
           {
            "marker": {
             "colorbar": {
              "outlinewidth": 0,
              "ticks": ""
             }
            },
            "type": "scattergeo"
           }
          ],
          "scattergl": [
           {
            "marker": {
             "colorbar": {
              "outlinewidth": 0,
              "ticks": ""
             }
            },
            "type": "scattergl"
           }
          ],
          "scattermapbox": [
           {
            "marker": {
             "colorbar": {
              "outlinewidth": 0,
              "ticks": ""
             }
            },
            "type": "scattermapbox"
           }
          ],
          "scatterpolar": [
           {
            "marker": {
             "colorbar": {
              "outlinewidth": 0,
              "ticks": ""
             }
            },
            "type": "scatterpolar"
           }
          ],
          "scatterpolargl": [
           {
            "marker": {
             "colorbar": {
              "outlinewidth": 0,
              "ticks": ""
             }
            },
            "type": "scatterpolargl"
           }
          ],
          "scatterternary": [
           {
            "marker": {
             "colorbar": {
              "outlinewidth": 0,
              "ticks": ""
             }
            },
            "type": "scatterternary"
           }
          ],
          "surface": [
           {
            "colorbar": {
             "outlinewidth": 0,
             "ticks": ""
            },
            "colorscale": [
             [
              0,
              "#0d0887"
             ],
             [
              0.1111111111111111,
              "#46039f"
             ],
             [
              0.2222222222222222,
              "#7201a8"
             ],
             [
              0.3333333333333333,
              "#9c179e"
             ],
             [
              0.4444444444444444,
              "#bd3786"
             ],
             [
              0.5555555555555556,
              "#d8576b"
             ],
             [
              0.6666666666666666,
              "#ed7953"
             ],
             [
              0.7777777777777778,
              "#fb9f3a"
             ],
             [
              0.8888888888888888,
              "#fdca26"
             ],
             [
              1,
              "#f0f921"
             ]
            ],
            "type": "surface"
           }
          ],
          "table": [
           {
            "cells": {
             "fill": {
              "color": "#EBF0F8"
             },
             "line": {
              "color": "white"
             }
            },
            "header": {
             "fill": {
              "color": "#C8D4E3"
             },
             "line": {
              "color": "white"
             }
            },
            "type": "table"
           }
          ]
         },
         "layout": {
          "annotationdefaults": {
           "arrowcolor": "#2a3f5f",
           "arrowhead": 0,
           "arrowwidth": 1
          },
          "autotypenumbers": "strict",
          "coloraxis": {
           "colorbar": {
            "outlinewidth": 0,
            "ticks": ""
           }
          },
          "colorscale": {
           "diverging": [
            [
             0,
             "#8e0152"
            ],
            [
             0.1,
             "#c51b7d"
            ],
            [
             0.2,
             "#de77ae"
            ],
            [
             0.3,
             "#f1b6da"
            ],
            [
             0.4,
             "#fde0ef"
            ],
            [
             0.5,
             "#f7f7f7"
            ],
            [
             0.6,
             "#e6f5d0"
            ],
            [
             0.7,
             "#b8e186"
            ],
            [
             0.8,
             "#7fbc41"
            ],
            [
             0.9,
             "#4d9221"
            ],
            [
             1,
             "#276419"
            ]
           ],
           "sequential": [
            [
             0,
             "#0d0887"
            ],
            [
             0.1111111111111111,
             "#46039f"
            ],
            [
             0.2222222222222222,
             "#7201a8"
            ],
            [
             0.3333333333333333,
             "#9c179e"
            ],
            [
             0.4444444444444444,
             "#bd3786"
            ],
            [
             0.5555555555555556,
             "#d8576b"
            ],
            [
             0.6666666666666666,
             "#ed7953"
            ],
            [
             0.7777777777777778,
             "#fb9f3a"
            ],
            [
             0.8888888888888888,
             "#fdca26"
            ],
            [
             1,
             "#f0f921"
            ]
           ],
           "sequentialminus": [
            [
             0,
             "#0d0887"
            ],
            [
             0.1111111111111111,
             "#46039f"
            ],
            [
             0.2222222222222222,
             "#7201a8"
            ],
            [
             0.3333333333333333,
             "#9c179e"
            ],
            [
             0.4444444444444444,
             "#bd3786"
            ],
            [
             0.5555555555555556,
             "#d8576b"
            ],
            [
             0.6666666666666666,
             "#ed7953"
            ],
            [
             0.7777777777777778,
             "#fb9f3a"
            ],
            [
             0.8888888888888888,
             "#fdca26"
            ],
            [
             1,
             "#f0f921"
            ]
           ]
          },
          "colorway": [
           "#636efa",
           "#EF553B",
           "#00cc96",
           "#ab63fa",
           "#FFA15A",
           "#19d3f3",
           "#FF6692",
           "#B6E880",
           "#FF97FF",
           "#FECB52"
          ],
          "font": {
           "color": "#2a3f5f"
          },
          "geo": {
           "bgcolor": "white",
           "lakecolor": "white",
           "landcolor": "#E5ECF6",
           "showlakes": true,
           "showland": true,
           "subunitcolor": "white"
          },
          "hoverlabel": {
           "align": "left"
          },
          "hovermode": "closest",
          "mapbox": {
           "style": "light"
          },
          "paper_bgcolor": "white",
          "plot_bgcolor": "#E5ECF6",
          "polar": {
           "angularaxis": {
            "gridcolor": "white",
            "linecolor": "white",
            "ticks": ""
           },
           "bgcolor": "#E5ECF6",
           "radialaxis": {
            "gridcolor": "white",
            "linecolor": "white",
            "ticks": ""
           }
          },
          "scene": {
           "xaxis": {
            "backgroundcolor": "#E5ECF6",
            "gridcolor": "white",
            "gridwidth": 2,
            "linecolor": "white",
            "showbackground": true,
            "ticks": "",
            "zerolinecolor": "white"
           },
           "yaxis": {
            "backgroundcolor": "#E5ECF6",
            "gridcolor": "white",
            "gridwidth": 2,
            "linecolor": "white",
            "showbackground": true,
            "ticks": "",
            "zerolinecolor": "white"
           },
           "zaxis": {
            "backgroundcolor": "#E5ECF6",
            "gridcolor": "white",
            "gridwidth": 2,
            "linecolor": "white",
            "showbackground": true,
            "ticks": "",
            "zerolinecolor": "white"
           }
          },
          "shapedefaults": {
           "line": {
            "color": "#2a3f5f"
           }
          },
          "ternary": {
           "aaxis": {
            "gridcolor": "white",
            "linecolor": "white",
            "ticks": ""
           },
           "baxis": {
            "gridcolor": "white",
            "linecolor": "white",
            "ticks": ""
           },
           "bgcolor": "#E5ECF6",
           "caxis": {
            "gridcolor": "white",
            "linecolor": "white",
            "ticks": ""
           }
          },
          "title": {
           "x": 0.05
          },
          "xaxis": {
           "automargin": true,
           "gridcolor": "white",
           "linecolor": "white",
           "ticks": "",
           "title": {
            "standoff": 15
           },
           "zerolinecolor": "white",
           "zerolinewidth": 2
          },
          "yaxis": {
           "automargin": true,
           "gridcolor": "white",
           "linecolor": "white",
           "ticks": "",
           "title": {
            "standoff": 15
           },
           "zerolinecolor": "white",
           "zerolinewidth": 2
          }
         }
        },
        "xaxis": {
         "anchor": "y",
         "domain": [
          0,
          1
         ],
         "title": {
          "text": "competences"
         }
        },
        "yaxis": {
         "anchor": "x",
         "domain": [
          0,
          1
         ],
         "title": {
          "text": "occurrence"
         }
        }
       }
      }
     },
     "metadata": {},
     "output_type": "display_data"
    }
   ],
   "source": [
    "# caculate the occurrence of competences\n",
    "occurrence_comp = comp_tf.sum(axis=0)\n",
    "\n",
    "df_occ_comp = pd.DataFrame(occurrence_comp)\n",
    "df_occ_comp[\"competences\"] = df_occ_comp.index\n",
    "df_occ_comp.rename(columns={0 : \"occurrence\"}, inplace = True)\n",
    "\n",
    "#df_occ_comp.drop(['Intitulé du poste'], axis=0, inplace=True)\n",
    "\n",
    "fig = px.bar(df_occ_comp, x=\"competences\", y='occurrence')\n",
    "fig.show()"
   ]
  },
  {
   "cell_type": "code",
   "execution_count": 9,
   "metadata": {},
   "outputs": [
    {
     "data": {
      "application/vnd.plotly.v1+json": {
       "config": {
        "plotlyServerURL": "https://plot.ly"
       },
       "data": [
        {
         "hovertemplate": "variable=agile<br>Intitulé du poste=%{x}<br>value=%{y}<extra></extra>",
         "legendgroup": "agile",
         "marker": {
          "color": "#636efa",
          "size": 15,
          "symbol": "circle"
         },
         "mode": "markers",
         "name": "agile",
         "orientation": "v",
         "showlegend": true,
         "type": "scatter",
         "x": [
          "architect",
          "autres",
          "business analyst",
          "chef de projet",
          "consultant",
          "data analyst",
          "data scientist",
          "developer",
          "engineer",
          "expert"
         ],
         "xaxis": "x",
         "y": [
          0,
          0,
          0,
          1,
          0,
          0,
          1,
          1,
          0,
          0
         ],
         "yaxis": "y"
        },
        {
         "hovertemplate": "variable=angularjs<br>Intitulé du poste=%{x}<br>value=%{y}<extra></extra>",
         "legendgroup": "angularjs",
         "marker": {
          "color": "#EF553B",
          "size": 15,
          "symbol": "circle"
         },
         "mode": "markers",
         "name": "angularjs",
         "orientation": "v",
         "showlegend": true,
         "type": "scatter",
         "x": [
          "architect",
          "autres",
          "business analyst",
          "chef de projet",
          "consultant",
          "data analyst",
          "data scientist",
          "developer",
          "engineer",
          "expert"
         ],
         "xaxis": "x",
         "y": [
          0,
          0,
          0,
          0,
          0,
          0,
          0,
          1,
          0,
          0
         ],
         "yaxis": "y"
        },
        {
         "hovertemplate": "variable=artificielle<br>Intitulé du poste=%{x}<br>value=%{y}<extra></extra>",
         "legendgroup": "artificielle",
         "marker": {
          "color": "#00cc96",
          "size": 15,
          "symbol": "circle"
         },
         "mode": "markers",
         "name": "artificielle",
         "orientation": "v",
         "showlegend": true,
         "type": "scatter",
         "x": [
          "architect",
          "autres",
          "business analyst",
          "chef de projet",
          "consultant",
          "data analyst",
          "data scientist",
          "developer",
          "engineer",
          "expert"
         ],
         "xaxis": "x",
         "y": [
          0,
          0,
          4,
          0,
          0,
          0,
          0,
          0,
          0,
          0
         ],
         "yaxis": "y"
        },
        {
         "hovertemplate": "variable=bases<br>Intitulé du poste=%{x}<br>value=%{y}<extra></extra>",
         "legendgroup": "bases",
         "marker": {
          "color": "#ab63fa",
          "size": 15,
          "symbol": "circle"
         },
         "mode": "markers",
         "name": "bases",
         "orientation": "v",
         "showlegend": true,
         "type": "scatter",
         "x": [
          "architect",
          "autres",
          "business analyst",
          "chef de projet",
          "consultant",
          "data analyst",
          "data scientist",
          "developer",
          "engineer",
          "expert"
         ],
         "xaxis": "x",
         "y": [
          0,
          0,
          0,
          0,
          0,
          2,
          0,
          0,
          0,
          0
         ],
         "yaxis": "y"
        },
        {
         "hovertemplate": "variable=big<br>Intitulé du poste=%{x}<br>value=%{y}<extra></extra>",
         "legendgroup": "big",
         "marker": {
          "color": "#FFA15A",
          "size": 15,
          "symbol": "circle"
         },
         "mode": "markers",
         "name": "big",
         "orientation": "v",
         "showlegend": true,
         "type": "scatter",
         "x": [
          "architect",
          "autres",
          "business analyst",
          "chef de projet",
          "consultant",
          "data analyst",
          "data scientist",
          "developer",
          "engineer",
          "expert"
         ],
         "xaxis": "x",
         "y": [
          0,
          1,
          1,
          0,
          2,
          0,
          0,
          0,
          0,
          0
         ],
         "yaxis": "y"
        },
        {
         "hovertemplate": "variable=business<br>Intitulé du poste=%{x}<br>value=%{y}<extra></extra>",
         "legendgroup": "business",
         "marker": {
          "color": "#19d3f3",
          "size": 15,
          "symbol": "circle"
         },
         "mode": "markers",
         "name": "business",
         "orientation": "v",
         "showlegend": true,
         "type": "scatter",
         "x": [
          "architect",
          "autres",
          "business analyst",
          "chef de projet",
          "consultant",
          "data analyst",
          "data scientist",
          "developer",
          "engineer",
          "expert"
         ],
         "xaxis": "x",
         "y": [
          0,
          0,
          3,
          0,
          0,
          4,
          0,
          0,
          0,
          0
         ],
         "yaxis": "y"
        },
        {
         "hovertemplate": "variable=cft<br>Intitulé du poste=%{x}<br>value=%{y}<extra></extra>",
         "legendgroup": "cft",
         "marker": {
          "color": "#FF6692",
          "size": 15,
          "symbol": "circle"
         },
         "mode": "markers",
         "name": "cft",
         "orientation": "v",
         "showlegend": true,
         "type": "scatter",
         "x": [
          "architect",
          "autres",
          "business analyst",
          "chef de projet",
          "consultant",
          "data analyst",
          "data scientist",
          "developer",
          "engineer",
          "expert"
         ],
         "xaxis": "x",
         "y": [
          0,
          0,
          0,
          0,
          0,
          0,
          0,
          0,
          1,
          0
         ],
         "yaxis": "y"
        },
        {
         "hovertemplate": "variable=cisco<br>Intitulé du poste=%{x}<br>value=%{y}<extra></extra>",
         "legendgroup": "cisco",
         "marker": {
          "color": "#B6E880",
          "size": 15,
          "symbol": "circle"
         },
         "mode": "markers",
         "name": "cisco",
         "orientation": "v",
         "showlegend": true,
         "type": "scatter",
         "x": [
          "architect",
          "autres",
          "business analyst",
          "chef de projet",
          "consultant",
          "data analyst",
          "data scientist",
          "developer",
          "engineer",
          "expert"
         ],
         "xaxis": "x",
         "y": [
          0,
          0,
          0,
          0,
          0,
          0,
          0,
          0,
          1,
          0
         ],
         "yaxis": "y"
        },
        {
         "hovertemplate": "variable=cloud<br>Intitulé du poste=%{x}<br>value=%{y}<extra></extra>",
         "legendgroup": "cloud",
         "marker": {
          "color": "#FF97FF",
          "size": 15,
          "symbol": "circle"
         },
         "mode": "markers",
         "name": "cloud",
         "orientation": "v",
         "showlegend": true,
         "type": "scatter",
         "x": [
          "architect",
          "autres",
          "business analyst",
          "chef de projet",
          "consultant",
          "data analyst",
          "data scientist",
          "developer",
          "engineer",
          "expert"
         ],
         "xaxis": "x",
         "y": [
          1,
          1,
          0,
          0,
          2,
          0,
          0,
          0,
          6,
          0
         ],
         "yaxis": "y"
        },
        {
         "hovertemplate": "variable=communication<br>Intitulé du poste=%{x}<br>value=%{y}<extra></extra>",
         "legendgroup": "communication",
         "marker": {
          "color": "#FECB52",
          "size": 15,
          "symbol": "circle"
         },
         "mode": "markers",
         "name": "communication",
         "orientation": "v",
         "showlegend": true,
         "type": "scatter",
         "x": [
          "architect",
          "autres",
          "business analyst",
          "chef de projet",
          "consultant",
          "data analyst",
          "data scientist",
          "developer",
          "engineer",
          "expert"
         ],
         "xaxis": "x",
         "y": [
          0,
          1,
          0,
          0,
          0,
          0,
          0,
          0,
          0,
          0
         ],
         "yaxis": "y"
        },
        {
         "hovertemplate": "variable=crm<br>Intitulé du poste=%{x}<br>value=%{y}<extra></extra>",
         "legendgroup": "crm",
         "marker": {
          "color": "#636efa",
          "size": 15,
          "symbol": "circle"
         },
         "mode": "markers",
         "name": "crm",
         "orientation": "v",
         "showlegend": true,
         "type": "scatter",
         "x": [
          "architect",
          "autres",
          "business analyst",
          "chef de projet",
          "consultant",
          "data analyst",
          "data scientist",
          "developer",
          "engineer",
          "expert"
         ],
         "xaxis": "x",
         "y": [
          0,
          0,
          2,
          0,
          0,
          0,
          0,
          0,
          0,
          0
         ],
         "yaxis": "y"
        },
        {
         "hovertemplate": "variable=data<br>Intitulé du poste=%{x}<br>value=%{y}<extra></extra>",
         "legendgroup": "data",
         "marker": {
          "color": "#EF553B",
          "size": 15,
          "symbol": "circle"
         },
         "mode": "markers",
         "name": "data",
         "orientation": "v",
         "showlegend": true,
         "type": "scatter",
         "x": [
          "architect",
          "autres",
          "business analyst",
          "chef de projet",
          "consultant",
          "data analyst",
          "data scientist",
          "developer",
          "engineer",
          "expert"
         ],
         "xaxis": "x",
         "y": [
          0,
          3,
          1,
          0,
          2,
          4,
          2,
          0,
          0,
          0
         ],
         "yaxis": "y"
        },
        {
         "hovertemplate": "variable=de<br>Intitulé du poste=%{x}<br>value=%{y}<extra></extra>",
         "legendgroup": "de",
         "marker": {
          "color": "#00cc96",
          "size": 15,
          "symbol": "circle"
         },
         "mode": "markers",
         "name": "de",
         "orientation": "v",
         "showlegend": true,
         "type": "scatter",
         "x": [
          "architect",
          "autres",
          "business analyst",
          "chef de projet",
          "consultant",
          "data analyst",
          "data scientist",
          "developer",
          "engineer",
          "expert"
         ],
         "xaxis": "x",
         "y": [
          1,
          0,
          0,
          0,
          0,
          2,
          0,
          0,
          0,
          0
         ],
         "yaxis": "y"
        },
        {
         "hovertemplate": "variable=devops<br>Intitulé du poste=%{x}<br>value=%{y}<extra></extra>",
         "legendgroup": "devops",
         "marker": {
          "color": "#ab63fa",
          "size": 15,
          "symbol": "circle"
         },
         "mode": "markers",
         "name": "devops",
         "orientation": "v",
         "showlegend": true,
         "type": "scatter",
         "x": [
          "architect",
          "autres",
          "business analyst",
          "chef de projet",
          "consultant",
          "data analyst",
          "data scientist",
          "developer",
          "engineer",
          "expert"
         ],
         "xaxis": "x",
         "y": [
          0,
          0,
          0,
          0,
          0,
          0,
          0,
          0,
          5,
          0
         ],
         "yaxis": "y"
        },
        {
         "hovertemplate": "variable=digital<br>Intitulé du poste=%{x}<br>value=%{y}<extra></extra>",
         "legendgroup": "digital",
         "marker": {
          "color": "#FFA15A",
          "size": 15,
          "symbol": "circle"
         },
         "mode": "markers",
         "name": "digital",
         "orientation": "v",
         "showlegend": true,
         "type": "scatter",
         "x": [
          "architect",
          "autres",
          "business analyst",
          "chef de projet",
          "consultant",
          "data analyst",
          "data scientist",
          "developer",
          "engineer",
          "expert"
         ],
         "xaxis": "x",
         "y": [
          0,
          1,
          0,
          2,
          0,
          0,
          0,
          0,
          0,
          0
         ],
         "yaxis": "y"
        },
        {
         "hovertemplate": "variable=données<br>Intitulé du poste=%{x}<br>value=%{y}<extra></extra>",
         "legendgroup": "données",
         "marker": {
          "color": "#19d3f3",
          "size": 15,
          "symbol": "circle"
         },
         "mode": "markers",
         "name": "données",
         "orientation": "v",
         "showlegend": true,
         "type": "scatter",
         "x": [
          "architect",
          "autres",
          "business analyst",
          "chef de projet",
          "consultant",
          "data analyst",
          "data scientist",
          "developer",
          "engineer",
          "expert"
         ],
         "xaxis": "x",
         "y": [
          0,
          0,
          0,
          0,
          0,
          2,
          0,
          0,
          0,
          0
         ],
         "yaxis": "y"
        },
        {
         "hovertemplate": "variable=framework<br>Intitulé du poste=%{x}<br>value=%{y}<extra></extra>",
         "legendgroup": "framework",
         "marker": {
          "color": "#FF6692",
          "size": 15,
          "symbol": "circle"
         },
         "mode": "markers",
         "name": "framework",
         "orientation": "v",
         "showlegend": true,
         "type": "scatter",
         "x": [
          "architect",
          "autres",
          "business analyst",
          "chef de projet",
          "consultant",
          "data analyst",
          "data scientist",
          "developer",
          "engineer",
          "expert"
         ],
         "xaxis": "x",
         "y": [
          0,
          0,
          0,
          0,
          0,
          0,
          0,
          1,
          0,
          0
         ],
         "yaxis": "y"
        },
        {
         "hovertemplate": "variable=hadoop<br>Intitulé du poste=%{x}<br>value=%{y}<extra></extra>",
         "legendgroup": "hadoop",
         "marker": {
          "color": "#B6E880",
          "size": 15,
          "symbol": "circle"
         },
         "mode": "markers",
         "name": "hadoop",
         "orientation": "v",
         "showlegend": true,
         "type": "scatter",
         "x": [
          "architect",
          "autres",
          "business analyst",
          "chef de projet",
          "consultant",
          "data analyst",
          "data scientist",
          "developer",
          "engineer",
          "expert"
         ],
         "xaxis": "x",
         "y": [
          0,
          1,
          0,
          0,
          0,
          0,
          0,
          0,
          0,
          0
         ],
         "yaxis": "y"
        },
        {
         "hovertemplate": "variable=hp<br>Intitulé du poste=%{x}<br>value=%{y}<extra></extra>",
         "legendgroup": "hp",
         "marker": {
          "color": "#FF97FF",
          "size": 15,
          "symbol": "circle"
         },
         "mode": "markers",
         "name": "hp",
         "orientation": "v",
         "showlegend": true,
         "type": "scatter",
         "x": [
          "architect",
          "autres",
          "business analyst",
          "chef de projet",
          "consultant",
          "data analyst",
          "data scientist",
          "developer",
          "engineer",
          "expert"
         ],
         "xaxis": "x",
         "y": [
          0,
          0,
          0,
          0,
          0,
          0,
          0,
          0,
          1,
          0
         ],
         "yaxis": "y"
        },
        {
         "hovertemplate": "variable=iaas<br>Intitulé du poste=%{x}<br>value=%{y}<extra></extra>",
         "legendgroup": "iaas",
         "marker": {
          "color": "#FECB52",
          "size": 15,
          "symbol": "circle"
         },
         "mode": "markers",
         "name": "iaas",
         "orientation": "v",
         "showlegend": true,
         "type": "scatter",
         "x": [
          "architect",
          "autres",
          "business analyst",
          "chef de projet",
          "consultant",
          "data analyst",
          "data scientist",
          "developer",
          "engineer",
          "expert"
         ],
         "xaxis": "x",
         "y": [
          0,
          0,
          0,
          0,
          0,
          0,
          0,
          0,
          1,
          0
         ],
         "yaxis": "y"
        },
        {
         "hovertemplate": "variable=infrastructure<br>Intitulé du poste=%{x}<br>value=%{y}<extra></extra>",
         "legendgroup": "infrastructure",
         "marker": {
          "color": "#636efa",
          "size": 15,
          "symbol": "circle"
         },
         "mode": "markers",
         "name": "infrastructure",
         "orientation": "v",
         "showlegend": true,
         "type": "scatter",
         "x": [
          "architect",
          "autres",
          "business analyst",
          "chef de projet",
          "consultant",
          "data analyst",
          "data scientist",
          "developer",
          "engineer",
          "expert"
         ],
         "xaxis": "x",
         "y": [
          2,
          0,
          0,
          0,
          0,
          0,
          0,
          0,
          8,
          0
         ],
         "yaxis": "y"
        },
        {
         "hovertemplate": "variable=intelligence<br>Intitulé du poste=%{x}<br>value=%{y}<extra></extra>",
         "legendgroup": "intelligence",
         "marker": {
          "color": "#EF553B",
          "size": 15,
          "symbol": "circle"
         },
         "mode": "markers",
         "name": "intelligence",
         "orientation": "v",
         "showlegend": true,
         "type": "scatter",
         "x": [
          "architect",
          "autres",
          "business analyst",
          "chef de projet",
          "consultant",
          "data analyst",
          "data scientist",
          "developer",
          "engineer",
          "expert"
         ],
         "xaxis": "x",
         "y": [
          0,
          0,
          7,
          0,
          0,
          2,
          0,
          0,
          0,
          0
         ],
         "yaxis": "y"
        },
        {
         "hovertemplate": "variable=j2ee<br>Intitulé du poste=%{x}<br>value=%{y}<extra></extra>",
         "legendgroup": "j2ee",
         "marker": {
          "color": "#00cc96",
          "size": 15,
          "symbol": "circle"
         },
         "mode": "markers",
         "name": "j2ee",
         "orientation": "v",
         "showlegend": true,
         "type": "scatter",
         "x": [
          "architect",
          "autres",
          "business analyst",
          "chef de projet",
          "consultant",
          "data analyst",
          "data scientist",
          "developer",
          "engineer",
          "expert"
         ],
         "xaxis": "x",
         "y": [
          0,
          0,
          0,
          0,
          0,
          0,
          0,
          1,
          0,
          0
         ],
         "yaxis": "y"
        },
        {
         "hovertemplate": "variable=java<br>Intitulé du poste=%{x}<br>value=%{y}<extra></extra>",
         "legendgroup": "java",
         "marker": {
          "color": "#ab63fa",
          "size": 15,
          "symbol": "circle"
         },
         "mode": "markers",
         "name": "java",
         "orientation": "v",
         "showlegend": true,
         "type": "scatter",
         "x": [
          "architect",
          "autres",
          "business analyst",
          "chef de projet",
          "consultant",
          "data analyst",
          "data scientist",
          "developer",
          "engineer",
          "expert"
         ],
         "xaxis": "x",
         "y": [
          0,
          0,
          0,
          0,
          0,
          0,
          1,
          1,
          0,
          0
         ],
         "yaxis": "y"
        },
        {
         "hovertemplate": "variable=javascript<br>Intitulé du poste=%{x}<br>value=%{y}<extra></extra>",
         "legendgroup": "javascript",
         "marker": {
          "color": "#FFA15A",
          "size": 15,
          "symbol": "circle"
         },
         "mode": "markers",
         "name": "javascript",
         "orientation": "v",
         "showlegend": true,
         "type": "scatter",
         "x": [
          "architect",
          "autres",
          "business analyst",
          "chef de projet",
          "consultant",
          "data analyst",
          "data scientist",
          "developer",
          "engineer",
          "expert"
         ],
         "xaxis": "x",
         "y": [
          0,
          0,
          0,
          0,
          0,
          0,
          0,
          0,
          1,
          0
         ],
         "yaxis": "y"
        },
        {
         "hovertemplate": "variable=jboss<br>Intitulé du poste=%{x}<br>value=%{y}<extra></extra>",
         "legendgroup": "jboss",
         "marker": {
          "color": "#19d3f3",
          "size": 15,
          "symbol": "circle"
         },
         "mode": "markers",
         "name": "jboss",
         "orientation": "v",
         "showlegend": true,
         "type": "scatter",
         "x": [
          "architect",
          "autres",
          "business analyst",
          "chef de projet",
          "consultant",
          "data analyst",
          "data scientist",
          "developer",
          "engineer",
          "expert"
         ],
         "xaxis": "x",
         "y": [
          0,
          0,
          0,
          0,
          0,
          0,
          0,
          1,
          0,
          0
         ],
         "yaxis": "y"
        },
        {
         "hovertemplate": "variable=jenkins<br>Intitulé du poste=%{x}<br>value=%{y}<extra></extra>",
         "legendgroup": "jenkins",
         "marker": {
          "color": "#FF6692",
          "size": 15,
          "symbol": "circle"
         },
         "mode": "markers",
         "name": "jenkins",
         "orientation": "v",
         "showlegend": true,
         "type": "scatter",
         "x": [
          "architect",
          "autres",
          "business analyst",
          "chef de projet",
          "consultant",
          "data analyst",
          "data scientist",
          "developer",
          "engineer",
          "expert"
         ],
         "xaxis": "x",
         "y": [
          0,
          0,
          0,
          0,
          0,
          0,
          0,
          0,
          2,
          0
         ],
         "yaxis": "y"
        },
        {
         "hovertemplate": "variable=lan<br>Intitulé du poste=%{x}<br>value=%{y}<extra></extra>",
         "legendgroup": "lan",
         "marker": {
          "color": "#B6E880",
          "size": 15,
          "symbol": "circle"
         },
         "mode": "markers",
         "name": "lan",
         "orientation": "v",
         "showlegend": true,
         "type": "scatter",
         "x": [
          "architect",
          "autres",
          "business analyst",
          "chef de projet",
          "consultant",
          "data analyst",
          "data scientist",
          "developer",
          "engineer",
          "expert"
         ],
         "xaxis": "x",
         "y": [
          0,
          0,
          0,
          0,
          0,
          0,
          0,
          0,
          1,
          0
         ],
         "yaxis": "y"
        },
        {
         "hovertemplate": "variable=langage<br>Intitulé du poste=%{x}<br>value=%{y}<extra></extra>",
         "legendgroup": "langage",
         "marker": {
          "color": "#FF97FF",
          "size": 15,
          "symbol": "circle"
         },
         "mode": "markers",
         "name": "langage",
         "orientation": "v",
         "showlegend": true,
         "type": "scatter",
         "x": [
          "architect",
          "autres",
          "business analyst",
          "chef de projet",
          "consultant",
          "data analyst",
          "data scientist",
          "developer",
          "engineer",
          "expert"
         ],
         "xaxis": "x",
         "y": [
          0,
          0,
          0,
          0,
          0,
          0,
          0,
          1,
          0,
          0
         ],
         "yaxis": "y"
        },
        {
         "hovertemplate": "variable=learning<br>Intitulé du poste=%{x}<br>value=%{y}<extra></extra>",
         "legendgroup": "learning",
         "marker": {
          "color": "#FECB52",
          "size": 15,
          "symbol": "circle"
         },
         "mode": "markers",
         "name": "learning",
         "orientation": "v",
         "showlegend": true,
         "type": "scatter",
         "x": [
          "architect",
          "autres",
          "business analyst",
          "chef de projet",
          "consultant",
          "data analyst",
          "data scientist",
          "developer",
          "engineer",
          "expert"
         ],
         "xaxis": "x",
         "y": [
          0,
          0,
          0,
          0,
          0,
          0,
          2,
          0,
          0,
          0
         ],
         "yaxis": "y"
        },
        {
         "hovertemplate": "variable=linux<br>Intitulé du poste=%{x}<br>value=%{y}<extra></extra>",
         "legendgroup": "linux",
         "marker": {
          "color": "#636efa",
          "size": 15,
          "symbol": "circle"
         },
         "mode": "markers",
         "name": "linux",
         "orientation": "v",
         "showlegend": true,
         "type": "scatter",
         "x": [
          "architect",
          "autres",
          "business analyst",
          "chef de projet",
          "consultant",
          "data analyst",
          "data scientist",
          "developer",
          "engineer",
          "expert"
         ],
         "xaxis": "x",
         "y": [
          0,
          0,
          0,
          0,
          0,
          0,
          1,
          0,
          4,
          0
         ],
         "yaxis": "y"
        },
        {
         "hovertemplate": "variable=machine<br>Intitulé du poste=%{x}<br>value=%{y}<extra></extra>",
         "legendgroup": "machine",
         "marker": {
          "color": "#EF553B",
          "size": 15,
          "symbol": "circle"
         },
         "mode": "markers",
         "name": "machine",
         "orientation": "v",
         "showlegend": true,
         "type": "scatter",
         "x": [
          "architect",
          "autres",
          "business analyst",
          "chef de projet",
          "consultant",
          "data analyst",
          "data scientist",
          "developer",
          "engineer",
          "expert"
         ],
         "xaxis": "x",
         "y": [
          0,
          0,
          0,
          0,
          0,
          0,
          2,
          0,
          0,
          0
         ],
         "yaxis": "y"
        },
        {
         "hovertemplate": "variable=maintenance<br>Intitulé du poste=%{x}<br>value=%{y}<extra></extra>",
         "legendgroup": "maintenance",
         "marker": {
          "color": "#00cc96",
          "size": 15,
          "symbol": "circle"
         },
         "mode": "markers",
         "name": "maintenance",
         "orientation": "v",
         "showlegend": true,
         "type": "scatter",
         "x": [
          "architect",
          "autres",
          "business analyst",
          "chef de projet",
          "consultant",
          "data analyst",
          "data scientist",
          "developer",
          "engineer",
          "expert"
         ],
         "xaxis": "x",
         "y": [
          0,
          0,
          0,
          0,
          0,
          0,
          0,
          0,
          1,
          0
         ],
         "yaxis": "y"
        },
        {
         "hovertemplate": "variable=management<br>Intitulé du poste=%{x}<br>value=%{y}<extra></extra>",
         "legendgroup": "management",
         "marker": {
          "color": "#ab63fa",
          "size": 15,
          "symbol": "circle"
         },
         "mode": "markers",
         "name": "management",
         "orientation": "v",
         "showlegend": true,
         "type": "scatter",
         "x": [
          "architect",
          "autres",
          "business analyst",
          "chef de projet",
          "consultant",
          "data analyst",
          "data scientist",
          "developer",
          "engineer",
          "expert"
         ],
         "xaxis": "x",
         "y": [
          0,
          1,
          0,
          0,
          0,
          4,
          2,
          0,
          0,
          0
         ],
         "yaxis": "y"
        },
        {
         "hovertemplate": "variable=marketing<br>Intitulé du poste=%{x}<br>value=%{y}<extra></extra>",
         "legendgroup": "marketing",
         "marker": {
          "color": "#FFA15A",
          "size": 15,
          "symbol": "circle"
         },
         "mode": "markers",
         "name": "marketing",
         "orientation": "v",
         "showlegend": true,
         "type": "scatter",
         "x": [
          "architect",
          "autres",
          "business analyst",
          "chef de projet",
          "consultant",
          "data analyst",
          "data scientist",
          "developer",
          "engineer",
          "expert"
         ],
         "xaxis": "x",
         "y": [
          0,
          0,
          1,
          2,
          0,
          0,
          2,
          0,
          0,
          0
         ],
         "yaxis": "y"
        },
        {
         "hovertemplate": "variable=microsoft<br>Intitulé du poste=%{x}<br>value=%{y}<extra></extra>",
         "legendgroup": "microsoft",
         "marker": {
          "color": "#19d3f3",
          "size": 15,
          "symbol": "circle"
         },
         "mode": "markers",
         "name": "microsoft",
         "orientation": "v",
         "showlegend": true,
         "type": "scatter",
         "x": [
          "architect",
          "autres",
          "business analyst",
          "chef de projet",
          "consultant",
          "data analyst",
          "data scientist",
          "developer",
          "engineer",
          "expert"
         ],
         "xaxis": "x",
         "y": [
          1,
          0,
          0,
          0,
          0,
          0,
          0,
          0,
          2,
          0
         ],
         "yaxis": "y"
        },
        {
         "hovertemplate": "variable=middleware<br>Intitulé du poste=%{x}<br>value=%{y}<extra></extra>",
         "legendgroup": "middleware",
         "marker": {
          "color": "#FF6692",
          "size": 15,
          "symbol": "circle"
         },
         "mode": "markers",
         "name": "middleware",
         "orientation": "v",
         "showlegend": true,
         "type": "scatter",
         "x": [
          "architect",
          "autres",
          "business analyst",
          "chef de projet",
          "consultant",
          "data analyst",
          "data scientist",
          "developer",
          "engineer",
          "expert"
         ],
         "xaxis": "x",
         "y": [
          0,
          0,
          0,
          0,
          0,
          0,
          0,
          0,
          1,
          1
         ],
         "yaxis": "y"
        },
        {
         "hovertemplate": "variable=mobile<br>Intitulé du poste=%{x}<br>value=%{y}<extra></extra>",
         "legendgroup": "mobile",
         "marker": {
          "color": "#B6E880",
          "size": 15,
          "symbol": "circle"
         },
         "mode": "markers",
         "name": "mobile",
         "orientation": "v",
         "showlegend": true,
         "type": "scatter",
         "x": [
          "architect",
          "autres",
          "business analyst",
          "chef de projet",
          "consultant",
          "data analyst",
          "data scientist",
          "developer",
          "engineer",
          "expert"
         ],
         "xaxis": "x",
         "y": [
          0,
          0,
          0,
          2,
          0,
          0,
          0,
          0,
          0,
          0
         ],
         "yaxis": "y"
        },
        {
         "hovertemplate": "variable=méthodologie<br>Intitulé du poste=%{x}<br>value=%{y}<extra></extra>",
         "legendgroup": "méthodologie",
         "marker": {
          "color": "#FF97FF",
          "size": 15,
          "symbol": "circle"
         },
         "mode": "markers",
         "name": "méthodologie",
         "orientation": "v",
         "showlegend": true,
         "type": "scatter",
         "x": [
          "architect",
          "autres",
          "business analyst",
          "chef de projet",
          "consultant",
          "data analyst",
          "data scientist",
          "developer",
          "engineer",
          "expert"
         ],
         "xaxis": "x",
         "y": [
          0,
          1,
          0,
          0,
          0,
          0,
          1,
          0,
          0,
          0
         ],
         "yaxis": "y"
        },
        {
         "hovertemplate": "variable=nosql<br>Intitulé du poste=%{x}<br>value=%{y}<extra></extra>",
         "legendgroup": "nosql",
         "marker": {
          "color": "#FECB52",
          "size": 15,
          "symbol": "circle"
         },
         "mode": "markers",
         "name": "nosql",
         "orientation": "v",
         "showlegend": true,
         "type": "scatter",
         "x": [
          "architect",
          "autres",
          "business analyst",
          "chef de projet",
          "consultant",
          "data analyst",
          "data scientist",
          "developer",
          "engineer",
          "expert"
         ],
         "xaxis": "x",
         "y": [
          0,
          0,
          0,
          0,
          0,
          0,
          1,
          0,
          0,
          0
         ],
         "yaxis": "y"
        },
        {
         "hovertemplate": "variable=objects<br>Intitulé du poste=%{x}<br>value=%{y}<extra></extra>",
         "legendgroup": "objects",
         "marker": {
          "color": "#636efa",
          "size": 15,
          "symbol": "circle"
         },
         "mode": "markers",
         "name": "objects",
         "orientation": "v",
         "showlegend": true,
         "type": "scatter",
         "x": [
          "architect",
          "autres",
          "business analyst",
          "chef de projet",
          "consultant",
          "data analyst",
          "data scientist",
          "developer",
          "engineer",
          "expert"
         ],
         "xaxis": "x",
         "y": [
          0,
          0,
          0,
          0,
          0,
          2,
          0,
          0,
          0,
          0
         ],
         "yaxis": "y"
        },
        {
         "hovertemplate": "variable=optimisation<br>Intitulé du poste=%{x}<br>value=%{y}<extra></extra>",
         "legendgroup": "optimisation",
         "marker": {
          "color": "#EF553B",
          "size": 15,
          "symbol": "circle"
         },
         "mode": "markers",
         "name": "optimisation",
         "orientation": "v",
         "showlegend": true,
         "type": "scatter",
         "x": [
          "architect",
          "autres",
          "business analyst",
          "chef de projet",
          "consultant",
          "data analyst",
          "data scientist",
          "developer",
          "engineer",
          "expert"
         ],
         "xaxis": "x",
         "y": [
          0,
          0,
          0,
          0,
          0,
          0,
          0,
          0,
          1,
          0
         ],
         "yaxis": "y"
        },
        {
         "hovertemplate": "variable=oracle<br>Intitulé du poste=%{x}<br>value=%{y}<extra></extra>",
         "legendgroup": "oracle",
         "marker": {
          "color": "#00cc96",
          "size": 15,
          "symbol": "circle"
         },
         "mode": "markers",
         "name": "oracle",
         "orientation": "v",
         "showlegend": true,
         "type": "scatter",
         "x": [
          "architect",
          "autres",
          "business analyst",
          "chef de projet",
          "consultant",
          "data analyst",
          "data scientist",
          "developer",
          "engineer",
          "expert"
         ],
         "xaxis": "x",
         "y": [
          0,
          0,
          0,
          0,
          2,
          0,
          0,
          0,
          0,
          0
         ],
         "yaxis": "y"
        },
        {
         "hovertemplate": "variable=outils<br>Intitulé du poste=%{x}<br>value=%{y}<extra></extra>",
         "legendgroup": "outils",
         "marker": {
          "color": "#ab63fa",
          "size": 15,
          "symbol": "circle"
         },
         "mode": "markers",
         "name": "outils",
         "orientation": "v",
         "showlegend": true,
         "type": "scatter",
         "x": [
          "architect",
          "autres",
          "business analyst",
          "chef de projet",
          "consultant",
          "data analyst",
          "data scientist",
          "developer",
          "engineer",
          "expert"
         ],
         "xaxis": "x",
         "y": [
          0,
          1,
          0,
          2,
          0,
          0,
          0,
          1,
          3,
          0
         ],
         "yaxis": "y"
        },
        {
         "hovertemplate": "variable=paas<br>Intitulé du poste=%{x}<br>value=%{y}<extra></extra>",
         "legendgroup": "paas",
         "marker": {
          "color": "#FFA15A",
          "size": 15,
          "symbol": "circle"
         },
         "mode": "markers",
         "name": "paas",
         "orientation": "v",
         "showlegend": true,
         "type": "scatter",
         "x": [
          "architect",
          "autres",
          "business analyst",
          "chef de projet",
          "consultant",
          "data analyst",
          "data scientist",
          "developer",
          "engineer",
          "expert"
         ],
         "xaxis": "x",
         "y": [
          0,
          0,
          0,
          0,
          0,
          0,
          0,
          0,
          2,
          0
         ],
         "yaxis": "y"
        },
        {
         "hovertemplate": "variable=poste<br>Intitulé du poste=%{x}<br>value=%{y}<extra></extra>",
         "legendgroup": "poste",
         "marker": {
          "color": "#19d3f3",
          "size": 15,
          "symbol": "circle"
         },
         "mode": "markers",
         "name": "poste",
         "orientation": "v",
         "showlegend": true,
         "type": "scatter",
         "x": [
          "architect",
          "autres",
          "business analyst",
          "chef de projet",
          "consultant",
          "data analyst",
          "data scientist",
          "developer",
          "engineer",
          "expert"
         ],
         "xaxis": "x",
         "y": [
          1,
          0,
          0,
          0,
          0,
          0,
          0,
          0,
          0,
          0
         ],
         "yaxis": "y"
        },
        {
         "hovertemplate": "variable=python<br>Intitulé du poste=%{x}<br>value=%{y}<extra></extra>",
         "legendgroup": "python",
         "marker": {
          "color": "#FF6692",
          "size": 15,
          "symbol": "circle"
         },
         "mode": "markers",
         "name": "python",
         "orientation": "v",
         "showlegend": true,
         "type": "scatter",
         "x": [
          "architect",
          "autres",
          "business analyst",
          "chef de projet",
          "consultant",
          "data analyst",
          "data scientist",
          "developer",
          "engineer",
          "expert"
         ],
         "xaxis": "x",
         "y": [
          0,
          0,
          0,
          0,
          2,
          0,
          0,
          0,
          4,
          0
         ],
         "yaxis": "y"
        },
        {
         "hovertemplate": "variable=quality<br>Intitulé du poste=%{x}<br>value=%{y}<extra></extra>",
         "legendgroup": "quality",
         "marker": {
          "color": "#B6E880",
          "size": 15,
          "symbol": "circle"
         },
         "mode": "markers",
         "name": "quality",
         "orientation": "v",
         "showlegend": true,
         "type": "scatter",
         "x": [
          "architect",
          "autres",
          "business analyst",
          "chef de projet",
          "consultant",
          "data analyst",
          "data scientist",
          "developer",
          "engineer",
          "expert"
         ],
         "xaxis": "x",
         "y": [
          0,
          1,
          0,
          0,
          0,
          0,
          0,
          0,
          0,
          0
         ],
         "yaxis": "y"
        },
        {
         "hovertemplate": "variable=recette<br>Intitulé du poste=%{x}<br>value=%{y}<extra></extra>",
         "legendgroup": "recette",
         "marker": {
          "color": "#FF97FF",
          "size": 15,
          "symbol": "circle"
         },
         "mode": "markers",
         "name": "recette",
         "orientation": "v",
         "showlegend": true,
         "type": "scatter",
         "x": [
          "architect",
          "autres",
          "business analyst",
          "chef de projet",
          "consultant",
          "data analyst",
          "data scientist",
          "developer",
          "engineer",
          "expert"
         ],
         "xaxis": "x",
         "y": [
          0,
          0,
          1,
          0,
          0,
          0,
          0,
          0,
          0,
          0
         ],
         "yaxis": "y"
        },
        {
         "hovertemplate": "variable=réseau<br>Intitulé du poste=%{x}<br>value=%{y}<extra></extra>",
         "legendgroup": "réseau",
         "marker": {
          "color": "#FECB52",
          "size": 15,
          "symbol": "circle"
         },
         "mode": "markers",
         "name": "réseau",
         "orientation": "v",
         "showlegend": true,
         "type": "scatter",
         "x": [
          "architect",
          "autres",
          "business analyst",
          "chef de projet",
          "consultant",
          "data analyst",
          "data scientist",
          "developer",
          "engineer",
          "expert"
         ],
         "xaxis": "x",
         "y": [
          0,
          0,
          2,
          0,
          0,
          0,
          0,
          0,
          1,
          0
         ],
         "yaxis": "y"
        },
        {
         "hovertemplate": "variable=réseaux<br>Intitulé du poste=%{x}<br>value=%{y}<extra></extra>",
         "legendgroup": "réseaux",
         "marker": {
          "color": "#636efa",
          "size": 15,
          "symbol": "circle"
         },
         "mode": "markers",
         "name": "réseaux",
         "orientation": "v",
         "showlegend": true,
         "type": "scatter",
         "x": [
          "architect",
          "autres",
          "business analyst",
          "chef de projet",
          "consultant",
          "data analyst",
          "data scientist",
          "developer",
          "engineer",
          "expert"
         ],
         "xaxis": "x",
         "y": [
          0,
          0,
          0,
          0,
          0,
          0,
          0,
          0,
          4,
          0
         ],
         "yaxis": "y"
        },
        {
         "hovertemplate": "variable=saas<br>Intitulé du poste=%{x}<br>value=%{y}<extra></extra>",
         "legendgroup": "saas",
         "marker": {
          "color": "#EF553B",
          "size": 15,
          "symbol": "circle"
         },
         "mode": "markers",
         "name": "saas",
         "orientation": "v",
         "showlegend": true,
         "type": "scatter",
         "x": [
          "architect",
          "autres",
          "business analyst",
          "chef de projet",
          "consultant",
          "data analyst",
          "data scientist",
          "developer",
          "engineer",
          "expert"
         ],
         "xaxis": "x",
         "y": [
          0,
          0,
          0,
          0,
          0,
          0,
          0,
          0,
          1,
          0
         ],
         "yaxis": "y"
        },
        {
         "hovertemplate": "variable=sap<br>Intitulé du poste=%{x}<br>value=%{y}<extra></extra>",
         "legendgroup": "sap",
         "marker": {
          "color": "#00cc96",
          "size": 15,
          "symbol": "circle"
         },
         "mode": "markers",
         "name": "sap",
         "orientation": "v",
         "showlegend": true,
         "type": "scatter",
         "x": [
          "architect",
          "autres",
          "business analyst",
          "chef de projet",
          "consultant",
          "data analyst",
          "data scientist",
          "developer",
          "engineer",
          "expert"
         ],
         "xaxis": "x",
         "y": [
          0,
          0,
          0,
          0,
          2,
          0,
          0,
          0,
          0,
          0
         ],
         "yaxis": "y"
        },
        {
         "hovertemplate": "variable=securité<br>Intitulé du poste=%{x}<br>value=%{y}<extra></extra>",
         "legendgroup": "securité",
         "marker": {
          "color": "#ab63fa",
          "size": 15,
          "symbol": "circle"
         },
         "mode": "markers",
         "name": "securité",
         "orientation": "v",
         "showlegend": true,
         "type": "scatter",
         "x": [
          "architect",
          "autres",
          "business analyst",
          "chef de projet",
          "consultant",
          "data analyst",
          "data scientist",
          "developer",
          "engineer",
          "expert"
         ],
         "xaxis": "x",
         "y": [
          0,
          0,
          0,
          0,
          0,
          0,
          0,
          0,
          7,
          0
         ],
         "yaxis": "y"
        },
        {
         "hovertemplate": "variable=server<br>Intitulé du poste=%{x}<br>value=%{y}<extra></extra>",
         "legendgroup": "server",
         "marker": {
          "color": "#FFA15A",
          "size": 15,
          "symbol": "circle"
         },
         "mode": "markers",
         "name": "server",
         "orientation": "v",
         "showlegend": true,
         "type": "scatter",
         "x": [
          "architect",
          "autres",
          "business analyst",
          "chef de projet",
          "consultant",
          "data analyst",
          "data scientist",
          "developer",
          "engineer",
          "expert"
         ],
         "xaxis": "x",
         "y": [
          0,
          0,
          0,
          0,
          0,
          0,
          0,
          0,
          1,
          0
         ],
         "yaxis": "y"
        },
        {
         "hovertemplate": "variable=si<br>Intitulé du poste=%{x}<br>value=%{y}<extra></extra>",
         "legendgroup": "si",
         "marker": {
          "color": "#19d3f3",
          "size": 15,
          "symbol": "circle"
         },
         "mode": "markers",
         "name": "si",
         "orientation": "v",
         "showlegend": true,
         "type": "scatter",
         "x": [
          "architect",
          "autres",
          "business analyst",
          "chef de projet",
          "consultant",
          "data analyst",
          "data scientist",
          "developer",
          "engineer",
          "expert"
         ],
         "xaxis": "x",
         "y": [
          1,
          2,
          1,
          0,
          0,
          0,
          0,
          0,
          1,
          0
         ],
         "yaxis": "y"
        },
        {
         "hovertemplate": "variable=spring<br>Intitulé du poste=%{x}<br>value=%{y}<extra></extra>",
         "legendgroup": "spring",
         "marker": {
          "color": "#FF6692",
          "size": 15,
          "symbol": "circle"
         },
         "mode": "markers",
         "name": "spring",
         "orientation": "v",
         "showlegend": true,
         "type": "scatter",
         "x": [
          "architect",
          "autres",
          "business analyst",
          "chef de projet",
          "consultant",
          "data analyst",
          "data scientist",
          "developer",
          "engineer",
          "expert"
         ],
         "xaxis": "x",
         "y": [
          0,
          1,
          0,
          0,
          0,
          0,
          0,
          0,
          0,
          0
         ],
         "yaxis": "y"
        },
        {
         "hovertemplate": "variable=sql<br>Intitulé du poste=%{x}<br>value=%{y}<extra></extra>",
         "legendgroup": "sql",
         "marker": {
          "color": "#B6E880",
          "size": 15,
          "symbol": "circle"
         },
         "mode": "markers",
         "name": "sql",
         "orientation": "v",
         "showlegend": true,
         "type": "scatter",
         "x": [
          "architect",
          "autres",
          "business analyst",
          "chef de projet",
          "consultant",
          "data analyst",
          "data scientist",
          "developer",
          "engineer",
          "expert"
         ],
         "xaxis": "x",
         "y": [
          0,
          0,
          0,
          0,
          0,
          4,
          0,
          2,
          1,
          0
         ],
         "yaxis": "y"
        },
        {
         "hovertemplate": "variable=support<br>Intitulé du poste=%{x}<br>value=%{y}<extra></extra>",
         "legendgroup": "support",
         "marker": {
          "color": "#FF97FF",
          "size": 15,
          "symbol": "circle"
         },
         "mode": "markers",
         "name": "support",
         "orientation": "v",
         "showlegend": true,
         "type": "scatter",
         "x": [
          "architect",
          "autres",
          "business analyst",
          "chef de projet",
          "consultant",
          "data analyst",
          "data scientist",
          "developer",
          "engineer",
          "expert"
         ],
         "xaxis": "x",
         "y": [
          2,
          1,
          0,
          0,
          0,
          2,
          2,
          0,
          6,
          1
         ],
         "yaxis": "y"
        },
        {
         "hovertemplate": "variable=système<br>Intitulé du poste=%{x}<br>value=%{y}<extra></extra>",
         "legendgroup": "système",
         "marker": {
          "color": "#FECB52",
          "size": 15,
          "symbol": "circle"
         },
         "mode": "markers",
         "name": "système",
         "orientation": "v",
         "showlegend": true,
         "type": "scatter",
         "x": [
          "architect",
          "autres",
          "business analyst",
          "chef de projet",
          "consultant",
          "data analyst",
          "data scientist",
          "developer",
          "engineer",
          "expert"
         ],
         "xaxis": "x",
         "y": [
          1,
          0,
          2,
          0,
          0,
          0,
          0,
          0,
          3,
          0
         ],
         "yaxis": "y"
        },
        {
         "hovertemplate": "variable=sécurité<br>Intitulé du poste=%{x}<br>value=%{y}<extra></extra>",
         "legendgroup": "sécurité",
         "marker": {
          "color": "#636efa",
          "size": 15,
          "symbol": "circle"
         },
         "mode": "markers",
         "name": "sécurité",
         "orientation": "v",
         "showlegend": true,
         "type": "scatter",
         "x": [
          "architect",
          "autres",
          "business analyst",
          "chef de projet",
          "consultant",
          "data analyst",
          "data scientist",
          "developer",
          "engineer",
          "expert"
         ],
         "xaxis": "x",
         "y": [
          0,
          1,
          0,
          0,
          0,
          0,
          0,
          1,
          5,
          0
         ],
         "yaxis": "y"
        },
        {
         "hovertemplate": "variable=tomcat<br>Intitulé du poste=%{x}<br>value=%{y}<extra></extra>",
         "legendgroup": "tomcat",
         "marker": {
          "color": "#EF553B",
          "size": 15,
          "symbol": "circle"
         },
         "mode": "markers",
         "name": "tomcat",
         "orientation": "v",
         "showlegend": true,
         "type": "scatter",
         "x": [
          "architect",
          "autres",
          "business analyst",
          "chef de projet",
          "consultant",
          "data analyst",
          "data scientist",
          "developer",
          "engineer",
          "expert"
         ],
         "xaxis": "x",
         "y": [
          0,
          0,
          0,
          0,
          0,
          0,
          0,
          0,
          0,
          1
         ],
         "yaxis": "y"
        },
        {
         "hovertemplate": "variable=travail<br>Intitulé du poste=%{x}<br>value=%{y}<extra></extra>",
         "legendgroup": "travail",
         "marker": {
          "color": "#00cc96",
          "size": 15,
          "symbol": "circle"
         },
         "mode": "markers",
         "name": "travail",
         "orientation": "v",
         "showlegend": true,
         "type": "scatter",
         "x": [
          "architect",
          "autres",
          "business analyst",
          "chef de projet",
          "consultant",
          "data analyst",
          "data scientist",
          "developer",
          "engineer",
          "expert"
         ],
         "xaxis": "x",
         "y": [
          1,
          0,
          0,
          0,
          0,
          0,
          0,
          0,
          0,
          0
         ],
         "yaxis": "y"
        },
        {
         "hovertemplate": "variable=unix<br>Intitulé du poste=%{x}<br>value=%{y}<extra></extra>",
         "legendgroup": "unix",
         "marker": {
          "color": "#ab63fa",
          "size": 15,
          "symbol": "circle"
         },
         "mode": "markers",
         "name": "unix",
         "orientation": "v",
         "showlegend": true,
         "type": "scatter",
         "x": [
          "architect",
          "autres",
          "business analyst",
          "chef de projet",
          "consultant",
          "data analyst",
          "data scientist",
          "developer",
          "engineer",
          "expert"
         ],
         "xaxis": "x",
         "y": [
          0,
          0,
          0,
          0,
          0,
          0,
          1,
          0,
          3,
          1
         ],
         "yaxis": "y"
        },
        {
         "hovertemplate": "variable=ux<br>Intitulé du poste=%{x}<br>value=%{y}<extra></extra>",
         "legendgroup": "ux",
         "marker": {
          "color": "#FFA15A",
          "size": 15,
          "symbol": "circle"
         },
         "mode": "markers",
         "name": "ux",
         "orientation": "v",
         "showlegend": true,
         "type": "scatter",
         "x": [
          "architect",
          "autres",
          "business analyst",
          "chef de projet",
          "consultant",
          "data analyst",
          "data scientist",
          "developer",
          "engineer",
          "expert"
         ],
         "xaxis": "x",
         "y": [
          0,
          0,
          0,
          2,
          0,
          0,
          0,
          0,
          0,
          0
         ],
         "yaxis": "y"
        },
        {
         "hovertemplate": "variable=vba<br>Intitulé du poste=%{x}<br>value=%{y}<extra></extra>",
         "legendgroup": "vba",
         "marker": {
          "color": "#19d3f3",
          "size": 15,
          "symbol": "circle"
         },
         "mode": "markers",
         "name": "vba",
         "orientation": "v",
         "showlegend": true,
         "type": "scatter",
         "x": [
          "architect",
          "autres",
          "business analyst",
          "chef de projet",
          "consultant",
          "data analyst",
          "data scientist",
          "developer",
          "engineer",
          "expert"
         ],
         "xaxis": "x",
         "y": [
          0,
          0,
          0,
          0,
          0,
          0,
          0,
          1,
          0,
          0
         ],
         "yaxis": "y"
        },
        {
         "hovertemplate": "variable=vmware<br>Intitulé du poste=%{x}<br>value=%{y}<extra></extra>",
         "legendgroup": "vmware",
         "marker": {
          "color": "#FF6692",
          "size": 15,
          "symbol": "circle"
         },
         "mode": "markers",
         "name": "vmware",
         "orientation": "v",
         "showlegend": true,
         "type": "scatter",
         "x": [
          "architect",
          "autres",
          "business analyst",
          "chef de projet",
          "consultant",
          "data analyst",
          "data scientist",
          "developer",
          "engineer",
          "expert"
         ],
         "xaxis": "x",
         "y": [
          0,
          0,
          0,
          0,
          0,
          0,
          0,
          0,
          2,
          0
         ],
         "yaxis": "y"
        },
        {
         "hovertemplate": "variable=wan<br>Intitulé du poste=%{x}<br>value=%{y}<extra></extra>",
         "legendgroup": "wan",
         "marker": {
          "color": "#B6E880",
          "size": 15,
          "symbol": "circle"
         },
         "mode": "markers",
         "name": "wan",
         "orientation": "v",
         "showlegend": true,
         "type": "scatter",
         "x": [
          "architect",
          "autres",
          "business analyst",
          "chef de projet",
          "consultant",
          "data analyst",
          "data scientist",
          "developer",
          "engineer",
          "expert"
         ],
         "xaxis": "x",
         "y": [
          0,
          0,
          0,
          0,
          0,
          0,
          0,
          0,
          1,
          0
         ],
         "yaxis": "y"
        },
        {
         "hovertemplate": "variable=web<br>Intitulé du poste=%{x}<br>value=%{y}<extra></extra>",
         "legendgroup": "web",
         "marker": {
          "color": "#FF97FF",
          "size": 15,
          "symbol": "circle"
         },
         "mode": "markers",
         "name": "web",
         "orientation": "v",
         "showlegend": true,
         "type": "scatter",
         "x": [
          "architect",
          "autres",
          "business analyst",
          "chef de projet",
          "consultant",
          "data analyst",
          "data scientist",
          "developer",
          "engineer",
          "expert"
         ],
         "xaxis": "x",
         "y": [
          0,
          1,
          0,
          0,
          0,
          0,
          0,
          3,
          1,
          0
         ],
         "yaxis": "y"
        },
        {
         "hovertemplate": "variable=weblogic<br>Intitulé du poste=%{x}<br>value=%{y}<extra></extra>",
         "legendgroup": "weblogic",
         "marker": {
          "color": "#FECB52",
          "size": 15,
          "symbol": "circle"
         },
         "mode": "markers",
         "name": "weblogic",
         "orientation": "v",
         "showlegend": true,
         "type": "scatter",
         "x": [
          "architect",
          "autres",
          "business analyst",
          "chef de projet",
          "consultant",
          "data analyst",
          "data scientist",
          "developer",
          "engineer",
          "expert"
         ],
         "xaxis": "x",
         "y": [
          0,
          0,
          0,
          0,
          0,
          0,
          0,
          0,
          0,
          1
         ],
         "yaxis": "y"
        },
        {
         "hovertemplate": "variable=windows<br>Intitulé du poste=%{x}<br>value=%{y}<extra></extra>",
         "legendgroup": "windows",
         "marker": {
          "color": "#636efa",
          "size": 15,
          "symbol": "circle"
         },
         "mode": "markers",
         "name": "windows",
         "orientation": "v",
         "showlegend": true,
         "type": "scatter",
         "x": [
          "architect",
          "autres",
          "business analyst",
          "chef de projet",
          "consultant",
          "data analyst",
          "data scientist",
          "developer",
          "engineer",
          "expert"
         ],
         "xaxis": "x",
         "y": [
          0,
          0,
          0,
          0,
          0,
          0,
          0,
          0,
          4,
          0
         ],
         "yaxis": "y"
        }
       ],
       "layout": {
        "legend": {
         "title": {
          "text": "variable"
         },
         "tracegroupgap": 0
        },
        "template": {
         "data": {
          "bar": [
           {
            "error_x": {
             "color": "#2a3f5f"
            },
            "error_y": {
             "color": "#2a3f5f"
            },
            "marker": {
             "line": {
              "color": "#E5ECF6",
              "width": 0.5
             },
             "pattern": {
              "fillmode": "overlay",
              "size": 10,
              "solidity": 0.2
             }
            },
            "type": "bar"
           }
          ],
          "barpolar": [
           {
            "marker": {
             "line": {
              "color": "#E5ECF6",
              "width": 0.5
             },
             "pattern": {
              "fillmode": "overlay",
              "size": 10,
              "solidity": 0.2
             }
            },
            "type": "barpolar"
           }
          ],
          "carpet": [
           {
            "aaxis": {
             "endlinecolor": "#2a3f5f",
             "gridcolor": "white",
             "linecolor": "white",
             "minorgridcolor": "white",
             "startlinecolor": "#2a3f5f"
            },
            "baxis": {
             "endlinecolor": "#2a3f5f",
             "gridcolor": "white",
             "linecolor": "white",
             "minorgridcolor": "white",
             "startlinecolor": "#2a3f5f"
            },
            "type": "carpet"
           }
          ],
          "choropleth": [
           {
            "colorbar": {
             "outlinewidth": 0,
             "ticks": ""
            },
            "type": "choropleth"
           }
          ],
          "contour": [
           {
            "colorbar": {
             "outlinewidth": 0,
             "ticks": ""
            },
            "colorscale": [
             [
              0,
              "#0d0887"
             ],
             [
              0.1111111111111111,
              "#46039f"
             ],
             [
              0.2222222222222222,
              "#7201a8"
             ],
             [
              0.3333333333333333,
              "#9c179e"
             ],
             [
              0.4444444444444444,
              "#bd3786"
             ],
             [
              0.5555555555555556,
              "#d8576b"
             ],
             [
              0.6666666666666666,
              "#ed7953"
             ],
             [
              0.7777777777777778,
              "#fb9f3a"
             ],
             [
              0.8888888888888888,
              "#fdca26"
             ],
             [
              1,
              "#f0f921"
             ]
            ],
            "type": "contour"
           }
          ],
          "contourcarpet": [
           {
            "colorbar": {
             "outlinewidth": 0,
             "ticks": ""
            },
            "type": "contourcarpet"
           }
          ],
          "heatmap": [
           {
            "colorbar": {
             "outlinewidth": 0,
             "ticks": ""
            },
            "colorscale": [
             [
              0,
              "#0d0887"
             ],
             [
              0.1111111111111111,
              "#46039f"
             ],
             [
              0.2222222222222222,
              "#7201a8"
             ],
             [
              0.3333333333333333,
              "#9c179e"
             ],
             [
              0.4444444444444444,
              "#bd3786"
             ],
             [
              0.5555555555555556,
              "#d8576b"
             ],
             [
              0.6666666666666666,
              "#ed7953"
             ],
             [
              0.7777777777777778,
              "#fb9f3a"
             ],
             [
              0.8888888888888888,
              "#fdca26"
             ],
             [
              1,
              "#f0f921"
             ]
            ],
            "type": "heatmap"
           }
          ],
          "heatmapgl": [
           {
            "colorbar": {
             "outlinewidth": 0,
             "ticks": ""
            },
            "colorscale": [
             [
              0,
              "#0d0887"
             ],
             [
              0.1111111111111111,
              "#46039f"
             ],
             [
              0.2222222222222222,
              "#7201a8"
             ],
             [
              0.3333333333333333,
              "#9c179e"
             ],
             [
              0.4444444444444444,
              "#bd3786"
             ],
             [
              0.5555555555555556,
              "#d8576b"
             ],
             [
              0.6666666666666666,
              "#ed7953"
             ],
             [
              0.7777777777777778,
              "#fb9f3a"
             ],
             [
              0.8888888888888888,
              "#fdca26"
             ],
             [
              1,
              "#f0f921"
             ]
            ],
            "type": "heatmapgl"
           }
          ],
          "histogram": [
           {
            "marker": {
             "pattern": {
              "fillmode": "overlay",
              "size": 10,
              "solidity": 0.2
             }
            },
            "type": "histogram"
           }
          ],
          "histogram2d": [
           {
            "colorbar": {
             "outlinewidth": 0,
             "ticks": ""
            },
            "colorscale": [
             [
              0,
              "#0d0887"
             ],
             [
              0.1111111111111111,
              "#46039f"
             ],
             [
              0.2222222222222222,
              "#7201a8"
             ],
             [
              0.3333333333333333,
              "#9c179e"
             ],
             [
              0.4444444444444444,
              "#bd3786"
             ],
             [
              0.5555555555555556,
              "#d8576b"
             ],
             [
              0.6666666666666666,
              "#ed7953"
             ],
             [
              0.7777777777777778,
              "#fb9f3a"
             ],
             [
              0.8888888888888888,
              "#fdca26"
             ],
             [
              1,
              "#f0f921"
             ]
            ],
            "type": "histogram2d"
           }
          ],
          "histogram2dcontour": [
           {
            "colorbar": {
             "outlinewidth": 0,
             "ticks": ""
            },
            "colorscale": [
             [
              0,
              "#0d0887"
             ],
             [
              0.1111111111111111,
              "#46039f"
             ],
             [
              0.2222222222222222,
              "#7201a8"
             ],
             [
              0.3333333333333333,
              "#9c179e"
             ],
             [
              0.4444444444444444,
              "#bd3786"
             ],
             [
              0.5555555555555556,
              "#d8576b"
             ],
             [
              0.6666666666666666,
              "#ed7953"
             ],
             [
              0.7777777777777778,
              "#fb9f3a"
             ],
             [
              0.8888888888888888,
              "#fdca26"
             ],
             [
              1,
              "#f0f921"
             ]
            ],
            "type": "histogram2dcontour"
           }
          ],
          "mesh3d": [
           {
            "colorbar": {
             "outlinewidth": 0,
             "ticks": ""
            },
            "type": "mesh3d"
           }
          ],
          "parcoords": [
           {
            "line": {
             "colorbar": {
              "outlinewidth": 0,
              "ticks": ""
             }
            },
            "type": "parcoords"
           }
          ],
          "pie": [
           {
            "automargin": true,
            "type": "pie"
           }
          ],
          "scatter": [
           {
            "fillpattern": {
             "fillmode": "overlay",
             "size": 10,
             "solidity": 0.2
            },
            "type": "scatter"
           }
          ],
          "scatter3d": [
           {
            "line": {
             "colorbar": {
              "outlinewidth": 0,
              "ticks": ""
             }
            },
            "marker": {
             "colorbar": {
              "outlinewidth": 0,
              "ticks": ""
             }
            },
            "type": "scatter3d"
           }
          ],
          "scattercarpet": [
           {
            "marker": {
             "colorbar": {
              "outlinewidth": 0,
              "ticks": ""
             }
            },
            "type": "scattercarpet"
           }
          ],
          "scattergeo": [
           {
            "marker": {
             "colorbar": {
              "outlinewidth": 0,
              "ticks": ""
             }
            },
            "type": "scattergeo"
           }
          ],
          "scattergl": [
           {
            "marker": {
             "colorbar": {
              "outlinewidth": 0,
              "ticks": ""
             }
            },
            "type": "scattergl"
           }
          ],
          "scattermapbox": [
           {
            "marker": {
             "colorbar": {
              "outlinewidth": 0,
              "ticks": ""
             }
            },
            "type": "scattermapbox"
           }
          ],
          "scatterpolar": [
           {
            "marker": {
             "colorbar": {
              "outlinewidth": 0,
              "ticks": ""
             }
            },
            "type": "scatterpolar"
           }
          ],
          "scatterpolargl": [
           {
            "marker": {
             "colorbar": {
              "outlinewidth": 0,
              "ticks": ""
             }
            },
            "type": "scatterpolargl"
           }
          ],
          "scatterternary": [
           {
            "marker": {
             "colorbar": {
              "outlinewidth": 0,
              "ticks": ""
             }
            },
            "type": "scatterternary"
           }
          ],
          "surface": [
           {
            "colorbar": {
             "outlinewidth": 0,
             "ticks": ""
            },
            "colorscale": [
             [
              0,
              "#0d0887"
             ],
             [
              0.1111111111111111,
              "#46039f"
             ],
             [
              0.2222222222222222,
              "#7201a8"
             ],
             [
              0.3333333333333333,
              "#9c179e"
             ],
             [
              0.4444444444444444,
              "#bd3786"
             ],
             [
              0.5555555555555556,
              "#d8576b"
             ],
             [
              0.6666666666666666,
              "#ed7953"
             ],
             [
              0.7777777777777778,
              "#fb9f3a"
             ],
             [
              0.8888888888888888,
              "#fdca26"
             ],
             [
              1,
              "#f0f921"
             ]
            ],
            "type": "surface"
           }
          ],
          "table": [
           {
            "cells": {
             "fill": {
              "color": "#EBF0F8"
             },
             "line": {
              "color": "white"
             }
            },
            "header": {
             "fill": {
              "color": "#C8D4E3"
             },
             "line": {
              "color": "white"
             }
            },
            "type": "table"
           }
          ]
         },
         "layout": {
          "annotationdefaults": {
           "arrowcolor": "#2a3f5f",
           "arrowhead": 0,
           "arrowwidth": 1
          },
          "autotypenumbers": "strict",
          "coloraxis": {
           "colorbar": {
            "outlinewidth": 0,
            "ticks": ""
           }
          },
          "colorscale": {
           "diverging": [
            [
             0,
             "#8e0152"
            ],
            [
             0.1,
             "#c51b7d"
            ],
            [
             0.2,
             "#de77ae"
            ],
            [
             0.3,
             "#f1b6da"
            ],
            [
             0.4,
             "#fde0ef"
            ],
            [
             0.5,
             "#f7f7f7"
            ],
            [
             0.6,
             "#e6f5d0"
            ],
            [
             0.7,
             "#b8e186"
            ],
            [
             0.8,
             "#7fbc41"
            ],
            [
             0.9,
             "#4d9221"
            ],
            [
             1,
             "#276419"
            ]
           ],
           "sequential": [
            [
             0,
             "#0d0887"
            ],
            [
             0.1111111111111111,
             "#46039f"
            ],
            [
             0.2222222222222222,
             "#7201a8"
            ],
            [
             0.3333333333333333,
             "#9c179e"
            ],
            [
             0.4444444444444444,
             "#bd3786"
            ],
            [
             0.5555555555555556,
             "#d8576b"
            ],
            [
             0.6666666666666666,
             "#ed7953"
            ],
            [
             0.7777777777777778,
             "#fb9f3a"
            ],
            [
             0.8888888888888888,
             "#fdca26"
            ],
            [
             1,
             "#f0f921"
            ]
           ],
           "sequentialminus": [
            [
             0,
             "#0d0887"
            ],
            [
             0.1111111111111111,
             "#46039f"
            ],
            [
             0.2222222222222222,
             "#7201a8"
            ],
            [
             0.3333333333333333,
             "#9c179e"
            ],
            [
             0.4444444444444444,
             "#bd3786"
            ],
            [
             0.5555555555555556,
             "#d8576b"
            ],
            [
             0.6666666666666666,
             "#ed7953"
            ],
            [
             0.7777777777777778,
             "#fb9f3a"
            ],
            [
             0.8888888888888888,
             "#fdca26"
            ],
            [
             1,
             "#f0f921"
            ]
           ]
          },
          "colorway": [
           "#636efa",
           "#EF553B",
           "#00cc96",
           "#ab63fa",
           "#FFA15A",
           "#19d3f3",
           "#FF6692",
           "#B6E880",
           "#FF97FF",
           "#FECB52"
          ],
          "font": {
           "color": "#2a3f5f"
          },
          "geo": {
           "bgcolor": "white",
           "lakecolor": "white",
           "landcolor": "#E5ECF6",
           "showlakes": true,
           "showland": true,
           "subunitcolor": "white"
          },
          "hoverlabel": {
           "align": "left"
          },
          "hovermode": "closest",
          "mapbox": {
           "style": "light"
          },
          "paper_bgcolor": "white",
          "plot_bgcolor": "#E5ECF6",
          "polar": {
           "angularaxis": {
            "gridcolor": "white",
            "linecolor": "white",
            "ticks": ""
           },
           "bgcolor": "#E5ECF6",
           "radialaxis": {
            "gridcolor": "white",
            "linecolor": "white",
            "ticks": ""
           }
          },
          "scene": {
           "xaxis": {
            "backgroundcolor": "#E5ECF6",
            "gridcolor": "white",
            "gridwidth": 2,
            "linecolor": "white",
            "showbackground": true,
            "ticks": "",
            "zerolinecolor": "white"
           },
           "yaxis": {
            "backgroundcolor": "#E5ECF6",
            "gridcolor": "white",
            "gridwidth": 2,
            "linecolor": "white",
            "showbackground": true,
            "ticks": "",
            "zerolinecolor": "white"
           },
           "zaxis": {
            "backgroundcolor": "#E5ECF6",
            "gridcolor": "white",
            "gridwidth": 2,
            "linecolor": "white",
            "showbackground": true,
            "ticks": "",
            "zerolinecolor": "white"
           }
          },
          "shapedefaults": {
           "line": {
            "color": "#2a3f5f"
           }
          },
          "ternary": {
           "aaxis": {
            "gridcolor": "white",
            "linecolor": "white",
            "ticks": ""
           },
           "baxis": {
            "gridcolor": "white",
            "linecolor": "white",
            "ticks": ""
           },
           "bgcolor": "#E5ECF6",
           "caxis": {
            "gridcolor": "white",
            "linecolor": "white",
            "ticks": ""
           }
          },
          "title": {
           "x": 0.05
          },
          "xaxis": {
           "automargin": true,
           "gridcolor": "white",
           "linecolor": "white",
           "ticks": "",
           "title": {
            "standoff": 15
           },
           "zerolinecolor": "white",
           "zerolinewidth": 2
          },
          "yaxis": {
           "automargin": true,
           "gridcolor": "white",
           "linecolor": "white",
           "ticks": "",
           "title": {
            "standoff": 15
           },
           "zerolinecolor": "white",
           "zerolinewidth": 2
          }
         }
        },
        "title": {
         "text": "Répartition des compétences pour les différents Intitulés du poste"
        },
        "xaxis": {
         "anchor": "y",
         "domain": [
          0,
          1
         ],
         "title": {
          "text": "Intitulé du poste"
         }
        },
        "yaxis": {
         "anchor": "x",
         "domain": [
          0,
          1
         ],
         "title": {
          "text": "value"
         }
        }
       }
      }
     },
     "metadata": {},
     "output_type": "display_data"
    }
   ],
   "source": [
    "\n",
    "fig = px.scatter(df_gb, title=\"Répartition des compétences pour les différents Intitulés du poste\")\n",
    "fig.update_traces(marker={'size': 15})\n",
    "fig.show()"
   ]
  }
 ],
 "metadata": {
  "kernelspec": {
   "display_name": "base",
   "language": "python",
   "name": "python3"
  },
  "language_info": {
   "codemirror_mode": {
    "name": "ipython",
    "version": 3
   },
   "file_extension": ".py",
   "mimetype": "text/x-python",
   "name": "python",
   "nbconvert_exporter": "python",
   "pygments_lexer": "ipython3",
   "version": "3.9.13"
  },
  "orig_nbformat": 4,
  "vscode": {
   "interpreter": {
    "hash": "70cfd609d7ba4145b3fedff821ecc63fd4c765afddbe882b67e97f0bba880cb4"
   }
  }
 },
 "nbformat": 4,
 "nbformat_minor": 2
}
