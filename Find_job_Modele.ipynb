{
 "cells": [
  {
   "cell_type": "code",
   "execution_count": 32,
   "metadata": {},
   "outputs": [],
   "source": [
    "import pandas as pd\n",
    "import numpy as np\n",
    "from sklearn.preprocessing import StandardScaler\n",
    "from sklearn.preprocessing import OneHotEncoder\n",
    "from sklearn.feature_extraction.text import CountVectorizer\n",
    "from sklearn.ensemble import RandomForestRegressor\n",
    "from sklearn.model_selection import train_test_split\n",
    "from sklearn.metrics import r2_score"
   ]
  },
  {
   "cell_type": "code",
   "execution_count": 40,
   "metadata": {},
   "outputs": [
    {
     "data": {
      "text/plain": [
       "(43, 6)"
      ]
     },
     "execution_count": 40,
     "metadata": {},
     "output_type": "execute_result"
    }
   ],
   "source": [
    "data = pd.read_csv('clean_data.csv', sep=',')\n",
    "df = data.copy()\n",
    "df = df.drop(['Unnamed: 0', 'Date de publication', 'lieu'], axis=1)\n",
    "df['Type de contrat'].fillna('cdi', inplace=True)\n",
    "df = df.dropna(subset='salaire_minimum')\n",
    "df.shape"
   ]
  },
  {
   "cell_type": "code",
   "execution_count": 43,
   "metadata": {},
   "outputs": [
    {
     "data": {
      "text/plain": [
       "5      support sql data management business objects t...\n",
       "7      data management business intelligence bases de...\n",
       "14                     marketing data management support\n",
       "16                      big data oracle cloud sap python\n",
       "19                    marketing outils digital ux mobile\n",
       "21     si data management data quality méthodologie o...\n",
       "24     business intelligence crm intelligence artific...\n",
       "25     intelligence artificielle business intelligenc...\n",
       "28     business intelligence marketing intelligence a...\n",
       "38                   machine learning méthodologie agile\n",
       "43         recette si big data intelligence artificielle\n",
       "53                                                 agile\n",
       "65     support sql data management business objects t...\n",
       "67     data management business intelligence bases de...\n",
       "74                     marketing data management support\n",
       "76                      big data oracle cloud sap python\n",
       "79                    marketing outils digital ux mobile\n",
       "95                 sécurité securité réseaux lan support\n",
       "97            devops jenkins outils linux infrastructure\n",
       "98             support vmware python javascript securité\n",
       "101          support communication big data cloud hadoop\n",
       "102             vmware support windows microsoft système\n",
       "104                  cloud saas paas iaas infrastructure\n",
       "108                      windows unix cft réseaux outils\n",
       "109               réseau cisco réseaux sécurité securité\n",
       "120                            vba web langage t-sql sql\n",
       "125    middleware support infrastructure optimisation...\n",
       "126                    infrastructure support si système\n",
       "127                   cloud support python paas securité\n",
       "139    poste de travail microsoft support cloud infra...\n",
       "140                    cloud securité devops sécurité si\n",
       "141         réseaux sécurité securité infrastructure wan\n",
       "144                 linux unix windows hp infrastructure\n",
       "147           devops outils linux infrastructure jenkins\n",
       "149            cloud devops sécurité securité sql server\n",
       "153                         java j2ee web jboss sécurité\n",
       "156               cloud web devops python infrastructure\n",
       "158                 angularjs agile web framework outils\n",
       "163              middleware weblogic unix support tomcat\n",
       "174            linux unix système infrastructure support\n",
       "180                       web spring si sécurité digital\n",
       "208          système windows microsoft cloud maintenance\n",
       "228               nosql unix java machine learning linux\n",
       "Name: competences, dtype: object"
      ]
     },
     "execution_count": 43,
     "metadata": {},
     "output_type": "execute_result"
    }
   ],
   "source": [
    "# transformation de la colonne compétences\n",
    "df['competences'] = df['competences'].fillna('support sql data management business objects t-sql')\n",
    "cv = CountVectorizer() \n",
    "trans_comp = cv.fit_transform(df['competences']).toarray()\n",
    "trans_comp = pd.DataFrame(trans_comp)"
   ]
  },
  {
   "cell_type": "code",
   "execution_count": 35,
   "metadata": {},
   "outputs": [],
   "source": [
    "ohe = OneHotEncoder()\n",
    "X_cat = df.select_dtypes(include=[object])\n",
    "X_cat = X_cat.drop('competences', axis=1)\n",
    "X_cat = ohe.fit_transform(X_cat).toarray()\n",
    "X_cat = pd.DataFrame(X_cat)"
   ]
  },
  {
   "cell_type": "code",
   "execution_count": 36,
   "metadata": {},
   "outputs": [],
   "source": [
    "X = pd.concat([X_cat, trans_comp], axis=1)"
   ]
  },
  {
   "cell_type": "code",
   "execution_count": 37,
   "metadata": {},
   "outputs": [
    {
     "name": "stdout",
     "output_type": "stream",
     "text": [
      "LR : 0.82354\n"
     ]
    }
   ],
   "source": [
    "# salaire minimum\n",
    "y = df['salaire_minimum']\n",
    "X_train, X_test, y_train, y_test = train_test_split(X, y, test_size=0.2, random_state=10)\n",
    "\n",
    "line_reg  = RandomForestRegressor()\n",
    "line_reg.fit(X_train, y_train)\n",
    "prediction = line_reg.predict(X_test)\n",
    "\n",
    "linear_score = r2_score(y_test, prediction)\n",
    "print(\"LR :\", round(linear_score, 5))"
   ]
  },
  {
   "cell_type": "code",
   "execution_count": 38,
   "metadata": {},
   "outputs": [
    {
     "name": "stdout",
     "output_type": "stream",
     "text": [
      "LR : 0.73777\n"
     ]
    }
   ],
   "source": [
    "y = df['salaire_maximum']\n",
    "X_train, X_test, y_train, y_test = train_test_split(X, y, test_size=0.2, random_state=10)\n",
    "\n",
    "line_reg  = RandomForestRegressor()\n",
    "line_reg.fit(X_train, y_train)\n",
    "prediction = line_reg.predict(X_test)\n",
    "\n",
    "linear_score = r2_score(y_test, prediction)\n",
    "print(\"LR :\", round(linear_score, 5))"
   ]
  }
 ],
 "metadata": {
  "kernelspec": {
   "display_name": "base",
   "language": "python",
   "name": "python3"
  },
  "language_info": {
   "codemirror_mode": {
    "name": "ipython",
    "version": 3
   },
   "file_extension": ".py",
   "mimetype": "text/x-python",
   "name": "python",
   "nbconvert_exporter": "python",
   "pygments_lexer": "ipython3",
   "version": "3.9.13"
  },
  "orig_nbformat": 4,
  "vscode": {
   "interpreter": {
    "hash": "70cfd609d7ba4145b3fedff821ecc63fd4c765afddbe882b67e97f0bba880cb4"
   }
  }
 },
 "nbformat": 4,
 "nbformat_minor": 2
}
