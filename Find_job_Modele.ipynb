{
 "cells": [
  {
   "cell_type": "code",
   "execution_count": 244,
   "metadata": {},
   "outputs": [],
   "source": [
    "import pandas as pd\n",
    "import numpy as np\n",
    "from sklearn import set_config\n",
    "from sklearn.preprocessing import OneHotEncoder\n",
    "from sklearn.impute import SimpleImputer\n",
    "from sklearn.compose import ColumnTransformer\n",
    "from sklearn.pipeline import Pipeline\n",
    "from sklearn.feature_extraction.text import CountVectorizer\n",
    "from sklearn.ensemble import RandomForestRegressor\n",
    "from sklearn.model_selection import train_test_split\n",
    "from sklearn.metrics import r2_score"
   ]
  },
  {
   "cell_type": "code",
   "execution_count": 245,
   "metadata": {},
   "outputs": [
    {
     "data": {
      "text/plain": [
       "(43, 6)"
      ]
     },
     "execution_count": 245,
     "metadata": {},
     "output_type": "execute_result"
    }
   ],
   "source": [
    "data = pd.read_csv('clean_data.csv', sep=',')\n",
    "df = data.copy()\n",
    "df = df.drop(['Unnamed: 0', 'Date de publication', 'lieu'], axis=1)\n",
    "df['Type de contrat'].fillna('cdi', inplace=True)\n",
    "df = df.dropna(subset='salaire_minimum')\n",
    "df.shape"
   ]
  },
  {
   "cell_type": "code",
   "execution_count": 246,
   "metadata": {},
   "outputs": [],
   "source": [
    "# Target\n",
    "y_max, y_min = df['salaire_maximum'], df['salaire_minimum']"
   ]
  },
  {
   "cell_type": "code",
   "execution_count": 247,
   "metadata": {},
   "outputs": [
    {
     "data": {
      "text/plain": [
       "Index(['Intitulé du poste', 'competences', 'Nom de la société',\n",
       "       'Type de contrat'],\n",
       "      dtype='object')"
      ]
     },
     "execution_count": 247,
     "metadata": {},
     "output_type": "execute_result"
    }
   ],
   "source": [
    "# Features\n",
    "X_cat = df.select_dtypes(include=[object])\n",
    "X_cat.columns"
   ]
  },
  {
   "cell_type": "code",
   "execution_count": 248,
   "metadata": {},
   "outputs": [],
   "source": [
    "# Pipeline\n",
    "pipe_cat = Pipeline(\n",
    "    steps=[\n",
    "        ('pipe_imp', SimpleImputer(strategy='most_frequent')),\n",
    "        ('pipe_enc', OneHotEncoder(sparse=False))\n",
    "    ]\n",
    ")\n",
    "tf_cat = ColumnTransformer(\n",
    "    transformers=[\n",
    "        ('tf_cat', pipe_cat, ['Intitulé du poste', 'Nom de la société', 'Type de contrat']),\n",
    "        ('tf_comp', CountVectorizer(), 'competences')\n",
    "    ]\n",
    ")\n",
    "\n",
    "final_pipe = Pipeline(\n",
    "    steps=[\n",
    "        ('transformation', tf_cat),\n",
    "        ('model', RandomForestRegressor())\n",
    "    ]\n",
    ")"
   ]
  },
  {
   "cell_type": "code",
   "execution_count": 249,
   "metadata": {},
   "outputs": [],
   "source": [
    "y_max, y_min = df['salaire_maximum'], df['salaire_minimum']\n",
    "X = X_cat\n",
    "X_train, X_test, y_train, y_test = train_test_split(X, y_max, test_size=0.2, random_state=10)"
   ]
  },
  {
   "cell_type": "code",
   "execution_count": 250,
   "metadata": {},
   "outputs": [
    {
     "data": {
      "text/html": [
       "<style>#sk-84b09e9a-4c44-49ba-b926-be9f29c20253 {color: black;background-color: white;}#sk-84b09e9a-4c44-49ba-b926-be9f29c20253 pre{padding: 0;}#sk-84b09e9a-4c44-49ba-b926-be9f29c20253 div.sk-toggleable {background-color: white;}#sk-84b09e9a-4c44-49ba-b926-be9f29c20253 label.sk-toggleable__label {cursor: pointer;display: block;width: 100%;margin-bottom: 0;padding: 0.3em;box-sizing: border-box;text-align: center;}#sk-84b09e9a-4c44-49ba-b926-be9f29c20253 label.sk-toggleable__label-arrow:before {content: \"▸\";float: left;margin-right: 0.25em;color: #696969;}#sk-84b09e9a-4c44-49ba-b926-be9f29c20253 label.sk-toggleable__label-arrow:hover:before {color: black;}#sk-84b09e9a-4c44-49ba-b926-be9f29c20253 div.sk-estimator:hover label.sk-toggleable__label-arrow:before {color: black;}#sk-84b09e9a-4c44-49ba-b926-be9f29c20253 div.sk-toggleable__content {max-height: 0;max-width: 0;overflow: hidden;text-align: left;background-color: #f0f8ff;}#sk-84b09e9a-4c44-49ba-b926-be9f29c20253 div.sk-toggleable__content pre {margin: 0.2em;color: black;border-radius: 0.25em;background-color: #f0f8ff;}#sk-84b09e9a-4c44-49ba-b926-be9f29c20253 input.sk-toggleable__control:checked~div.sk-toggleable__content {max-height: 200px;max-width: 100%;overflow: auto;}#sk-84b09e9a-4c44-49ba-b926-be9f29c20253 input.sk-toggleable__control:checked~label.sk-toggleable__label-arrow:before {content: \"▾\";}#sk-84b09e9a-4c44-49ba-b926-be9f29c20253 div.sk-estimator input.sk-toggleable__control:checked~label.sk-toggleable__label {background-color: #d4ebff;}#sk-84b09e9a-4c44-49ba-b926-be9f29c20253 div.sk-label input.sk-toggleable__control:checked~label.sk-toggleable__label {background-color: #d4ebff;}#sk-84b09e9a-4c44-49ba-b926-be9f29c20253 input.sk-hidden--visually {border: 0;clip: rect(1px 1px 1px 1px);clip: rect(1px, 1px, 1px, 1px);height: 1px;margin: -1px;overflow: hidden;padding: 0;position: absolute;width: 1px;}#sk-84b09e9a-4c44-49ba-b926-be9f29c20253 div.sk-estimator {font-family: monospace;background-color: #f0f8ff;border: 1px dotted black;border-radius: 0.25em;box-sizing: border-box;margin-bottom: 0.5em;}#sk-84b09e9a-4c44-49ba-b926-be9f29c20253 div.sk-estimator:hover {background-color: #d4ebff;}#sk-84b09e9a-4c44-49ba-b926-be9f29c20253 div.sk-parallel-item::after {content: \"\";width: 100%;border-bottom: 1px solid gray;flex-grow: 1;}#sk-84b09e9a-4c44-49ba-b926-be9f29c20253 div.sk-label:hover label.sk-toggleable__label {background-color: #d4ebff;}#sk-84b09e9a-4c44-49ba-b926-be9f29c20253 div.sk-serial::before {content: \"\";position: absolute;border-left: 1px solid gray;box-sizing: border-box;top: 2em;bottom: 0;left: 50%;}#sk-84b09e9a-4c44-49ba-b926-be9f29c20253 div.sk-serial {display: flex;flex-direction: column;align-items: center;background-color: white;padding-right: 0.2em;padding-left: 0.2em;}#sk-84b09e9a-4c44-49ba-b926-be9f29c20253 div.sk-item {z-index: 1;}#sk-84b09e9a-4c44-49ba-b926-be9f29c20253 div.sk-parallel {display: flex;align-items: stretch;justify-content: center;background-color: white;}#sk-84b09e9a-4c44-49ba-b926-be9f29c20253 div.sk-parallel::before {content: \"\";position: absolute;border-left: 1px solid gray;box-sizing: border-box;top: 2em;bottom: 0;left: 50%;}#sk-84b09e9a-4c44-49ba-b926-be9f29c20253 div.sk-parallel-item {display: flex;flex-direction: column;position: relative;background-color: white;}#sk-84b09e9a-4c44-49ba-b926-be9f29c20253 div.sk-parallel-item:first-child::after {align-self: flex-end;width: 50%;}#sk-84b09e9a-4c44-49ba-b926-be9f29c20253 div.sk-parallel-item:last-child::after {align-self: flex-start;width: 50%;}#sk-84b09e9a-4c44-49ba-b926-be9f29c20253 div.sk-parallel-item:only-child::after {width: 0;}#sk-84b09e9a-4c44-49ba-b926-be9f29c20253 div.sk-dashed-wrapped {border: 1px dashed gray;margin: 0 0.4em 0.5em 0.4em;box-sizing: border-box;padding-bottom: 0.4em;background-color: white;position: relative;}#sk-84b09e9a-4c44-49ba-b926-be9f29c20253 div.sk-label label {font-family: monospace;font-weight: bold;background-color: white;display: inline-block;line-height: 1.2em;}#sk-84b09e9a-4c44-49ba-b926-be9f29c20253 div.sk-label-container {position: relative;z-index: 2;text-align: center;}#sk-84b09e9a-4c44-49ba-b926-be9f29c20253 div.sk-container {/* jupyter's `normalize.less` sets `[hidden] { display: none; }` but bootstrap.min.css set `[hidden] { display: none !important; }` so we also need the `!important` here to be able to override the default hidden behavior on the sphinx rendered scikit-learn.org. See: https://github.com/scikit-learn/scikit-learn/issues/21755 */display: inline-block !important;position: relative;}#sk-84b09e9a-4c44-49ba-b926-be9f29c20253 div.sk-text-repr-fallback {display: none;}</style><div id=\"sk-84b09e9a-4c44-49ba-b926-be9f29c20253\" class=\"sk-top-container\"><div class=\"sk-text-repr-fallback\"><pre>Pipeline(steps=[(&#x27;transformation&#x27;,\n",
       "                 ColumnTransformer(transformers=[(&#x27;tf_cat&#x27;,\n",
       "                                                  Pipeline(steps=[(&#x27;imputation&#x27;,\n",
       "                                                                   SimpleImputer(strategy=&#x27;most_frequent&#x27;)),\n",
       "                                                                  (&#x27;pipe_other&#x27;,\n",
       "                                                                   OneHotEncoder(sparse=False))]),\n",
       "                                                  [&#x27;Intitulé du poste&#x27;,\n",
       "                                                   &#x27;Nom de la société&#x27;,\n",
       "                                                   &#x27;Type de contrat&#x27;]),\n",
       "                                                 (&#x27;tf_comp&#x27;, CountVectorizer(),\n",
       "                                                  &#x27;competences&#x27;)])),\n",
       "                (&#x27;model&#x27;, RandomForestRegressor())])</pre><b>Please rerun this cell to show the HTML repr or trust the notebook.</b></div><div class=\"sk-container\" hidden><div class=\"sk-item sk-dashed-wrapped\"><div class=\"sk-label-container\"><div class=\"sk-label sk-toggleable\"><input class=\"sk-toggleable__control sk-hidden--visually\" id=\"a1f16f7e-0fcf-4053-a65b-9a9c047ca704\" type=\"checkbox\" ><label for=\"a1f16f7e-0fcf-4053-a65b-9a9c047ca704\" class=\"sk-toggleable__label sk-toggleable__label-arrow\">Pipeline</label><div class=\"sk-toggleable__content\"><pre>Pipeline(steps=[(&#x27;transformation&#x27;,\n",
       "                 ColumnTransformer(transformers=[(&#x27;tf_cat&#x27;,\n",
       "                                                  Pipeline(steps=[(&#x27;imputation&#x27;,\n",
       "                                                                   SimpleImputer(strategy=&#x27;most_frequent&#x27;)),\n",
       "                                                                  (&#x27;pipe_other&#x27;,\n",
       "                                                                   OneHotEncoder(sparse=False))]),\n",
       "                                                  [&#x27;Intitulé du poste&#x27;,\n",
       "                                                   &#x27;Nom de la société&#x27;,\n",
       "                                                   &#x27;Type de contrat&#x27;]),\n",
       "                                                 (&#x27;tf_comp&#x27;, CountVectorizer(),\n",
       "                                                  &#x27;competences&#x27;)])),\n",
       "                (&#x27;model&#x27;, RandomForestRegressor())])</pre></div></div></div><div class=\"sk-serial\"><div class=\"sk-item sk-dashed-wrapped\"><div class=\"sk-label-container\"><div class=\"sk-label sk-toggleable\"><input class=\"sk-toggleable__control sk-hidden--visually\" id=\"1fc507d6-8aff-49a6-8937-406fabb8c346\" type=\"checkbox\" ><label for=\"1fc507d6-8aff-49a6-8937-406fabb8c346\" class=\"sk-toggleable__label sk-toggleable__label-arrow\">transformation: ColumnTransformer</label><div class=\"sk-toggleable__content\"><pre>ColumnTransformer(transformers=[(&#x27;tf_cat&#x27;,\n",
       "                                 Pipeline(steps=[(&#x27;imputation&#x27;,\n",
       "                                                  SimpleImputer(strategy=&#x27;most_frequent&#x27;)),\n",
       "                                                 (&#x27;pipe_other&#x27;,\n",
       "                                                  OneHotEncoder(sparse=False))]),\n",
       "                                 [&#x27;Intitulé du poste&#x27;, &#x27;Nom de la société&#x27;,\n",
       "                                  &#x27;Type de contrat&#x27;]),\n",
       "                                (&#x27;tf_comp&#x27;, CountVectorizer(), &#x27;competences&#x27;)])</pre></div></div></div><div class=\"sk-parallel\"><div class=\"sk-parallel-item\"><div class=\"sk-item\"><div class=\"sk-label-container\"><div class=\"sk-label sk-toggleable\"><input class=\"sk-toggleable__control sk-hidden--visually\" id=\"5cdadc10-e016-481b-99d9-6283de615719\" type=\"checkbox\" ><label for=\"5cdadc10-e016-481b-99d9-6283de615719\" class=\"sk-toggleable__label sk-toggleable__label-arrow\">tf_cat</label><div class=\"sk-toggleable__content\"><pre>[&#x27;Intitulé du poste&#x27;, &#x27;Nom de la société&#x27;, &#x27;Type de contrat&#x27;]</pre></div></div></div><div class=\"sk-serial\"><div class=\"sk-item\"><div class=\"sk-serial\"><div class=\"sk-item\"><div class=\"sk-estimator sk-toggleable\"><input class=\"sk-toggleable__control sk-hidden--visually\" id=\"c0563207-dca4-4004-93f5-a840c9734725\" type=\"checkbox\" ><label for=\"c0563207-dca4-4004-93f5-a840c9734725\" class=\"sk-toggleable__label sk-toggleable__label-arrow\">SimpleImputer</label><div class=\"sk-toggleable__content\"><pre>SimpleImputer(strategy=&#x27;most_frequent&#x27;)</pre></div></div></div><div class=\"sk-item\"><div class=\"sk-estimator sk-toggleable\"><input class=\"sk-toggleable__control sk-hidden--visually\" id=\"c1ae4428-8a95-4fa4-b377-a0406843767e\" type=\"checkbox\" ><label for=\"c1ae4428-8a95-4fa4-b377-a0406843767e\" class=\"sk-toggleable__label sk-toggleable__label-arrow\">OneHotEncoder</label><div class=\"sk-toggleable__content\"><pre>OneHotEncoder(sparse=False)</pre></div></div></div></div></div></div></div></div><div class=\"sk-parallel-item\"><div class=\"sk-item\"><div class=\"sk-label-container\"><div class=\"sk-label sk-toggleable\"><input class=\"sk-toggleable__control sk-hidden--visually\" id=\"d9bed5f9-22b7-4eba-bf5a-0a15a86eb0cf\" type=\"checkbox\" ><label for=\"d9bed5f9-22b7-4eba-bf5a-0a15a86eb0cf\" class=\"sk-toggleable__label sk-toggleable__label-arrow\">tf_comp</label><div class=\"sk-toggleable__content\"><pre>competences</pre></div></div></div><div class=\"sk-serial\"><div class=\"sk-item\"><div class=\"sk-estimator sk-toggleable\"><input class=\"sk-toggleable__control sk-hidden--visually\" id=\"3a15ac3c-256e-443b-aa4b-3587c463724f\" type=\"checkbox\" ><label for=\"3a15ac3c-256e-443b-aa4b-3587c463724f\" class=\"sk-toggleable__label sk-toggleable__label-arrow\">CountVectorizer</label><div class=\"sk-toggleable__content\"><pre>CountVectorizer()</pre></div></div></div></div></div></div></div></div><div class=\"sk-item\"><div class=\"sk-estimator sk-toggleable\"><input class=\"sk-toggleable__control sk-hidden--visually\" id=\"86dbf9a5-4ac4-4f83-9fed-28ea38b0ed29\" type=\"checkbox\" ><label for=\"86dbf9a5-4ac4-4f83-9fed-28ea38b0ed29\" class=\"sk-toggleable__label sk-toggleable__label-arrow\">RandomForestRegressor</label><div class=\"sk-toggleable__content\"><pre>RandomForestRegressor()</pre></div></div></div></div></div></div></div>"
      ],
      "text/plain": [
       "Pipeline(steps=[('transformation',\n",
       "                 ColumnTransformer(transformers=[('tf_cat',\n",
       "                                                  Pipeline(steps=[('imputation',\n",
       "                                                                   SimpleImputer(strategy='most_frequent')),\n",
       "                                                                  ('pipe_other',\n",
       "                                                                   OneHotEncoder(sparse=False))]),\n",
       "                                                  ['Intitulé du poste',\n",
       "                                                   'Nom de la société',\n",
       "                                                   'Type de contrat']),\n",
       "                                                 ('tf_comp', CountVectorizer(),\n",
       "                                                  'competences')])),\n",
       "                ('model', RandomForestRegressor())])"
      ]
     },
     "execution_count": 250,
     "metadata": {},
     "output_type": "execute_result"
    }
   ],
   "source": [
    "set_config(display='diagram')\n",
    "final_pipe"
   ]
  },
  {
   "cell_type": "code",
   "execution_count": 251,
   "metadata": {},
   "outputs": [
    {
     "name": "stdout",
     "output_type": "stream",
     "text": [
      "RFR: 0.8282\n"
     ]
    }
   ],
   "source": [
    "# Evaluation du score de prédiction pour le salaire maximum\n",
    "final_pipe.fit(X_train, y_train)\n",
    "y_max_pred = final_pipe.predict(X_test)\n",
    "print(\"RFR:\", round(r2_score(y_test, y_max_pred), 5))"
   ]
  },
  {
   "cell_type": "code",
   "execution_count": 252,
   "metadata": {},
   "outputs": [
    {
     "name": "stdout",
     "output_type": "stream",
     "text": [
      "RFR: 0.8282\n"
     ]
    }
   ],
   "source": [
    "# Evaluation du score de prédiction pour le salaire minimum\n",
    "final_pipe.fit(X_train, y_train)\n",
    "y_min_pred = final_pipe.predict(X_test)\n",
    "print(\"RFR:\", round(r2_score(y_test, y_max_pred), 5))"
   ]
  }
 ],
 "metadata": {
  "kernelspec": {
   "display_name": "Python 3 (ipykernel)",
   "language": "python",
   "name": "python3"
  },
  "language_info": {
   "codemirror_mode": {
    "name": "ipython",
    "version": 3
   },
   "file_extension": ".py",
   "mimetype": "text/x-python",
   "name": "python",
   "nbconvert_exporter": "python",
   "pygments_lexer": "ipython3",
   "version": "3.9.13"
  },
  "vscode": {
   "interpreter": {
    "hash": "70cfd609d7ba4145b3fedff821ecc63fd4c765afddbe882b67e97f0bba880cb4"
   }
  }
 },
 "nbformat": 4,
 "nbformat_minor": 4
}
