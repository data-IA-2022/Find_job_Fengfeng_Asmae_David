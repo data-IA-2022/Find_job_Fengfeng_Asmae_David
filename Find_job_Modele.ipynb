{
 "cells": [
  {
   "cell_type": "code",
   "execution_count": 863,
   "metadata": {},
   "outputs": [],
   "source": [
    "import pandas as pd\n",
    "import numpy as np\n",
    "from sklearn import set_config\n",
    "from sklearn.preprocessing import OneHotEncoder\n",
    "from sklearn.impute import SimpleImputer\n",
    "from sklearn.compose import ColumnTransformer\n",
    "from sklearn.pipeline import Pipeline\n",
    "from sklearn.feature_extraction.text import CountVectorizer\n",
    "from sklearn.ensemble import RandomForestRegressor\n",
    "from sklearn.model_selection import train_test_split\n",
    "from sklearn.metrics import r2_score\n",
    "from sklearn.model_selection import GridSearchCV, RandomizedSearchCV\n",
    "from sklearn import model_selection"
   ]
  },
  {
   "cell_type": "code",
   "execution_count": 864,
   "metadata": {},
   "outputs": [
    {
     "data": {
      "text/plain": [
       "(43, 6)"
      ]
     },
     "execution_count": 864,
     "metadata": {},
     "output_type": "execute_result"
    }
   ],
   "source": [
    "data = pd.read_csv('clean_data.csv', sep=',')\n",
    "df = data.copy()\n",
    "df = df.drop(['Unnamed: 0', 'Date de publication', 'lieu'], axis=1)\n",
    "df.shape"
   ]
  },
  {
   "cell_type": "code",
   "execution_count": 865,
   "metadata": {},
   "outputs": [],
   "source": [
    "# Target, cible de la prediction\n",
    "y_max, y_min = df['salaire_maximum'], df['salaire_minimum']"
   ]
  },
  {
   "cell_type": "code",
   "execution_count": 866,
   "metadata": {},
   "outputs": [
    {
     "data": {
      "text/plain": [
       "Index(['Intitulé du poste', 'competences', 'Nom de la société',\n",
       "       'Type de contrat'],\n",
       "      dtype='object')"
      ]
     },
     "execution_count": 866,
     "metadata": {},
     "output_type": "execute_result"
    }
   ],
   "source": [
    "# Features\n",
    "X_cat = df.select_dtypes(include=[object])\n",
    "X_cat.columns"
   ]
  },
  {
   "cell_type": "code",
   "execution_count": 867,
   "metadata": {},
   "outputs": [],
   "source": [
    "# Pipeline\n",
    "\n",
    "RFR = RandomForestRegressor()\n",
    "\n",
    "params_RFR = {\n",
    "    \"criterion\" : ['absolute_error', 'friedman_mse'],\n",
    "    \"random_state\" : [n for n in range(39, 67)],\n",
    "    \"n_estimators\" : [n for n in range(8, 27)]\n",
    "}\n",
    "\n",
    "\n",
    "pipe_cat = Pipeline(\n",
    "    steps=[\n",
    "        ('pipe_imp', SimpleImputer(strategy='most_frequent')),\n",
    "        ('pipe_enc', OneHotEncoder(sparse=False))\n",
    "    ]\n",
    ")\n",
    "tf_cat = ColumnTransformer(\n",
    "    transformers=[\n",
    "        ('tf_cat', pipe_cat, ['Intitulé du poste', 'Nom de la société', 'Type de contrat']),\n",
    "        ('tf_comp', CountVectorizer(), 'competences')\n",
    "    ]\n",
    ")\n",
    "\n",
    "RFR_pipe_max = Pipeline(\n",
    "    steps=[\n",
    "        ('transformation', tf_cat),\n",
    "        ('model', RandomForestRegressor(n_estimators=26, random_state=66, criterion='absolute_error'))\n",
    "    ]\n",
    ")\n",
    "\n",
    "RFR_pipe_min = Pipeline(\n",
    "    steps=[\n",
    "        ('transformation', tf_cat),\n",
    "        ('model', RandomForestRegressor(n_estimators=9, random_state=40, criterion='friedman_mse'))\n",
    "    ]\n",
    ")\n",
    "\n"
   ]
  },
  {
   "cell_type": "code",
   "execution_count": 868,
   "metadata": {},
   "outputs": [
    {
     "data": {
      "text/plain": [
       "['bootstrap',\n",
       " 'ccp_alpha',\n",
       " 'criterion',\n",
       " 'max_depth',\n",
       " 'max_features',\n",
       " 'max_leaf_nodes',\n",
       " 'max_samples',\n",
       " 'min_impurity_decrease',\n",
       " 'min_samples_leaf',\n",
       " 'min_samples_split',\n",
       " 'min_weight_fraction_leaf',\n",
       " 'n_estimators',\n",
       " 'n_jobs',\n",
       " 'oob_score',\n",
       " 'random_state',\n",
       " 'verbose',\n",
       " 'warm_start']"
      ]
     },
     "execution_count": 868,
     "metadata": {},
     "output_type": "execute_result"
    }
   ],
   "source": [
    "sorted(RandomForestRegressor().get_params().keys())"
   ]
  },
  {
   "cell_type": "code",
   "execution_count": 869,
   "metadata": {},
   "outputs": [],
   "source": [
    "y_max, y_min = df['salaire_maximum'], df['salaire_minimum']\n",
    "X = X_cat\n",
    "X_train, X_test, y_train, y_test = train_test_split(X, y_max, test_size=0.25, random_state=10)"
   ]
  },
  {
   "cell_type": "code",
   "execution_count": 870,
   "metadata": {},
   "outputs": [
    {
     "data": {
      "text/html": [
       "<style>#sk-c3103e55-1ecf-4483-a384-746cd1e5a49a {color: black;background-color: white;}#sk-c3103e55-1ecf-4483-a384-746cd1e5a49a pre{padding: 0;}#sk-c3103e55-1ecf-4483-a384-746cd1e5a49a div.sk-toggleable {background-color: white;}#sk-c3103e55-1ecf-4483-a384-746cd1e5a49a label.sk-toggleable__label {cursor: pointer;display: block;width: 100%;margin-bottom: 0;padding: 0.3em;box-sizing: border-box;text-align: center;}#sk-c3103e55-1ecf-4483-a384-746cd1e5a49a label.sk-toggleable__label-arrow:before {content: \"▸\";float: left;margin-right: 0.25em;color: #696969;}#sk-c3103e55-1ecf-4483-a384-746cd1e5a49a label.sk-toggleable__label-arrow:hover:before {color: black;}#sk-c3103e55-1ecf-4483-a384-746cd1e5a49a div.sk-estimator:hover label.sk-toggleable__label-arrow:before {color: black;}#sk-c3103e55-1ecf-4483-a384-746cd1e5a49a div.sk-toggleable__content {max-height: 0;max-width: 0;overflow: hidden;text-align: left;background-color: #f0f8ff;}#sk-c3103e55-1ecf-4483-a384-746cd1e5a49a div.sk-toggleable__content pre {margin: 0.2em;color: black;border-radius: 0.25em;background-color: #f0f8ff;}#sk-c3103e55-1ecf-4483-a384-746cd1e5a49a input.sk-toggleable__control:checked~div.sk-toggleable__content {max-height: 200px;max-width: 100%;overflow: auto;}#sk-c3103e55-1ecf-4483-a384-746cd1e5a49a input.sk-toggleable__control:checked~label.sk-toggleable__label-arrow:before {content: \"▾\";}#sk-c3103e55-1ecf-4483-a384-746cd1e5a49a div.sk-estimator input.sk-toggleable__control:checked~label.sk-toggleable__label {background-color: #d4ebff;}#sk-c3103e55-1ecf-4483-a384-746cd1e5a49a div.sk-label input.sk-toggleable__control:checked~label.sk-toggleable__label {background-color: #d4ebff;}#sk-c3103e55-1ecf-4483-a384-746cd1e5a49a input.sk-hidden--visually {border: 0;clip: rect(1px 1px 1px 1px);clip: rect(1px, 1px, 1px, 1px);height: 1px;margin: -1px;overflow: hidden;padding: 0;position: absolute;width: 1px;}#sk-c3103e55-1ecf-4483-a384-746cd1e5a49a div.sk-estimator {font-family: monospace;background-color: #f0f8ff;border: 1px dotted black;border-radius: 0.25em;box-sizing: border-box;margin-bottom: 0.5em;}#sk-c3103e55-1ecf-4483-a384-746cd1e5a49a div.sk-estimator:hover {background-color: #d4ebff;}#sk-c3103e55-1ecf-4483-a384-746cd1e5a49a div.sk-parallel-item::after {content: \"\";width: 100%;border-bottom: 1px solid gray;flex-grow: 1;}#sk-c3103e55-1ecf-4483-a384-746cd1e5a49a div.sk-label:hover label.sk-toggleable__label {background-color: #d4ebff;}#sk-c3103e55-1ecf-4483-a384-746cd1e5a49a div.sk-serial::before {content: \"\";position: absolute;border-left: 1px solid gray;box-sizing: border-box;top: 2em;bottom: 0;left: 50%;}#sk-c3103e55-1ecf-4483-a384-746cd1e5a49a div.sk-serial {display: flex;flex-direction: column;align-items: center;background-color: white;padding-right: 0.2em;padding-left: 0.2em;}#sk-c3103e55-1ecf-4483-a384-746cd1e5a49a div.sk-item {z-index: 1;}#sk-c3103e55-1ecf-4483-a384-746cd1e5a49a div.sk-parallel {display: flex;align-items: stretch;justify-content: center;background-color: white;}#sk-c3103e55-1ecf-4483-a384-746cd1e5a49a div.sk-parallel::before {content: \"\";position: absolute;border-left: 1px solid gray;box-sizing: border-box;top: 2em;bottom: 0;left: 50%;}#sk-c3103e55-1ecf-4483-a384-746cd1e5a49a div.sk-parallel-item {display: flex;flex-direction: column;position: relative;background-color: white;}#sk-c3103e55-1ecf-4483-a384-746cd1e5a49a div.sk-parallel-item:first-child::after {align-self: flex-end;width: 50%;}#sk-c3103e55-1ecf-4483-a384-746cd1e5a49a div.sk-parallel-item:last-child::after {align-self: flex-start;width: 50%;}#sk-c3103e55-1ecf-4483-a384-746cd1e5a49a div.sk-parallel-item:only-child::after {width: 0;}#sk-c3103e55-1ecf-4483-a384-746cd1e5a49a div.sk-dashed-wrapped {border: 1px dashed gray;margin: 0 0.4em 0.5em 0.4em;box-sizing: border-box;padding-bottom: 0.4em;background-color: white;position: relative;}#sk-c3103e55-1ecf-4483-a384-746cd1e5a49a div.sk-label label {font-family: monospace;font-weight: bold;background-color: white;display: inline-block;line-height: 1.2em;}#sk-c3103e55-1ecf-4483-a384-746cd1e5a49a div.sk-label-container {position: relative;z-index: 2;text-align: center;}#sk-c3103e55-1ecf-4483-a384-746cd1e5a49a div.sk-container {/* jupyter's `normalize.less` sets `[hidden] { display: none; }` but bootstrap.min.css set `[hidden] { display: none !important; }` so we also need the `!important` here to be able to override the default hidden behavior on the sphinx rendered scikit-learn.org. See: https://github.com/scikit-learn/scikit-learn/issues/21755 */display: inline-block !important;position: relative;}#sk-c3103e55-1ecf-4483-a384-746cd1e5a49a div.sk-text-repr-fallback {display: none;}</style><div id=\"sk-c3103e55-1ecf-4483-a384-746cd1e5a49a\" class=\"sk-top-container\"><div class=\"sk-text-repr-fallback\"><pre>Pipeline(steps=[(&#x27;transformation&#x27;,\n",
       "                 ColumnTransformer(transformers=[(&#x27;tf_cat&#x27;,\n",
       "                                                  Pipeline(steps=[(&#x27;pipe_imp&#x27;,\n",
       "                                                                   SimpleImputer(strategy=&#x27;most_frequent&#x27;)),\n",
       "                                                                  (&#x27;pipe_enc&#x27;,\n",
       "                                                                   OneHotEncoder(sparse=False))]),\n",
       "                                                  [&#x27;Intitulé du poste&#x27;,\n",
       "                                                   &#x27;Nom de la société&#x27;,\n",
       "                                                   &#x27;Type de contrat&#x27;]),\n",
       "                                                 (&#x27;tf_comp&#x27;, CountVectorizer(),\n",
       "                                                  &#x27;competences&#x27;)])),\n",
       "                (&#x27;model&#x27;,\n",
       "                 RandomForestRegressor(criterion=&#x27;absolute_error&#x27;,\n",
       "                                       n_estimators=26, random_state=66))])</pre><b>Please rerun this cell to show the HTML repr or trust the notebook.</b></div><div class=\"sk-container\" hidden><div class=\"sk-item sk-dashed-wrapped\"><div class=\"sk-label-container\"><div class=\"sk-label sk-toggleable\"><input class=\"sk-toggleable__control sk-hidden--visually\" id=\"dd243042-71ce-4e4e-b715-a5578b4f16de\" type=\"checkbox\" ><label for=\"dd243042-71ce-4e4e-b715-a5578b4f16de\" class=\"sk-toggleable__label sk-toggleable__label-arrow\">Pipeline</label><div class=\"sk-toggleable__content\"><pre>Pipeline(steps=[(&#x27;transformation&#x27;,\n",
       "                 ColumnTransformer(transformers=[(&#x27;tf_cat&#x27;,\n",
       "                                                  Pipeline(steps=[(&#x27;pipe_imp&#x27;,\n",
       "                                                                   SimpleImputer(strategy=&#x27;most_frequent&#x27;)),\n",
       "                                                                  (&#x27;pipe_enc&#x27;,\n",
       "                                                                   OneHotEncoder(sparse=False))]),\n",
       "                                                  [&#x27;Intitulé du poste&#x27;,\n",
       "                                                   &#x27;Nom de la société&#x27;,\n",
       "                                                   &#x27;Type de contrat&#x27;]),\n",
       "                                                 (&#x27;tf_comp&#x27;, CountVectorizer(),\n",
       "                                                  &#x27;competences&#x27;)])),\n",
       "                (&#x27;model&#x27;,\n",
       "                 RandomForestRegressor(criterion=&#x27;absolute_error&#x27;,\n",
       "                                       n_estimators=26, random_state=66))])</pre></div></div></div><div class=\"sk-serial\"><div class=\"sk-item sk-dashed-wrapped\"><div class=\"sk-label-container\"><div class=\"sk-label sk-toggleable\"><input class=\"sk-toggleable__control sk-hidden--visually\" id=\"8eb11aef-e45e-4538-bf67-ef172a3e8a7c\" type=\"checkbox\" ><label for=\"8eb11aef-e45e-4538-bf67-ef172a3e8a7c\" class=\"sk-toggleable__label sk-toggleable__label-arrow\">transformation: ColumnTransformer</label><div class=\"sk-toggleable__content\"><pre>ColumnTransformer(transformers=[(&#x27;tf_cat&#x27;,\n",
       "                                 Pipeline(steps=[(&#x27;pipe_imp&#x27;,\n",
       "                                                  SimpleImputer(strategy=&#x27;most_frequent&#x27;)),\n",
       "                                                 (&#x27;pipe_enc&#x27;,\n",
       "                                                  OneHotEncoder(sparse=False))]),\n",
       "                                 [&#x27;Intitulé du poste&#x27;, &#x27;Nom de la société&#x27;,\n",
       "                                  &#x27;Type de contrat&#x27;]),\n",
       "                                (&#x27;tf_comp&#x27;, CountVectorizer(), &#x27;competences&#x27;)])</pre></div></div></div><div class=\"sk-parallel\"><div class=\"sk-parallel-item\"><div class=\"sk-item\"><div class=\"sk-label-container\"><div class=\"sk-label sk-toggleable\"><input class=\"sk-toggleable__control sk-hidden--visually\" id=\"83c5f163-a1a4-478c-b71c-60b55977d953\" type=\"checkbox\" ><label for=\"83c5f163-a1a4-478c-b71c-60b55977d953\" class=\"sk-toggleable__label sk-toggleable__label-arrow\">tf_cat</label><div class=\"sk-toggleable__content\"><pre>[&#x27;Intitulé du poste&#x27;, &#x27;Nom de la société&#x27;, &#x27;Type de contrat&#x27;]</pre></div></div></div><div class=\"sk-serial\"><div class=\"sk-item\"><div class=\"sk-serial\"><div class=\"sk-item\"><div class=\"sk-estimator sk-toggleable\"><input class=\"sk-toggleable__control sk-hidden--visually\" id=\"4216aad0-3179-4c8e-a80c-a81e86b1adf5\" type=\"checkbox\" ><label for=\"4216aad0-3179-4c8e-a80c-a81e86b1adf5\" class=\"sk-toggleable__label sk-toggleable__label-arrow\">SimpleImputer</label><div class=\"sk-toggleable__content\"><pre>SimpleImputer(strategy=&#x27;most_frequent&#x27;)</pre></div></div></div><div class=\"sk-item\"><div class=\"sk-estimator sk-toggleable\"><input class=\"sk-toggleable__control sk-hidden--visually\" id=\"dc594233-a24b-4dc8-995a-0a53ceafd821\" type=\"checkbox\" ><label for=\"dc594233-a24b-4dc8-995a-0a53ceafd821\" class=\"sk-toggleable__label sk-toggleable__label-arrow\">OneHotEncoder</label><div class=\"sk-toggleable__content\"><pre>OneHotEncoder(sparse=False)</pre></div></div></div></div></div></div></div></div><div class=\"sk-parallel-item\"><div class=\"sk-item\"><div class=\"sk-label-container\"><div class=\"sk-label sk-toggleable\"><input class=\"sk-toggleable__control sk-hidden--visually\" id=\"e472e89d-1e48-4b32-8bc2-e48df1ff9109\" type=\"checkbox\" ><label for=\"e472e89d-1e48-4b32-8bc2-e48df1ff9109\" class=\"sk-toggleable__label sk-toggleable__label-arrow\">tf_comp</label><div class=\"sk-toggleable__content\"><pre>competences</pre></div></div></div><div class=\"sk-serial\"><div class=\"sk-item\"><div class=\"sk-estimator sk-toggleable\"><input class=\"sk-toggleable__control sk-hidden--visually\" id=\"2442f373-dd01-4e55-86f6-70a8dbba8e9e\" type=\"checkbox\" ><label for=\"2442f373-dd01-4e55-86f6-70a8dbba8e9e\" class=\"sk-toggleable__label sk-toggleable__label-arrow\">CountVectorizer</label><div class=\"sk-toggleable__content\"><pre>CountVectorizer()</pre></div></div></div></div></div></div></div></div><div class=\"sk-item\"><div class=\"sk-estimator sk-toggleable\"><input class=\"sk-toggleable__control sk-hidden--visually\" id=\"48ee6e40-525a-4e10-b5f5-a4c77b5990cc\" type=\"checkbox\" ><label for=\"48ee6e40-525a-4e10-b5f5-a4c77b5990cc\" class=\"sk-toggleable__label sk-toggleable__label-arrow\">RandomForestRegressor</label><div class=\"sk-toggleable__content\"><pre>RandomForestRegressor(criterion=&#x27;absolute_error&#x27;, n_estimators=26,\n",
       "                      random_state=66)</pre></div></div></div></div></div></div></div>"
      ],
      "text/plain": [
       "Pipeline(steps=[('transformation',\n",
       "                 ColumnTransformer(transformers=[('tf_cat',\n",
       "                                                  Pipeline(steps=[('pipe_imp',\n",
       "                                                                   SimpleImputer(strategy='most_frequent')),\n",
       "                                                                  ('pipe_enc',\n",
       "                                                                   OneHotEncoder(sparse=False))]),\n",
       "                                                  ['Intitulé du poste',\n",
       "                                                   'Nom de la société',\n",
       "                                                   'Type de contrat']),\n",
       "                                                 ('tf_comp', CountVectorizer(),\n",
       "                                                  'competences')])),\n",
       "                ('model',\n",
       "                 RandomForestRegressor(criterion='absolute_error',\n",
       "                                       n_estimators=26, random_state=66))])"
      ]
     },
     "execution_count": 870,
     "metadata": {},
     "output_type": "execute_result"
    }
   ],
   "source": [
    "set_config(display='diagram')\n",
    "RFR_pipe_max"
   ]
  },
  {
   "cell_type": "code",
   "execution_count": 871,
   "metadata": {},
   "outputs": [
    {
     "name": "stdout",
     "output_type": "stream",
     "text": [
      "RFR: 0.86616\n"
     ]
    }
   ],
   "source": [
    "# Evaluation du score de prédiction pour le salaire maximum\n",
    "RFR_pipe_max.fit(X_train, y_train)\n",
    "y_max_pred = RFR_pipe_max.predict(X_test)\n",
    "print(\"RFR:\", round(r2_score(y_test, y_max_pred), 5))\n",
    "# print(\"best params : \", RFR_pipe_max['model'].best_params_)"
   ]
  },
  {
   "cell_type": "code",
   "execution_count": 872,
   "metadata": {},
   "outputs": [],
   "source": [
    "X_train, X_test, y_train, y_test = train_test_split(X, y_min, test_size=0.25, random_state=10)"
   ]
  },
  {
   "cell_type": "code",
   "execution_count": 873,
   "metadata": {},
   "outputs": [
    {
     "name": "stdout",
     "output_type": "stream",
     "text": [
      "RFR: 0.83544\n"
     ]
    }
   ],
   "source": [
    "# Evaluation du score de prédiction pour le salaire minimum\n",
    "RFR_pipe_min.fit(X_train, y_train)\n",
    "y_min_pred = RFR_pipe_min.predict(X_test)\n",
    "print(\"RFR:\", round(r2_score(y_test, y_min_pred), 5))\n",
    "# print(\"best params : \", RFR_pipe['model'].best_params_)"
   ]
  }
 ],
 "metadata": {
  "kernelspec": {
   "display_name": "Python 3 (ipykernel)",
   "language": "python",
   "name": "python3"
  },
  "language_info": {
   "codemirror_mode": {
    "name": "ipython",
    "version": 3
   },
   "file_extension": ".py",
   "mimetype": "text/x-python",
   "name": "python",
   "nbconvert_exporter": "python",
   "pygments_lexer": "ipython3",
   "version": "3.9.13"
  },
  "vscode": {
   "interpreter": {
    "hash": "70cfd609d7ba4145b3fedff821ecc63fd4c765afddbe882b67e97f0bba880cb4"
   }
  }
 },
 "nbformat": 4,
 "nbformat_minor": 4
}
