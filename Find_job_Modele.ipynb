{
 "cells": [
  {
   "cell_type": "code",
   "execution_count": 119,
   "metadata": {},
   "outputs": [],
   "source": [
    "import pandas as pd\n",
    "import numpy as np\n",
    "from sklearn import set_config\n",
    "from sklearn.preprocessing import OneHotEncoder\n",
    "from sklearn.impute import SimpleImputer\n",
    "from sklearn.compose import ColumnTransformer\n",
    "from sklearn.pipeline import Pipeline\n",
    "from sklearn.feature_extraction.text import CountVectorizer\n",
    "from sklearn.ensemble import RandomForestRegressor\n",
    "from sklearn.model_selection import train_test_split\n",
    "from sklearn.metrics import r2_score\n",
    "from sklearn.model_selection import GridSearchCV\n",
    "from sklearn import model_selection"
   ]
  },
  {
   "cell_type": "code",
   "execution_count": 120,
   "metadata": {},
   "outputs": [
    {
     "data": {
      "text/plain": [
       "(43, 6)"
      ]
     },
     "execution_count": 120,
     "metadata": {},
     "output_type": "execute_result"
    }
   ],
   "source": [
    "data = pd.read_csv('clean_data.csv', sep=',')\n",
    "df = data.copy()\n",
    "df = df.drop(['Unnamed: 0', 'Date de publication', 'lieu'], axis=1)\n",
    "df['Type de contrat'].fillna('cdi', inplace=True)\n",
    "df = df.dropna(subset='salaire_minimum')\n",
    "df.shape"
   ]
  },
  {
   "cell_type": "code",
   "execution_count": 121,
   "metadata": {},
   "outputs": [],
   "source": [
    "# Target\n",
    "y_max, y_min = df['salaire_maximum'], df['salaire_minimum']"
   ]
  },
  {
   "cell_type": "code",
   "execution_count": 122,
   "metadata": {},
   "outputs": [
    {
     "data": {
      "text/plain": [
       "Index(['Intitulé du poste', 'competences', 'Nom de la société',\n",
       "       'Type de contrat'],\n",
       "      dtype='object')"
      ]
     },
     "execution_count": 122,
     "metadata": {},
     "output_type": "execute_result"
    }
   ],
   "source": [
    "# Features\n",
    "X_cat = df.select_dtypes(include=[object])\n",
    "X_cat.columns"
   ]
  },
  {
   "cell_type": "code",
   "execution_count": 123,
   "metadata": {},
   "outputs": [],
   "source": [
    "# Pipeline\n",
    "\n",
    "model = RandomForestRegressor()\n",
    "params = {\n",
    "    \"random_state\" : [n for n in range(0, 100)],\n",
    "    \"criterion\" : ['squared_error', 'absolute_error', 'friedman_mse', 'poisson']\n",
    "}\n",
    "\n",
    "pipe_cat = Pipeline(\n",
    "    steps=[\n",
    "        ('pipe_imp', SimpleImputer(strategy='most_frequent')),\n",
    "        ('pipe_enc', OneHotEncoder(sparse=False))\n",
    "    ]\n",
    ")\n",
    "tf_cat = ColumnTransformer(\n",
    "    transformers=[\n",
    "        ('tf_cat', pipe_cat, ['Intitulé du poste', 'Nom de la société', 'Type de contrat']),\n",
    "        ('tf_comp', CountVectorizer(), 'competences')\n",
    "    ]\n",
    ")\n",
    "\n",
    "final_pipe = Pipeline(\n",
    "    steps=[\n",
    "        ('transformation', tf_cat),\n",
    "        ('model', GridSearchCV(model, params, cv=2, refit=True))\n",
    "    ]\n",
    ")\n"
   ]
  },
  {
   "cell_type": "code",
   "execution_count": 124,
   "metadata": {},
   "outputs": [
    {
     "data": {
      "text/plain": [
       "['bootstrap',\n",
       " 'ccp_alpha',\n",
       " 'criterion',\n",
       " 'max_depth',\n",
       " 'max_features',\n",
       " 'max_leaf_nodes',\n",
       " 'max_samples',\n",
       " 'min_impurity_decrease',\n",
       " 'min_samples_leaf',\n",
       " 'min_samples_split',\n",
       " 'min_weight_fraction_leaf',\n",
       " 'n_estimators',\n",
       " 'n_jobs',\n",
       " 'oob_score',\n",
       " 'random_state',\n",
       " 'verbose',\n",
       " 'warm_start']"
      ]
     },
     "execution_count": 124,
     "metadata": {},
     "output_type": "execute_result"
    }
   ],
   "source": [
    "sorted(model.get_params().keys())"
   ]
  },
  {
   "cell_type": "code",
   "execution_count": 125,
   "metadata": {},
   "outputs": [],
   "source": [
    "y_max, y_min = df['salaire_maximum'], df['salaire_minimum']\n",
    "X = X_cat\n",
    "X_train, X_test, y_train, y_test = train_test_split(X, y_max, test_size=0.25, random_state = 10)"
   ]
  },
  {
   "cell_type": "code",
   "execution_count": 126,
   "metadata": {},
   "outputs": [
    {
     "data": {
      "text/html": [
       "<style>#sk-95466ca6-e234-4dc4-ae4e-a4a260259a5b {color: black;background-color: white;}#sk-95466ca6-e234-4dc4-ae4e-a4a260259a5b pre{padding: 0;}#sk-95466ca6-e234-4dc4-ae4e-a4a260259a5b div.sk-toggleable {background-color: white;}#sk-95466ca6-e234-4dc4-ae4e-a4a260259a5b label.sk-toggleable__label {cursor: pointer;display: block;width: 100%;margin-bottom: 0;padding: 0.3em;box-sizing: border-box;text-align: center;}#sk-95466ca6-e234-4dc4-ae4e-a4a260259a5b label.sk-toggleable__label-arrow:before {content: \"▸\";float: left;margin-right: 0.25em;color: #696969;}#sk-95466ca6-e234-4dc4-ae4e-a4a260259a5b label.sk-toggleable__label-arrow:hover:before {color: black;}#sk-95466ca6-e234-4dc4-ae4e-a4a260259a5b div.sk-estimator:hover label.sk-toggleable__label-arrow:before {color: black;}#sk-95466ca6-e234-4dc4-ae4e-a4a260259a5b div.sk-toggleable__content {max-height: 0;max-width: 0;overflow: hidden;text-align: left;background-color: #f0f8ff;}#sk-95466ca6-e234-4dc4-ae4e-a4a260259a5b div.sk-toggleable__content pre {margin: 0.2em;color: black;border-radius: 0.25em;background-color: #f0f8ff;}#sk-95466ca6-e234-4dc4-ae4e-a4a260259a5b input.sk-toggleable__control:checked~div.sk-toggleable__content {max-height: 200px;max-width: 100%;overflow: auto;}#sk-95466ca6-e234-4dc4-ae4e-a4a260259a5b input.sk-toggleable__control:checked~label.sk-toggleable__label-arrow:before {content: \"▾\";}#sk-95466ca6-e234-4dc4-ae4e-a4a260259a5b div.sk-estimator input.sk-toggleable__control:checked~label.sk-toggleable__label {background-color: #d4ebff;}#sk-95466ca6-e234-4dc4-ae4e-a4a260259a5b div.sk-label input.sk-toggleable__control:checked~label.sk-toggleable__label {background-color: #d4ebff;}#sk-95466ca6-e234-4dc4-ae4e-a4a260259a5b input.sk-hidden--visually {border: 0;clip: rect(1px 1px 1px 1px);clip: rect(1px, 1px, 1px, 1px);height: 1px;margin: -1px;overflow: hidden;padding: 0;position: absolute;width: 1px;}#sk-95466ca6-e234-4dc4-ae4e-a4a260259a5b div.sk-estimator {font-family: monospace;background-color: #f0f8ff;border: 1px dotted black;border-radius: 0.25em;box-sizing: border-box;margin-bottom: 0.5em;}#sk-95466ca6-e234-4dc4-ae4e-a4a260259a5b div.sk-estimator:hover {background-color: #d4ebff;}#sk-95466ca6-e234-4dc4-ae4e-a4a260259a5b div.sk-parallel-item::after {content: \"\";width: 100%;border-bottom: 1px solid gray;flex-grow: 1;}#sk-95466ca6-e234-4dc4-ae4e-a4a260259a5b div.sk-label:hover label.sk-toggleable__label {background-color: #d4ebff;}#sk-95466ca6-e234-4dc4-ae4e-a4a260259a5b div.sk-serial::before {content: \"\";position: absolute;border-left: 1px solid gray;box-sizing: border-box;top: 2em;bottom: 0;left: 50%;}#sk-95466ca6-e234-4dc4-ae4e-a4a260259a5b div.sk-serial {display: flex;flex-direction: column;align-items: center;background-color: white;padding-right: 0.2em;padding-left: 0.2em;}#sk-95466ca6-e234-4dc4-ae4e-a4a260259a5b div.sk-item {z-index: 1;}#sk-95466ca6-e234-4dc4-ae4e-a4a260259a5b div.sk-parallel {display: flex;align-items: stretch;justify-content: center;background-color: white;}#sk-95466ca6-e234-4dc4-ae4e-a4a260259a5b div.sk-parallel::before {content: \"\";position: absolute;border-left: 1px solid gray;box-sizing: border-box;top: 2em;bottom: 0;left: 50%;}#sk-95466ca6-e234-4dc4-ae4e-a4a260259a5b div.sk-parallel-item {display: flex;flex-direction: column;position: relative;background-color: white;}#sk-95466ca6-e234-4dc4-ae4e-a4a260259a5b div.sk-parallel-item:first-child::after {align-self: flex-end;width: 50%;}#sk-95466ca6-e234-4dc4-ae4e-a4a260259a5b div.sk-parallel-item:last-child::after {align-self: flex-start;width: 50%;}#sk-95466ca6-e234-4dc4-ae4e-a4a260259a5b div.sk-parallel-item:only-child::after {width: 0;}#sk-95466ca6-e234-4dc4-ae4e-a4a260259a5b div.sk-dashed-wrapped {border: 1px dashed gray;margin: 0 0.4em 0.5em 0.4em;box-sizing: border-box;padding-bottom: 0.4em;background-color: white;position: relative;}#sk-95466ca6-e234-4dc4-ae4e-a4a260259a5b div.sk-label label {font-family: monospace;font-weight: bold;background-color: white;display: inline-block;line-height: 1.2em;}#sk-95466ca6-e234-4dc4-ae4e-a4a260259a5b div.sk-label-container {position: relative;z-index: 2;text-align: center;}#sk-95466ca6-e234-4dc4-ae4e-a4a260259a5b div.sk-container {/* jupyter's `normalize.less` sets `[hidden] { display: none; }` but bootstrap.min.css set `[hidden] { display: none !important; }` so we also need the `!important` here to be able to override the default hidden behavior on the sphinx rendered scikit-learn.org. See: https://github.com/scikit-learn/scikit-learn/issues/21755 */display: inline-block !important;position: relative;}#sk-95466ca6-e234-4dc4-ae4e-a4a260259a5b div.sk-text-repr-fallback {display: none;}</style><div id=\"sk-95466ca6-e234-4dc4-ae4e-a4a260259a5b\" class=\"sk-top-container\"><div class=\"sk-text-repr-fallback\"><pre>Pipeline(steps=[(&#x27;transformation&#x27;,\n",
       "                 ColumnTransformer(transformers=[(&#x27;tf_cat&#x27;,\n",
       "                                                  Pipeline(steps=[(&#x27;pipe_imp&#x27;,\n",
       "                                                                   SimpleImputer(strategy=&#x27;most_frequent&#x27;)),\n",
       "                                                                  (&#x27;pipe_enc&#x27;,\n",
       "                                                                   OneHotEncoder(sparse=False))]),\n",
       "                                                  [&#x27;Intitulé du poste&#x27;,\n",
       "                                                   &#x27;Nom de la société&#x27;,\n",
       "                                                   &#x27;Type de contrat&#x27;]),\n",
       "                                                 (&#x27;tf_comp&#x27;, CountVectorizer(),\n",
       "                                                  &#x27;competences&#x27;)])),\n",
       "                (&#x27;model&#x27;,\n",
       "                 GridSearchCV(cv=2, estimator=RandomForestRegressor(),\n",
       "                              param_grid={&#x27;criterion&#x27;: [&#x27;squared_error&#x27;,\n",
       "                                                        &#x27;absolute_error&#x27;,\n",
       "                                                        &#x27;friedman_mse&#x27;,\n",
       "                                                        &#x27;poisson&#x27;],\n",
       "                                          &#x27;random_state&#x27;: [0, 1, 2, 3, 4, 5, 6,\n",
       "                                                           7, 8, 9, 10, 11, 12,\n",
       "                                                           13, 14, 15, 16, 17,\n",
       "                                                           18, 19, 20, 21, 22,\n",
       "                                                           23, 24, 25, 26, 27,\n",
       "                                                           28, 29, ...]}))])</pre><b>Please rerun this cell to show the HTML repr or trust the notebook.</b></div><div class=\"sk-container\" hidden><div class=\"sk-item sk-dashed-wrapped\"><div class=\"sk-label-container\"><div class=\"sk-label sk-toggleable\"><input class=\"sk-toggleable__control sk-hidden--visually\" id=\"d96e851b-caa0-4bca-9dd1-7763d8afc4a7\" type=\"checkbox\" ><label for=\"d96e851b-caa0-4bca-9dd1-7763d8afc4a7\" class=\"sk-toggleable__label sk-toggleable__label-arrow\">Pipeline</label><div class=\"sk-toggleable__content\"><pre>Pipeline(steps=[(&#x27;transformation&#x27;,\n",
       "                 ColumnTransformer(transformers=[(&#x27;tf_cat&#x27;,\n",
       "                                                  Pipeline(steps=[(&#x27;pipe_imp&#x27;,\n",
       "                                                                   SimpleImputer(strategy=&#x27;most_frequent&#x27;)),\n",
       "                                                                  (&#x27;pipe_enc&#x27;,\n",
       "                                                                   OneHotEncoder(sparse=False))]),\n",
       "                                                  [&#x27;Intitulé du poste&#x27;,\n",
       "                                                   &#x27;Nom de la société&#x27;,\n",
       "                                                   &#x27;Type de contrat&#x27;]),\n",
       "                                                 (&#x27;tf_comp&#x27;, CountVectorizer(),\n",
       "                                                  &#x27;competences&#x27;)])),\n",
       "                (&#x27;model&#x27;,\n",
       "                 GridSearchCV(cv=2, estimator=RandomForestRegressor(),\n",
       "                              param_grid={&#x27;criterion&#x27;: [&#x27;squared_error&#x27;,\n",
       "                                                        &#x27;absolute_error&#x27;,\n",
       "                                                        &#x27;friedman_mse&#x27;,\n",
       "                                                        &#x27;poisson&#x27;],\n",
       "                                          &#x27;random_state&#x27;: [0, 1, 2, 3, 4, 5, 6,\n",
       "                                                           7, 8, 9, 10, 11, 12,\n",
       "                                                           13, 14, 15, 16, 17,\n",
       "                                                           18, 19, 20, 21, 22,\n",
       "                                                           23, 24, 25, 26, 27,\n",
       "                                                           28, 29, ...]}))])</pre></div></div></div><div class=\"sk-serial\"><div class=\"sk-item sk-dashed-wrapped\"><div class=\"sk-label-container\"><div class=\"sk-label sk-toggleable\"><input class=\"sk-toggleable__control sk-hidden--visually\" id=\"fea18281-f4b1-4970-a2ff-4438c94077f3\" type=\"checkbox\" ><label for=\"fea18281-f4b1-4970-a2ff-4438c94077f3\" class=\"sk-toggleable__label sk-toggleable__label-arrow\">transformation: ColumnTransformer</label><div class=\"sk-toggleable__content\"><pre>ColumnTransformer(transformers=[(&#x27;tf_cat&#x27;,\n",
       "                                 Pipeline(steps=[(&#x27;pipe_imp&#x27;,\n",
       "                                                  SimpleImputer(strategy=&#x27;most_frequent&#x27;)),\n",
       "                                                 (&#x27;pipe_enc&#x27;,\n",
       "                                                  OneHotEncoder(sparse=False))]),\n",
       "                                 [&#x27;Intitulé du poste&#x27;, &#x27;Nom de la société&#x27;,\n",
       "                                  &#x27;Type de contrat&#x27;]),\n",
       "                                (&#x27;tf_comp&#x27;, CountVectorizer(), &#x27;competences&#x27;)])</pre></div></div></div><div class=\"sk-parallel\"><div class=\"sk-parallel-item\"><div class=\"sk-item\"><div class=\"sk-label-container\"><div class=\"sk-label sk-toggleable\"><input class=\"sk-toggleable__control sk-hidden--visually\" id=\"9ed64101-a095-49dc-826e-8a8b7e6fa0b4\" type=\"checkbox\" ><label for=\"9ed64101-a095-49dc-826e-8a8b7e6fa0b4\" class=\"sk-toggleable__label sk-toggleable__label-arrow\">tf_cat</label><div class=\"sk-toggleable__content\"><pre>[&#x27;Intitulé du poste&#x27;, &#x27;Nom de la société&#x27;, &#x27;Type de contrat&#x27;]</pre></div></div></div><div class=\"sk-serial\"><div class=\"sk-item\"><div class=\"sk-serial\"><div class=\"sk-item\"><div class=\"sk-estimator sk-toggleable\"><input class=\"sk-toggleable__control sk-hidden--visually\" id=\"aee65fb7-f0de-4289-b1c5-a47927a4e4df\" type=\"checkbox\" ><label for=\"aee65fb7-f0de-4289-b1c5-a47927a4e4df\" class=\"sk-toggleable__label sk-toggleable__label-arrow\">SimpleImputer</label><div class=\"sk-toggleable__content\"><pre>SimpleImputer(strategy=&#x27;most_frequent&#x27;)</pre></div></div></div><div class=\"sk-item\"><div class=\"sk-estimator sk-toggleable\"><input class=\"sk-toggleable__control sk-hidden--visually\" id=\"fefbb3bd-9b37-44c0-ab6b-ea40d6032ff6\" type=\"checkbox\" ><label for=\"fefbb3bd-9b37-44c0-ab6b-ea40d6032ff6\" class=\"sk-toggleable__label sk-toggleable__label-arrow\">OneHotEncoder</label><div class=\"sk-toggleable__content\"><pre>OneHotEncoder(sparse=False)</pre></div></div></div></div></div></div></div></div><div class=\"sk-parallel-item\"><div class=\"sk-item\"><div class=\"sk-label-container\"><div class=\"sk-label sk-toggleable\"><input class=\"sk-toggleable__control sk-hidden--visually\" id=\"b43a7a49-4f10-4603-bac2-579f50005afe\" type=\"checkbox\" ><label for=\"b43a7a49-4f10-4603-bac2-579f50005afe\" class=\"sk-toggleable__label sk-toggleable__label-arrow\">tf_comp</label><div class=\"sk-toggleable__content\"><pre>competences</pre></div></div></div><div class=\"sk-serial\"><div class=\"sk-item\"><div class=\"sk-estimator sk-toggleable\"><input class=\"sk-toggleable__control sk-hidden--visually\" id=\"0b5f4b9d-5923-4b74-b409-e87f87da9622\" type=\"checkbox\" ><label for=\"0b5f4b9d-5923-4b74-b409-e87f87da9622\" class=\"sk-toggleable__label sk-toggleable__label-arrow\">CountVectorizer</label><div class=\"sk-toggleable__content\"><pre>CountVectorizer()</pre></div></div></div></div></div></div></div></div><div class=\"sk-item sk-dashed-wrapped\"><div class=\"sk-label-container\"><div class=\"sk-label sk-toggleable\"><input class=\"sk-toggleable__control sk-hidden--visually\" id=\"36dc653e-9a1e-4b1d-98d5-6e56ac8d94d4\" type=\"checkbox\" ><label for=\"36dc653e-9a1e-4b1d-98d5-6e56ac8d94d4\" class=\"sk-toggleable__label sk-toggleable__label-arrow\">model: GridSearchCV</label><div class=\"sk-toggleable__content\"><pre>GridSearchCV(cv=2, estimator=RandomForestRegressor(),\n",
       "             param_grid={&#x27;criterion&#x27;: [&#x27;squared_error&#x27;, &#x27;absolute_error&#x27;,\n",
       "                                       &#x27;friedman_mse&#x27;, &#x27;poisson&#x27;],\n",
       "                         &#x27;random_state&#x27;: [0, 1, 2, 3, 4, 5, 6, 7, 8, 9, 10, 11,\n",
       "                                          12, 13, 14, 15, 16, 17, 18, 19, 20,\n",
       "                                          21, 22, 23, 24, 25, 26, 27, 28, 29, ...]})</pre></div></div></div><div class=\"sk-parallel\"><div class=\"sk-parallel-item\"><div class=\"sk-item\"><div class=\"sk-serial\"><div class=\"sk-item\"><div class=\"sk-estimator sk-toggleable\"><input class=\"sk-toggleable__control sk-hidden--visually\" id=\"37292c21-8fcf-44d9-b764-7caec53ad5a6\" type=\"checkbox\" ><label for=\"37292c21-8fcf-44d9-b764-7caec53ad5a6\" class=\"sk-toggleable__label sk-toggleable__label-arrow\">RandomForestRegressor</label><div class=\"sk-toggleable__content\"><pre>RandomForestRegressor()</pre></div></div></div></div></div></div></div></div></div></div></div></div>"
      ],
      "text/plain": [
       "Pipeline(steps=[('transformation',\n",
       "                 ColumnTransformer(transformers=[('tf_cat',\n",
       "                                                  Pipeline(steps=[('pipe_imp',\n",
       "                                                                   SimpleImputer(strategy='most_frequent')),\n",
       "                                                                  ('pipe_enc',\n",
       "                                                                   OneHotEncoder(sparse=False))]),\n",
       "                                                  ['Intitulé du poste',\n",
       "                                                   'Nom de la société',\n",
       "                                                   'Type de contrat']),\n",
       "                                                 ('tf_comp', CountVectorizer(),\n",
       "                                                  'competences')])),\n",
       "                ('model',\n",
       "                 GridSearchCV(cv=2, estimator=RandomForestRegressor(),\n",
       "                              param_grid={'criterion': ['squared_error',\n",
       "                                                        'absolute_error',\n",
       "                                                        'friedman_mse',\n",
       "                                                        'poisson'],\n",
       "                                          'random_state': [0, 1, 2, 3, 4, 5, 6,\n",
       "                                                           7, 8, 9, 10, 11, 12,\n",
       "                                                           13, 14, 15, 16, 17,\n",
       "                                                           18, 19, 20, 21, 22,\n",
       "                                                           23, 24, 25, 26, 27,\n",
       "                                                           28, 29, ...]}))])"
      ]
     },
     "execution_count": 126,
     "metadata": {},
     "output_type": "execute_result"
    }
   ],
   "source": [
    "set_config(display='diagram')\n",
    "final_pipe"
   ]
  },
  {
   "cell_type": "code",
   "execution_count": 127,
   "metadata": {},
   "outputs": [
    {
     "name": "stdout",
     "output_type": "stream",
     "text": [
      "RFR: 0.72169\n",
      "best params :  {'criterion': 'absolute_error', 'random_state': 37}\n"
     ]
    }
   ],
   "source": [
    "# Evaluation du score de prédiction pour le salaire maximum\n",
    "final_pipe.fit(X_train, y_train)\n",
    "y_max_pred = final_pipe.predict(X_test)\n",
    "print(\"RFR:\", round(r2_score(y_test, y_max_pred), 5))\n",
    "print(\"best params : \", final_pipe['model'].best_params_)"
   ]
  },
  {
   "cell_type": "code",
   "execution_count": 128,
   "metadata": {},
   "outputs": [
    {
     "name": "stdout",
     "output_type": "stream",
     "text": [
      "RFR: 0.72169\n",
      "best params :  {'criterion': 'absolute_error', 'random_state': 37}\n"
     ]
    }
   ],
   "source": [
    "# Evaluation du score de prédiction pour le salaire minimum\n",
    "final_pipe.fit(X_train, y_train)\n",
    "y_min_pred = final_pipe.predict(X_test)\n",
    "print(\"RFR:\", round(r2_score(y_test, y_max_pred), 5))\n",
    "print(\"best params : \", final_pipe['model'].best_params_)"
   ]
  }
 ],
 "metadata": {
  "kernelspec": {
   "display_name": "Python 3 (ipykernel)",
   "language": "python",
   "name": "python3"
  },
  "language_info": {
   "codemirror_mode": {
    "name": "ipython",
    "version": 3
   },
   "file_extension": ".py",
   "mimetype": "text/x-python",
   "name": "python",
   "nbconvert_exporter": "python",
   "pygments_lexer": "ipython3",
   "version": "3.9.13"
  },
  "vscode": {
   "interpreter": {
    "hash": "70cfd609d7ba4145b3fedff821ecc63fd4c765afddbe882b67e97f0bba880cb4"
   }
  }
 },
 "nbformat": 4,
 "nbformat_minor": 4
}
